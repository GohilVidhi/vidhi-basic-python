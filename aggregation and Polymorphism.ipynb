{
 "cells": [
  {
   "cell_type": "markdown",
   "id": "85482e76",
   "metadata": {},
   "source": [
    "# aggregation"
   ]
  },
  {
   "cell_type": "raw",
   "id": "1d00b85b",
   "metadata": {},
   "source": [
    "Aggregation is a concept in which an object of one class can own or access properties of another independent object of another class."
   ]
  },
  {
   "cell_type": "code",
   "execution_count": 1,
   "id": "fa9dcc2c",
   "metadata": {},
   "outputs": [],
   "source": [
    "class Student:\n",
    "    def __init__(self,name,age,address):\n",
    "        self.name = name\n",
    "        self.age = age\n",
    "        self.address = address\n",
    "        \n",
    "class Address:\n",
    "    def __init__(self,city,area,pincode):\n",
    "        self.city=city\n",
    "        self.area=area\n",
    "        self.pincode = pincode"
   ]
  },
  {
   "cell_type": "code",
   "execution_count": 2,
   "id": "fc6e7cef",
   "metadata": {},
   "outputs": [],
   "source": [
    "add = Address('ahmedabad','sardhar',12345)"
   ]
  },
  {
   "cell_type": "code",
   "execution_count": 3,
   "id": "9dfc27bd",
   "metadata": {},
   "outputs": [],
   "source": [
    "s1 = Student('deep',20,add)"
   ]
  },
  {
   "cell_type": "code",
   "execution_count": 9,
   "id": "0b05a2ed",
   "metadata": {},
   "outputs": [
    {
     "name": "stdout",
     "output_type": "stream",
     "text": [
      "deep\n",
      "20\n",
      "<__main__.Address object at 0x000001BAB3FEF760>\n",
      "ahmedabad\n",
      "sardhar\n",
      "12345\n"
     ]
    }
   ],
   "source": [
    "print(s1.name)\n",
    "print(s1.age)\n",
    "print(s1.address) \n",
    "print(s1.address.city)\n",
    "print(s1.address.area)\n",
    "print(s1.address.pincode)"
   ]
  },
  {
   "cell_type": "markdown",
   "id": "20f58b66",
   "metadata": {},
   "source": [
    "# Polymorphism"
   ]
  },
  {
   "cell_type": "code",
   "execution_count": null,
   "id": "50ff7424",
   "metadata": {},
   "outputs": [],
   "source": [
    "mthod overloading"
   ]
  },
  {
   "cell_type": "code",
   "execution_count": 14,
   "id": "da8beef2",
   "metadata": {},
   "outputs": [
    {
     "name": "stdout",
     "output_type": "stream",
     "text": [
      "Area of circle is  154.0\n",
      "Area of ractangel is   200\n"
     ]
    }
   ],
   "source": [
    "class Geo:\n",
    "    \n",
    "    def area(self,a,b=0):\n",
    "        self.a = a\n",
    "        self.b = b\n",
    "        \n",
    "        if b == 0 :\n",
    "            print('Area of circle is ',(22/7)*self.a**2)\n",
    "        else:\n",
    "            print('Area of ractangel is  ',self.a*self.b)\n",
    "            \n",
    "circle = Geo()\n",
    "circle.area(7)\n",
    "\n",
    "ractangel = Geo()\n",
    "ractangel.area(10,20)"
   ]
  },
  {
   "cell_type": "code",
   "execution_count": null,
   "id": "a17deaf7",
   "metadata": {},
   "outputs": [],
   "source": [
    "mathod overriding"
   ]
  },
  {
   "cell_type": "code",
   "execution_count": 15,
   "id": "45ad53b9",
   "metadata": {},
   "outputs": [
    {
     "name": "stdout",
     "output_type": "stream",
     "text": [
      "this is child\n"
     ]
    }
   ],
   "source": [
    "class parent:\n",
    "    def fun1(self):\n",
    "        print('this is parents')\n",
    "        \n",
    "class child(parent):\n",
    "    def fun1(Self):   # here we overide old method\n",
    "        print('this is child')\n",
    "        \n",
    "ob = child()\n",
    "ob.fun1()"
   ]
  },
  {
   "cell_type": "code",
   "execution_count": null,
   "id": "1360eacc",
   "metadata": {},
   "outputs": [],
   "source": []
  }
 ],
 "metadata": {
  "kernelspec": {
   "display_name": "Python 3 (ipykernel)",
   "language": "python",
   "name": "python3"
  },
  "language_info": {
   "codemirror_mode": {
    "name": "ipython",
    "version": 3
   },
   "file_extension": ".py",
   "mimetype": "text/x-python",
   "name": "python",
   "nbconvert_exporter": "python",
   "pygments_lexer": "ipython3",
   "version": "3.9.12"
  }
 },
 "nbformat": 4,
 "nbformat_minor": 5
}
