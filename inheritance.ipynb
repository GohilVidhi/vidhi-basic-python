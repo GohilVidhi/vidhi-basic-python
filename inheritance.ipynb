{
 "cells": [
  {
   "cell_type": "markdown",
   "id": "835b9205",
   "metadata": {},
   "source": [
    "### single level inheritance"
   ]
  },
  {
   "cell_type": "code",
   "execution_count": 3,
   "id": "034fe0e7",
   "metadata": {},
   "outputs": [],
   "source": [
    "class Parent:\n",
    "    def fun1(self):\n",
    "        print('this is parent class')\n",
    "        \n",
    "class Child(Parent):\n",
    "    def fun2(self):\n",
    "        print('this is child class')"
   ]
  },
  {
   "cell_type": "code",
   "execution_count": 4,
   "id": "fe18b12e",
   "metadata": {},
   "outputs": [
    {
     "name": "stdout",
     "output_type": "stream",
     "text": [
      "this is child class\n",
      "this is parent classsss\n"
     ]
    }
   ],
   "source": [
    "obj = Child()\n",
    "obj.fun2()\n",
    "obj.fun1()"
   ]
  },
  {
   "cell_type": "markdown",
   "id": "f87a5f46",
   "metadata": {},
   "source": [
    "### multilevel inheritance"
   ]
  },
  {
   "cell_type": "code",
   "execution_count": 5,
   "id": "c9dc2508",
   "metadata": {},
   "outputs": [],
   "source": [
    "class Grand_parents:\n",
    "    def fun(self):\n",
    "        print('this is grand parents classsss')\n",
    "        \n",
    "class Parent(Grand_parents):\n",
    "    def fun1(self):\n",
    "        print('this is parent class')\n",
    "        \n",
    "class Child(Parent):\n",
    "    def fun2(self):\n",
    "        print('this is child class')"
   ]
  },
  {
   "cell_type": "code",
   "execution_count": 6,
   "id": "2d87da5a",
   "metadata": {},
   "outputs": [
    {
     "name": "stdout",
     "output_type": "stream",
     "text": [
      "this is grand parents classsss\n",
      "this is parent class\n",
      "this is child class\n"
     ]
    }
   ],
   "source": [
    "c = Child()\n",
    "c.fun()\n",
    "c.fun1()\n",
    "c.fun2()"
   ]
  },
  {
   "cell_type": "code",
   "execution_count": 8,
   "id": "219405c5",
   "metadata": {},
   "outputs": [
    {
     "name": "stdout",
     "output_type": "stream",
     "text": [
      "this is grand parents class\n",
      "this is parent class\n"
     ]
    }
   ],
   "source": [
    "p = Parent()\n",
    "p.fun()\n",
    "p.fun1()\n",
    "# p.fun2()"
   ]
  },
  {
   "cell_type": "markdown",
   "id": "02b606a1",
   "metadata": {},
   "source": [
    "### multiple inheritance"
   ]
  },
  {
   "cell_type": "code",
   "execution_count": 13,
   "id": "f991031f",
   "metadata": {},
   "outputs": [],
   "source": [
    "class Dady:\n",
    "    def fun1(self):\n",
    "        print('this is Dady class')\n",
    "        \n",
    "class Mom:\n",
    "    def fun(self):\n",
    "        print('this is Mom class')\n",
    "        \n",
    "class Child(Dady,Mom):\n",
    "    def fun2(self):\n",
    "        print('this is child class')"
   ]
  },
  {
   "cell_type": "code",
   "execution_count": 15,
   "id": "c1a70345",
   "metadata": {},
   "outputs": [
    {
     "name": "stdout",
     "output_type": "stream",
     "text": [
      "this is Mom class\n",
      "this is Dady class\n",
      "this is child class\n"
     ]
    }
   ],
   "source": [
    "c = Child()\n",
    "c.fun()\n",
    "c.fun1()\n",
    "c.fun2()"
   ]
  },
  {
   "cell_type": "code",
   "execution_count": 16,
   "id": "b9c73e83",
   "metadata": {},
   "outputs": [],
   "source": [
    "class Dady:\n",
    "    def fun1(self):\n",
    "        print('this is Dady class')\n",
    "        \n",
    "class Mom:\n",
    "    def fun1(self):\n",
    "        print('this is Mom class')\n",
    "        \n",
    "class Child(Dady,Mom):  #first class in inheritance will dominate his method and attributer\n",
    "    def fun2(self):\n",
    "        print('this is child class')"
   ]
  },
  {
   "cell_type": "code",
   "execution_count": 17,
   "id": "152b9646",
   "metadata": {},
   "outputs": [
    {
     "name": "stdout",
     "output_type": "stream",
     "text": [
      "this is Dady class\n"
     ]
    }
   ],
   "source": [
    "c = Child()\n",
    "c.fun1()"
   ]
  },
  {
   "cell_type": "code",
   "execution_count": 18,
   "id": "f8da994f",
   "metadata": {},
   "outputs": [],
   "source": [
    "class Dady:\n",
    "    def fun1(self):\n",
    "        print('this is Dady class')\n",
    "        \n",
    "class Mom:\n",
    "    def fun1(self):\n",
    "        print('this is Mom class')\n",
    "        \n",
    "class Child(Mom,Dady):  #first class in inheritance will dominate his method and attributer\n",
    "    def fun2(self):\n",
    "        print('this is child class')"
   ]
  },
  {
   "cell_type": "code",
   "execution_count": 19,
   "id": "f259ccb0",
   "metadata": {},
   "outputs": [
    {
     "name": "stdout",
     "output_type": "stream",
     "text": [
      "this is Mom class\n"
     ]
    }
   ],
   "source": [
    "c = Child()\n",
    "c.fun1()"
   ]
  },
  {
   "cell_type": "markdown",
   "id": "db7d249f",
   "metadata": {},
   "source": [
    "### hierrichal inheritance"
   ]
  },
  {
   "cell_type": "code",
   "execution_count": 20,
   "id": "5b99350f",
   "metadata": {},
   "outputs": [],
   "source": [
    "class Boss:\n",
    "    def fun(self):\n",
    "        print('this is Boss class')\n",
    "        \n",
    "class Employ1(Boss):\n",
    "    def fun1(self):\n",
    "        print('this is Employ1 class')\n",
    "        \n",
    "class Employ2(Boss):\n",
    "    def fun2(self):\n",
    "        print('this is Employ2 class')\n",
    "        \n",
    "class Employ3(Boss):\n",
    "    def fun3(self):\n",
    "        print('this is Employ3 class')"
   ]
  },
  {
   "cell_type": "code",
   "execution_count": 21,
   "id": "bc847ede",
   "metadata": {},
   "outputs": [
    {
     "name": "stdout",
     "output_type": "stream",
     "text": [
      "this is Employ1 class\n",
      "this is Boss class\n"
     ]
    }
   ],
   "source": [
    "e1 = Employ1()\n",
    "e1.fun1()\n",
    "e1.fun()"
   ]
  },
  {
   "cell_type": "code",
   "execution_count": 24,
   "id": "ae62f1cc",
   "metadata": {},
   "outputs": [
    {
     "name": "stdout",
     "output_type": "stream",
     "text": [
      "this is Employ2 class\n",
      "this is Boss class\n"
     ]
    }
   ],
   "source": [
    "e2 = Employ2()\n",
    "e2.fun2()\n",
    "e2.fun()"
   ]
  },
  {
   "cell_type": "code",
   "execution_count": 25,
   "id": "728848d9",
   "metadata": {},
   "outputs": [
    {
     "name": "stdout",
     "output_type": "stream",
     "text": [
      "this is Employ3 class\n",
      "this is Boss class\n"
     ]
    }
   ],
   "source": [
    "e3 = Employ3()\n",
    "e3.fun3()\n",
    "e3.fun()"
   ]
  },
  {
   "cell_type": "code",
   "execution_count": 26,
   "id": "5f41c4c0",
   "metadata": {},
   "outputs": [],
   "source": [
    "class Dady:\n",
    "    def fun1(self):\n",
    "        print('this is Dady class')\n",
    "        \n",
    "class Child1(Dady):\n",
    "    def fun(self):\n",
    "        print('this is child1 class')\n",
    "        \n",
    "class Child2(Dady):\n",
    "    def fun2(self):\n",
    "        print('this is child2 class')"
   ]
  },
  {
   "cell_type": "code",
   "execution_count": 27,
   "id": "ab113e73",
   "metadata": {},
   "outputs": [
    {
     "name": "stdout",
     "output_type": "stream",
     "text": [
      "this is child1 class\n",
      "this is Dady class\n"
     ]
    }
   ],
   "source": [
    "c1 = Child1()\n",
    "c1.fun()\n",
    "c1.fun1()"
   ]
  },
  {
   "cell_type": "code",
   "execution_count": 28,
   "id": "c9f6e3f4",
   "metadata": {},
   "outputs": [
    {
     "name": "stdout",
     "output_type": "stream",
     "text": [
      "this is child2 class\n",
      "this is Dady class\n"
     ]
    }
   ],
   "source": [
    "c2 = Child2()\n",
    "c2.fun2()\n",
    "c2.fun1()"
   ]
  },
  {
   "cell_type": "markdown",
   "id": "2f02acc1",
   "metadata": {},
   "source": [
    "### hybrid inheritance"
   ]
  },
  {
   "cell_type": "code",
   "execution_count": 44,
   "id": "21aca616",
   "metadata": {},
   "outputs": [
    {
     "name": "stdout",
     "output_type": "stream",
     "text": [
      "this is parent\n",
      "this is child 2\n",
      "this is parent\n"
     ]
    }
   ],
   "source": [
    "# morethen one inheritance method is used then it's called hybrid inheritance\n",
    "\n",
    "class Parent:\n",
    "    def fun(self):\n",
    "        print('this is parent')\n",
    "        \n",
    "        \n",
    "class child1(Parent):\n",
    "    def fun2(self):\n",
    "        print('this is child 2')\n",
    "        \n",
    "class younger(child1,Parent):\n",
    "    def fun1(self):\n",
    "        print('this is child 1')\n",
    "        \n",
    "c1 = younger()\n",
    "c1.fun()\n",
    "c1.fun2()\n",
    "\n",
    "c2 = child1()\n",
    "c2.fun()"
   ]
  },
  {
   "cell_type": "code",
   "execution_count": 30,
   "id": "7bd78597",
   "metadata": {},
   "outputs": [
    {
     "ename": "TypeError",
     "evalue": "Cannot create a consistent method resolution\norder (MRO) for bases dad, elder",
     "output_type": "error",
     "traceback": [
      "\u001b[1;31m---------------------------------------------------------------------------\u001b[0m",
      "\u001b[1;31mTypeError\u001b[0m                                 Traceback (most recent call last)",
      "Input \u001b[1;32mIn [30]\u001b[0m, in \u001b[0;36m<cell line: 15>\u001b[1;34m()\u001b[0m\n\u001b[0;32m     12\u001b[0m     \u001b[38;5;28;01mdef\u001b[39;00m \u001b[38;5;21mfun1\u001b[39m(\u001b[38;5;28mself\u001b[39m):\n\u001b[0;32m     13\u001b[0m         \u001b[38;5;28mprint\u001b[39m(\u001b[38;5;124m'\u001b[39m\u001b[38;5;124mthis is child 1\u001b[39m\u001b[38;5;124m'\u001b[39m)\n\u001b[1;32m---> 15\u001b[0m \u001b[38;5;28;01mclass\u001b[39;00m \u001b[38;5;21;01mchild\u001b[39;00m(mom,dad,elder):\n\u001b[0;32m     16\u001b[0m     \u001b[38;5;28;01mdef\u001b[39;00m \u001b[38;5;21mfun2\u001b[39m(\u001b[38;5;28mself\u001b[39m):\n\u001b[0;32m     17\u001b[0m         \u001b[38;5;28mprint\u001b[39m(\u001b[38;5;124m'\u001b[39m\u001b[38;5;124mthis is child 2\u001b[39m\u001b[38;5;124m'\u001b[39m)\n",
      "\u001b[1;31mTypeError\u001b[0m: Cannot create a consistent method resolution\norder (MRO) for bases dad, elder"
     ]
    }
   ],
   "source": [
    "# morethen one inheritance method is used then it's called hybrid inheritance\n",
    "\n",
    "class dad:\n",
    "    def dady(self):\n",
    "        print('this is dady')\n",
    "\n",
    "class mom(dad):\n",
    "    def fun(self):\n",
    "        print('this is parent')\n",
    "              \n",
    "class elder(dad):\n",
    "    def fun1(self):\n",
    "        print('this is child 1')\n",
    "        \n",
    "class child(mom,dad,elder): #when you are work with inheritance situation like this the inherite down to upward\n",
    "    def fun2(self):\n",
    "        print('this is child 2')"
   ]
  },
  {
   "cell_type": "code",
   "execution_count": 36,
   "id": "3c97b1d0",
   "metadata": {},
   "outputs": [],
   "source": [
    "class dad:\n",
    "    def dady(self):\n",
    "        print('this is dady')\n",
    "\n",
    "class mom(dad):\n",
    "    def fun(self):\n",
    "        print('this is parent')\n",
    "              \n",
    "class elder(mom,dad):\n",
    "    def fun1(self):\n",
    "        print('this is child 1')\n",
    "        \n",
    "class child(elder,mom,dad): #when you are work with inheritance situation like this the inherite down to upward\n",
    "    def fun2(self):\n",
    "        print('this is child 2')"
   ]
  },
  {
   "cell_type": "code",
   "execution_count": 37,
   "id": "ba4dfba8",
   "metadata": {},
   "outputs": [
    {
     "name": "stdout",
     "output_type": "stream",
     "text": [
      "this is dady\n",
      "this is parent\n",
      "this is child 1\n",
      "this is child 2\n"
     ]
    }
   ],
   "source": [
    "c = child()\n",
    "c.dady()\n",
    "c.fun()\n",
    "c.fun1()\n",
    "c.fun2()"
   ]
  },
  {
   "cell_type": "code",
   "execution_count": 40,
   "id": "c9f5053f",
   "metadata": {},
   "outputs": [
    {
     "name": "stdout",
     "output_type": "stream",
     "text": [
      "this is dady\n",
      "this is parent\n",
      "this is child 1\n"
     ]
    }
   ],
   "source": [
    "c1 = elder()\n",
    "c1.dady()\n",
    "c1.fun()\n",
    "c1.fun1()"
   ]
  },
  {
   "cell_type": "code",
   "execution_count": null,
   "id": "bcb750e2",
   "metadata": {},
   "outputs": [],
   "source": [
    "\n"
   ]
  }
 ],
 "metadata": {
  "kernelspec": {
   "display_name": "Python 3 (ipykernel)",
   "language": "python",
   "name": "python3"
  },
  "language_info": {
   "codemirror_mode": {
    "name": "ipython",
    "version": 3
   },
   "file_extension": ".py",
   "mimetype": "text/x-python",
   "name": "python",
   "nbconvert_exporter": "python",
   "pygments_lexer": "ipython3",
   "version": "3.12.1"
  }
 },
 "nbformat": 4,
 "nbformat_minor": 5
}
