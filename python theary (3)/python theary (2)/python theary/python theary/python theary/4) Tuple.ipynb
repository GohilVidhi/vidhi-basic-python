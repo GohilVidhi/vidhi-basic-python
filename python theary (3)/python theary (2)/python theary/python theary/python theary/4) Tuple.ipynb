{
 "cells": [
  {
   "cell_type": "markdown",
   "id": "fef51a8d",
   "metadata": {},
   "source": [
    "# Tuple"
   ]
  },
  {
   "cell_type": "code",
   "execution_count": 1,
   "id": "b95d01e0",
   "metadata": {},
   "outputs": [],
   "source": [
    "# Tuple used to store multiple items in a single variable.\n",
    "# Created using \"()\".\n",
    "# collection in orderd\n",
    "# immutable (unchangeble)\n",
    "# indexing supporting"
   ]
  },
  {
   "cell_type": "code",
   "execution_count": 3,
   "id": "33fde942",
   "metadata": {},
   "outputs": [
    {
     "name": "stdout",
     "output_type": "stream",
     "text": [
      "<class 'tuple'>\n"
     ]
    }
   ],
   "source": [
    "tp = (1,)\n",
    "print(type(tp))"
   ]
  },
  {
   "cell_type": "code",
   "execution_count": 3,
   "id": "77c06381",
   "metadata": {},
   "outputs": [
    {
     "name": "stdout",
     "output_type": "stream",
     "text": [
      "(50, [8, 7.5], (5, 'Dvs'), {True, 'Anand', 3.14}, {56: 'Apple'})\n"
     ]
    }
   ],
   "source": [
    "tp = (50,[8,7.5],(5,\"Dvs\"),{3.14,True,\"Anand\"},{56:\"Apple\"})\n",
    "print(tp)"
   ]
  },
  {
   "cell_type": "markdown",
   "id": "f81dee32",
   "metadata": {},
   "source": [
    "# Indexing"
   ]
  },
  {
   "cell_type": "code",
   "execution_count": 27,
   "id": "eda467b1",
   "metadata": {},
   "outputs": [
    {
     "name": "stdout",
     "output_type": "stream",
     "text": [
      "1\n",
      "('ram', 8j, True)\n",
      "(1, 'ram', 8j)\n",
      "3.14\n",
      "(8j, True, None, (1, 2, 3), 3.14)\n",
      "(3.14, (1, 2, 3), None, True, 8j, 'ram', 1)\n",
      "(1, 2, 3)\n",
      "(1, 2)\n"
     ]
    }
   ],
   "source": []
  },
  {
   "cell_type": "markdown",
   "id": "e21b4234",
   "metadata": {},
   "source": [
    "# Functions"
   ]
  },
  {
   "cell_type": "code",
   "execution_count": 4,
   "id": "03a27f5a",
   "metadata": {},
   "outputs": [
    {
     "name": "stdout",
     "output_type": "stream",
     "text": [
      "3\n"
     ]
    }
   ],
   "source": [
    "tp = (1,2,3,4,1,2,1,4,5)\n",
    "print(tp.count(1))"
   ]
  },
  {
   "cell_type": "code",
   "execution_count": 9,
   "id": "be45249d",
   "metadata": {},
   "outputs": [
    {
     "data": {
      "text/plain": [
       "0"
      ]
     },
     "execution_count": 9,
     "metadata": {},
     "output_type": "execute_result"
    }
   ],
   "source": [
    "tp = (1,2,3,4,1,2,1,4,5)\n",
    "#     0,1,2,3,4,5,6,7,8  \n",
    "tp.index(1)"
   ]
  },
  {
   "cell_type": "code",
   "execution_count": 19,
   "id": "ff8f417e",
   "metadata": {},
   "outputs": [
    {
     "name": "stdout",
     "output_type": "stream",
     "text": [
      "10\n"
     ]
    }
   ],
   "source": [
    "tp = (1,2,3,4,1,2,1,4,5,6)\n",
    "print(len(tp))"
   ]
  },
  {
   "cell_type": "code",
   "execution_count": 10,
   "id": "e4d10148",
   "metadata": {},
   "outputs": [
    {
     "data": {
      "text/plain": [
       "(1, 2, 3, 4, 5, 6)"
      ]
     },
     "execution_count": 10,
     "metadata": {},
     "output_type": "execute_result"
    }
   ],
   "source": [
    "tp1 = (1,2,3)\n",
    "tp2 = (4,5,6)\n",
    "tp1=tp1+tp2\n",
    "tp1 += tp2\n",
    "tp1"
   ]
  },
  {
   "cell_type": "code",
   "execution_count": 13,
   "id": "ad24f51c",
   "metadata": {},
   "outputs": [
    {
     "data": {
      "text/plain": [
       "(1, 2, 3, 1, 2, 3)"
      ]
     },
     "execution_count": 13,
     "metadata": {},
     "output_type": "execute_result"
    }
   ],
   "source": [
    "tp = (1,2,3)\n",
    "tp1 = tp*2\n",
    "tp1"
   ]
  },
  {
   "cell_type": "code",
   "execution_count": 16,
   "id": "5c80b680",
   "metadata": {},
   "outputs": [
    {
     "name": "stdout",
     "output_type": "stream",
     "text": [
      "[1, 2, 3]\n",
      "[1, 2, 3, 859]\n",
      "(1, 2, 3, 859)\n"
     ]
    }
   ],
   "source": [
    "tp = (1,2,3)\n",
    "tp1 = list(tp)\n",
    "print(tp1)\n",
    "\n",
    "tp1.append(859)\n",
    "print(tp1)\n",
    "\n",
    "tp2 = tuple(tp1)\n",
    "print(tp2)"
   ]
  }
 ],
 "metadata": {
  "kernelspec": {
   "display_name": "Python 3.8.2 64-bit",
   "language": "python",
   "name": "python3"
  },
  "language_info": {
   "codemirror_mode": {
    "name": "ipython",
    "version": 3
   },
   "file_extension": ".py",
   "mimetype": "text/x-python",
   "name": "python",
   "nbconvert_exporter": "python",
   "pygments_lexer": "ipython3",
   "version": "3.8.2"
  },
  "vscode": {
   "interpreter": {
    "hash": "bcc88a5c2b6accdcaf39c87a931cb715cc1ab684beb32819a99a5a377f971b8d"
   }
  }
 },
 "nbformat": 4,
 "nbformat_minor": 5
}
