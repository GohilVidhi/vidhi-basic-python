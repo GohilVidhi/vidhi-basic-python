{
 "cells": [
  {
   "cell_type": "markdown",
   "id": "bb0a09a3",
   "metadata": {},
   "source": [
    "# Dictionary"
   ]
  },
  {
   "cell_type": "code",
   "execution_count": 1,
   "id": "8375ebf1",
   "metadata": {},
   "outputs": [],
   "source": [
    "# used to store data value in KEY:VALUE pairs.\n",
    "# key must be unique , value duplication allow\n",
    "# python 3.7 is unordered but ptyhon 3.6 is ordered.\n",
    "# indexing supporting"
   ]
  },
  {
   "cell_type": "code",
   "execution_count": 1,
   "id": "85a0f926",
   "metadata": {},
   "outputs": [
    {
     "name": "stdout",
     "output_type": "stream",
     "text": [
      "{'a': 123, 'b': 45, 46: 'har'}\n"
     ]
    }
   ],
   "source": [
    "a = { 'a':123 , \n",
    "     'b':45 , \n",
    "     46:'har' }\n",
    "print(a)"
   ]
  },
  {
   "cell_type": "code",
   "execution_count": 1,
   "id": "54ee8f57",
   "metadata": {},
   "outputs": [
    {
     "name": "stdout",
     "output_type": "stream",
     "text": [
      "{1: [1, 2, 3], 'b': (1, 2, 3), 'c': {1, 2, 3}}\n"
     ]
    }
   ],
   "source": [
    "a = {1 : [ 1,2,3] , 'b':(1,2,3) , 'c' : {1,2,3} }\n",
    "print(a)"
   ]
  },
  {
   "cell_type": "code",
   "execution_count": 6,
   "id": "ced7c02d",
   "metadata": {},
   "outputs": [
    {
     "name": "stdout",
     "output_type": "stream",
     "text": [
      "3\n",
      "{'a': [1, 2, 5], 'b': (1, 2, 3), 'c': {1, 2, 3}}\n"
     ]
    }
   ],
   "source": []
  },
  {
   "cell_type": "code",
   "execution_count": 9,
   "id": "03ecf0d1",
   "metadata": {},
   "outputs": [
    {
     "name": "stdout",
     "output_type": "stream",
     "text": [
      "{'hight': 195, 'weight': 58}\n"
     ]
    }
   ],
   "source": [
    "a = { 'Divyesh':{'hight' : 168, 'weight':58} , 'Sahil':{'hight' : 195, 'weight':58}}\n",
    "print(a['Sahil'])"
   ]
  },
  {
   "cell_type": "code",
   "execution_count": 6,
   "id": "91230051",
   "metadata": {},
   "outputs": [
    {
     "name": "stdout",
     "output_type": "stream",
     "text": [
      "123\n",
      "12\n",
      "{'a': 123, 'b': 45, 46: 'Ram'}\n"
     ]
    }
   ],
   "source": [
    "d = { 'a':123 , 'b':45 , 46:12 }\n",
    "print(d['a'])\n",
    "print(d[46])\n",
    "d[46] = 'Ram'\n",
    "print(d)"
   ]
  },
  {
   "cell_type": "code",
   "execution_count": 2,
   "id": "0399956b",
   "metadata": {},
   "outputs": [
    {
     "name": "stdout",
     "output_type": "stream",
     "text": [
      "125\n",
      "{'Divyesh': {'hight': 168, 'weight': 125}, 'Sahil': {'hight': 195, 'weight': 88}, 'Tushar': {'height': 185, 'weight': 78}}\n"
     ]
    }
   ],
   "source": [
    "a = { 'Divyesh':{'hight' : 168, 'weight':125} , 'Sahil':{'hight' : 195, 'weight':58}}\n",
    "print(a['Divyesh']['weight'])\n",
    "a['Sahil']['weight']=88\n",
    "a['Tushar']={'height':185 , 'weight' : 78}\n",
    "print(a)"
   ]
  },
  {
   "cell_type": "markdown",
   "id": "fddbee69",
   "metadata": {},
   "source": [
    "# Functions "
   ]
  },
  {
   "cell_type": "code",
   "execution_count": 5,
   "id": "89bb1f1f",
   "metadata": {},
   "outputs": [
    {
     "data": {
      "text/plain": [
       "dict_keys(['a', 'b', 'har'])"
      ]
     },
     "execution_count": 5,
     "metadata": {},
     "output_type": "execute_result"
    }
   ],
   "source": [
    "a = { 'a':123 , 'b':45 , 'har':86 }\n",
    "a.keys()"
   ]
  },
  {
   "cell_type": "code",
   "execution_count": 9,
   "id": "3904a38c",
   "metadata": {},
   "outputs": [
    {
     "data": {
      "text/plain": [
       "dict_items([('a', 123), ('b', 45), (46, 'har')])"
      ]
     },
     "execution_count": 9,
     "metadata": {},
     "output_type": "execute_result"
    }
   ],
   "source": [
    "a = { 'a':123 , 'b':45 , 46:'har' }\n",
    "a.items()"
   ]
  },
  {
   "cell_type": "code",
   "execution_count": 10,
   "id": "0c113f7e",
   "metadata": {},
   "outputs": [
    {
     "data": {
      "text/plain": [
       "dict_values([123, 45, 'har'])"
      ]
     },
     "execution_count": 10,
     "metadata": {},
     "output_type": "execute_result"
    }
   ],
   "source": [
    "a = { 'a':123 , 'b':45 , 46:'har' }\n",
    "a.values()"
   ]
  },
  {
   "cell_type": "code",
   "execution_count": 11,
   "id": "027dde97",
   "metadata": {},
   "outputs": [
    {
     "data": {
      "text/plain": [
       "{'a': 123, 'b': 45, 46: 'har', 'c': 78}"
      ]
     },
     "execution_count": 11,
     "metadata": {},
     "output_type": "execute_result"
    }
   ],
   "source": [
    "a = { 'a':123 , 'b':45 , 46:'har' }\n",
    "a.update({'c':78})\n",
    "a"
   ]
  },
  {
   "cell_type": "code",
   "execution_count": 1,
   "id": "9be342d9",
   "metadata": {},
   "outputs": [
    {
     "data": {
      "text/plain": [
       "{'x': 123, 'y': 45}"
      ]
     },
     "execution_count": 1,
     "metadata": {},
     "output_type": "execute_result"
    }
   ],
   "source": [
    "a = { 'x':123 , 'y':45 , 46:'z' }\n",
    "a.popitem()\n",
    "a"
   ]
  },
  {
   "cell_type": "code",
   "execution_count": 11,
   "id": "88efd92b",
   "metadata": {},
   "outputs": [
    {
     "data": {
      "text/plain": [
       "{5: 123, 46: 'z'}"
      ]
     },
     "execution_count": 11,
     "metadata": {},
     "output_type": "execute_result"
    }
   ],
   "source": []
  },
  {
   "cell_type": "code",
   "execution_count": 14,
   "id": "f10ba0e0",
   "metadata": {},
   "outputs": [
    {
     "data": {
      "text/plain": [
       "{}"
      ]
     },
     "execution_count": 14,
     "metadata": {},
     "output_type": "execute_result"
    }
   ],
   "source": [
    "a = { 'x':123 , 'y':45 , 46:'z' }\n",
    "a.clear()\n",
    "a"
   ]
  },
  {
   "cell_type": "code",
   "execution_count": 5,
   "id": "080457af",
   "metadata": {},
   "outputs": [
    {
     "name": "stdout",
     "output_type": "stream",
     "text": [
      "{'ajay': {25, 26, 28}, 'raj': {25, 26, 28}, 'shyam': {25, 26, 28}}\n"
     ]
    }
   ],
   "source": [
    "name = {'raj','shyam','ajay'}\n",
    "age = {25,26,28}\n",
    "d = dict.fromkeys(name,age)\n",
    "print(d)"
   ]
  },
  {
   "cell_type": "code",
   "execution_count": 11,
   "id": "a3ea247c",
   "metadata": {},
   "outputs": [
    {
     "name": "stdout",
     "output_type": "stream",
     "text": [
      "{'name': 'nilesh', 'age': 23, 'subject': 'python'}\n",
      "dict_keys(['name', 'age', 'subject'])\n",
      "dict_values(['nilesh', 23, 'python'])\n",
      "dict_items([('name', 'nilesh'), ('age', 23), ('subject', 'python')])\n",
      "{'name': 'nilesh', 'age': 23, 'subject': 'python', 'std': 12, 'std1': 123}\n"
     ]
    }
   ],
   "source": [
    "d1={\n",
    "    'name':\"nilesh\",\n",
    "    'age':23,\n",
    "    \"subject\":\"python\"\n",
    "}\n",
    "\n",
    "# print(type(d1))\n",
    "print(d1)\n",
    "print(d1.keys())\n",
    "print(d1.values())\n",
    "print(d1.items())\n",
    "d1.update({'std':12})\n",
    "d1.update({'std1':123})\n",
    "\n",
    "print(d1)"
   ]
  }
 ],
 "metadata": {
  "kernelspec": {
   "display_name": "Python 3.8.2 64-bit",
   "language": "python",
   "name": "python3"
  },
  "language_info": {
   "codemirror_mode": {
    "name": "ipython",
    "version": 3
   },
   "file_extension": ".py",
   "mimetype": "text/x-python",
   "name": "python",
   "nbconvert_exporter": "python",
   "pygments_lexer": "ipython3",
   "version": "3.8.2"
  },
  "vscode": {
   "interpreter": {
    "hash": "bcc88a5c2b6accdcaf39c87a931cb715cc1ab684beb32819a99a5a377f971b8d"
   }
  }
 },
 "nbformat": 4,
 "nbformat_minor": 5
}
