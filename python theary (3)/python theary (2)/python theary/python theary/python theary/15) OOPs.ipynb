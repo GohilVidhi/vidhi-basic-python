{
 "cells": [
  {
   "cell_type": "raw",
   "id": "e629c0fe",
   "metadata": {
    "vscode": {
     "languageId": "raw"
    }
   },
   "source": [
    "* Object-oriented programming (OOP) is a programming paradigm based on the concept of \"objects\". \n",
    "* OOP concepts include object, classes, constructor and encapsulation, polymorphism, and inheritance.\n",
    "* An object-oriented paradigm is to design the program using classes and objects. Python programming language supports different   programming approaches like functional programming, modular programming.\n",
    "\n",
    "* For example, A Car is an object, as it has the following properties:\n",
    "    -name, price, color as attributes\n",
    "   "
   ]
  },
  {
   "cell_type": "markdown",
   "id": "31d113e9",
   "metadata": {},
   "source": [
    "# 1. Class and Objects"
   ]
  },
  {
   "cell_type": "raw",
   "id": "fdac1f13",
   "metadata": {},
   "source": [
    "In Python, everything is an object. A class is a blueprint for the object. To create an object we require a model or plan or blueprint which is nothing but class."
   ]
  },
  {
   "cell_type": "code",
   "execution_count": 1,
   "id": "f5eab839",
   "metadata": {},
   "outputs": [
    {
     "name": "stdout",
     "output_type": "stream",
     "text": [
      "5\n"
     ]
    }
   ],
   "source": [
    "class MyClass:  # Create a Class  (To create a class, use the keyword class)\n",
    "  x = 5\n",
    "\n",
    "p1 = MyClass()   # Create an Object\n",
    "print(p1.x)"
   ]
  },
  {
   "cell_type": "markdown",
   "id": "7f12154e",
   "metadata": {},
   "source": [
    "## The __init__() Function"
   ]
  },
  {
   "cell_type": "raw",
   "id": "0a0b8d70",
   "metadata": {},
   "source": [
    "* The examples above are classes and objects in their simplest form, and are not really useful in real life applications.\n",
    "* To understand the meaning of classes we have to understand the built-in __init__() function.\n",
    "* All classes have a function called __init__(), which is always executed when the class is being initiated.\n",
    "* Use the __init__() function to assign values to object properties, or other operations that are necessary to do when\n",
    "  object is being created."
   ]
  },
  {
   "cell_type": "code",
   "execution_count": 1,
   "id": "562168c6",
   "metadata": {},
   "outputs": [],
   "source": [
    "class Person:\n",
    "    def __init__(self, name, age):\n",
    "        self.name = name\n",
    "        self.age = age\n",
    "\n",
    "p1 = Person(\"Ashish\", 20)\n",
    "\n",
    "print(p1.name)\n",
    "print(p1.age)"
   ]
  },
  {
   "cell_type": "raw",
   "id": "790dea86",
   "metadata": {},
   "source": [
    "* Note: The __init__() function is called automatically every time the class is being used to create a new object."
   ]
  },
  {
   "cell_type": "raw",
   "id": "517e4c18",
   "metadata": {},
   "source": [
    "* The self Parameter\n",
    "--> The self parameter is a reference to the current instance of the class, and is used to access variables that belongs to the     class.\n",
    "--> It does not have to be named self , you can call it whatever you like, but it has to be the first parameter of any function     in the class"
   ]
  },
  {
   "cell_type": "code",
   "execution_count": 3,
   "id": "f832b52a",
   "metadata": {},
   "outputs": [
    {
     "name": "stdout",
     "output_type": "stream",
     "text": [
      "Ashish\n",
      "20\n"
     ]
    }
   ],
   "source": [
    "class Person:\n",
    "    def __init__(mysillyobject, name, age):\n",
    "        mysillyobject.name = name\n",
    "        mysillyobject.age = age\n",
    "\n",
    "p1 = Person(\"Ashish\", 20)\n",
    "\n",
    "print(p1.name)\n",
    "print(p1.age)"
   ]
  },
  {
   "cell_type": "markdown",
   "id": "6b8ec6a5",
   "metadata": {},
   "source": [
    "## Object Methods"
   ]
  },
  {
   "cell_type": "raw",
   "id": "8ef59fb8",
   "metadata": {},
   "source": [
    "* Objects can also contain methods. Methods in objects are functions that belong to the object."
   ]
  },
  {
   "cell_type": "code",
   "execution_count": 5,
   "id": "107e6124",
   "metadata": {},
   "outputs": [
    {
     "name": "stdout",
     "output_type": "stream",
     "text": [
      "Hello my name is Ashish\n"
     ]
    }
   ],
   "source": [
    "class Person:\n",
    "    def __init__(self, name, age):\n",
    "        self.name = name\n",
    "        self.age = age\n",
    "\n",
    "    def myfunc(self):\n",
    "        print(\"Hello my name is \" + self.name)\n",
    "\n",
    "p1 = Person(\"Ashish\", 20)\n",
    "p1.myfunc()"
   ]
  },
  {
   "cell_type": "markdown",
   "id": "af1294b4",
   "metadata": {},
   "source": [
    "## Modify Object Properties"
   ]
  },
  {
   "cell_type": "code",
   "execution_count": 1,
   "id": "29b0dd68",
   "metadata": {},
   "outputs": [
    {
     "name": "stdout",
     "output_type": "stream",
     "text": [
      "John40\n",
      "40\n"
     ]
    }
   ],
   "source": [
    "class Person:\n",
    "    def __init__(self, name, age):\n",
    "        self.name = name\n",
    "        self.age = age\n",
    "\n",
    "    def myfunc(self):\n",
    "        print(f\"{self.name}{self.age}\")\n",
    "\n",
    "p1 = Person(\"John\", 36)\n",
    "p1.myfunc()\n",
    "p1.age = 40\n",
    "print(p1.age)"
   ]
  },
  {
   "cell_type": "markdown",
   "id": "b50ae885",
   "metadata": {},
   "source": [
    "## Delete Object Properties"
   ]
  },
  {
   "cell_type": "code",
   "execution_count": 3,
   "id": "b313bf33",
   "metadata": {},
   "outputs": [
    {
     "ename": "AttributeError",
     "evalue": "'Person' object has no attribute 'age'",
     "output_type": "error",
     "traceback": [
      "\u001b[1;31m---------------------------------------------------------------------------\u001b[0m",
      "\u001b[1;31mAttributeError\u001b[0m                            Traceback (most recent call last)",
      "Cell \u001b[1;32mIn[3], line 11\u001b[0m\n\u001b[0;32m      9\u001b[0m p1 \u001b[38;5;241m=\u001b[39m Person(\u001b[38;5;124m\"\u001b[39m\u001b[38;5;124mJohn\u001b[39m\u001b[38;5;124m\"\u001b[39m, \u001b[38;5;241m36\u001b[39m)\n\u001b[0;32m     10\u001b[0m \u001b[38;5;28;01mdel\u001b[39;00m p1\u001b[38;5;241m.\u001b[39mage\n\u001b[1;32m---> 11\u001b[0m \u001b[38;5;28mprint\u001b[39m(\u001b[43mp1\u001b[49m\u001b[38;5;241;43m.\u001b[39;49m\u001b[43mage\u001b[49m)\n",
      "\u001b[1;31mAttributeError\u001b[0m: 'Person' object has no attribute 'age'"
     ]
    }
   ],
   "source": [
    "class Person:\n",
    "    def __init__(self, name, age):\n",
    "        self.name = name\n",
    "        self.age = age\n",
    "\n",
    "    def myfunc(self):\n",
    "        print(\"Hello my name is \" + self.name)\n",
    "\n",
    "p1 = Person(\"John\", 36)\n",
    "del p1.age\n",
    "print(p1.age)"
   ]
  },
  {
   "cell_type": "markdown",
   "id": "77e4f6d1",
   "metadata": {},
   "source": [
    "## Delete Objects"
   ]
  },
  {
   "cell_type": "code",
   "execution_count": 1,
   "id": "b4a40a08",
   "metadata": {},
   "outputs": [
    {
     "ename": "NameError",
     "evalue": "name 'p1' is not defined",
     "output_type": "error",
     "traceback": [
      "\u001b[1;31m---------------------------------------------------------------------------\u001b[0m",
      "\u001b[1;31mNameError\u001b[0m                                 Traceback (most recent call last)",
      "Cell \u001b[1;32mIn[1], line 11\u001b[0m\n\u001b[0;32m      9\u001b[0m p1 \u001b[38;5;241m=\u001b[39m Person(\u001b[38;5;124m\"\u001b[39m\u001b[38;5;124mJohn\u001b[39m\u001b[38;5;124m\"\u001b[39m, \u001b[38;5;241m36\u001b[39m)\n\u001b[0;32m     10\u001b[0m \u001b[38;5;28;01mdel\u001b[39;00m p1\n\u001b[1;32m---> 11\u001b[0m \u001b[38;5;28mprint\u001b[39m(\u001b[43mp1\u001b[49m)\n",
      "\u001b[1;31mNameError\u001b[0m: name 'p1' is not defined"
     ]
    }
   ],
   "source": [
    "class Person:\n",
    "    def __init__(self, name, age):\n",
    "        self.name = name\n",
    "        self.age = age\n",
    "\n",
    "    def myfunc(self):\n",
    "        print(\"Hello my name is \" + self.name)\n",
    "\n",
    "p1 = Person(\"John\", 36)\n",
    "del p1\n",
    "print(p1)"
   ]
  },
  {
   "cell_type": "markdown",
   "id": "c5596017",
   "metadata": {},
   "source": [
    "## The pass Statement"
   ]
  },
  {
   "cell_type": "raw",
   "id": "1627e9c2",
   "metadata": {},
   "source": [
    "class definitions cannot be empty, but if you for some reason have a class definition with no content, put in the pass statement to avoid getting an error."
   ]
  },
  {
   "cell_type": "code",
   "execution_count": 2,
   "id": "c9225f50",
   "metadata": {},
   "outputs": [],
   "source": [
    "class Person:\n",
    "    pass"
   ]
  },
  {
   "cell_type": "markdown",
   "id": "47bafcc0",
   "metadata": {},
   "source": [
    "## ATM Machine Task"
   ]
  },
  {
   "cell_type": "code",
   "execution_count": 3,
   "id": "13d4943b",
   "metadata": {},
   "outputs": [],
   "source": [
    "class ATM:\n",
    "    def __init__(self,balance=0,pin=0):\n",
    "        self.balance = balance\n",
    "        self.pin = pin\n",
    "        self.menu() \n",
    "        \n",
    "    def menu(self):\n",
    "        inp = int(input('press 1 for pin creation \\npress 2 for balance check \\npress 3 for deopsite \\npress 4 for widrale \\npress 5 for exit \\nChoose your Option :'))\n",
    "        \n",
    "        if inp == 1:\n",
    "            self.pin_creation()\n",
    "        elif inp == 2:\n",
    "            self.balance_check()\n",
    "        elif inp == 3:\n",
    "            self.deposite()\n",
    "        elif inp == 4:\n",
    "            self.widrale()\n",
    "        else:\n",
    "            print('bye')\n",
    "            \n",
    "    def pin_creation(self):\n",
    "        self.pin = int(input('enter your new pin :'))\n",
    "        print(f'your pin in {self.pin}')\n",
    "    \n",
    "    def balance_check(self):\n",
    "        temp = int(input('enter your pin :'))\n",
    "        \n",
    "        if temp == self.pin:\n",
    "            print(f'your balance is {self.balance}')\n",
    "            \n",
    "        else:\n",
    "            print('invalid pin')\n",
    "            \n",
    "    def deposite(self):\n",
    "        temp = int(input('enter your pin :'))\n",
    "        \n",
    "        if temp == self.pin:\n",
    "            amount = int(input('enter amount you want to deposite :'))\n",
    "            self.balance = self.balance + amount\n",
    "            print(f'your balance is {self.balance}')\n",
    "        else:\n",
    "            print('invalid pin')\n",
    "            \n",
    "    def widrale(self):\n",
    "        temp = int(input('enter your pin :'))\n",
    "        \n",
    "        if temp == self.pin:\n",
    "            amount = int(input('enter amount you want to widrale :'))\n",
    "            self.balance = self.balance - amount\n",
    "            print(f'your balance is {self.balance}')\n",
    "        else:\n",
    "            print('invalid pin')"
   ]
  },
  {
   "cell_type": "code",
   "execution_count": 4,
   "id": "c44a09b3",
   "metadata": {},
   "outputs": [
    {
     "name": "stdout",
     "output_type": "stream",
     "text": [
      "press 1 for pin creation \n",
      "press 2 for balance check \n",
      "press 3 for deopsite \n",
      "press 4 for widrale \n",
      "press 5 for exit \n",
      "Choose your Option :1\n",
      "enter your new pin :1234\n",
      "your pin in 1234\n"
     ]
    }
   ],
   "source": [
    "sbi = ATM()"
   ]
  },
  {
   "cell_type": "code",
   "execution_count": 5,
   "id": "f0a8b767",
   "metadata": {},
   "outputs": [
    {
     "name": "stdout",
     "output_type": "stream",
     "text": [
      "press 1 for pin creation \n",
      "press 2 for balance check \n",
      "press 3 for deopsite \n",
      "press 4 for widrale \n",
      "press 5 for exit \n",
      "Choose your Option :2\n",
      "enter your pin :1234\n",
      "your balance is 0\n"
     ]
    }
   ],
   "source": [
    "sbi.menu()"
   ]
  },
  {
   "cell_type": "code",
   "execution_count": 6,
   "id": "71cc6e30",
   "metadata": {},
   "outputs": [
    {
     "name": "stdout",
     "output_type": "stream",
     "text": [
      "enter your pin :1234\n",
      "enter amount you want to widrale :500\n",
      "your balance is -500\n"
     ]
    }
   ],
   "source": [
    "sbi.widrale()"
   ]
  },
  {
   "cell_type": "code",
   "execution_count": null,
   "id": "75c592d8",
   "metadata": {},
   "outputs": [
    {
     "name": "stdout",
     "output_type": "stream",
     "text": [
      "press 1 for pin creation \n",
      "press 2 for balance check \n",
      "press 3 for deopsite \n",
      "press 4 for widrale \n",
      "press 5 for exit \n",
      "Choose your Option :1\n",
      "enter your new pin :2002\n",
      "your pin in 2002\n",
      "press 1 for pin creation \n",
      "press 2 for balance check \n",
      "press 3 for deopsite \n",
      "press 4 for widrale \n",
      "press 5 for exit \n",
      "Choose your Option :4\n",
      "enter your pin :2002\n",
      "enter amount you want to widrale :400\n",
      "your balance is -400\n",
      "press 1 for pin creation \n",
      "press 2 for balance check \n",
      "press 3 for deopsite \n",
      "press 4 for widrale \n",
      "press 5 for exit \n",
      "Choose your Option :2\n",
      "enter your pin :2002\n",
      "your balance is -400\n",
      "press 1 for pin creation \n",
      "press 2 for balance check \n",
      "press 3 for deopsite \n",
      "press 4 for widrale \n",
      "press 5 for exit \n",
      "Choose your Option :5\n",
      "bye\n"
     ]
    }
   ],
   "source": [
    "HDFC = ATM()"
   ]
  },
  {
   "cell_type": "code",
   "execution_count": null,
   "id": "ce332a1c",
   "metadata": {},
   "outputs": [
    {
     "data": {
      "text/plain": [
       "-400"
      ]
     },
     "execution_count": 14,
     "metadata": {},
     "output_type": "execute_result"
    }
   ],
   "source": [
    "HDFC.balance "
   ]
  },
  {
   "cell_type": "code",
   "execution_count": null,
   "id": "1bf479d8",
   "metadata": {},
   "outputs": [
    {
     "data": {
      "text/plain": [
       "2002"
      ]
     },
     "execution_count": 15,
     "metadata": {},
     "output_type": "execute_result"
    }
   ],
   "source": [
    "HDFC.pin"
   ]
  },
  {
   "cell_type": "code",
   "execution_count": null,
   "id": "a94ef8d7",
   "metadata": {},
   "outputs": [],
   "source": [
    "HDFC.balance = 500000"
   ]
  },
  {
   "cell_type": "code",
   "execution_count": null,
   "id": "1513eafd",
   "metadata": {},
   "outputs": [
    {
     "name": "stdout",
     "output_type": "stream",
     "text": [
      "press 1 for pin creation \n",
      "press 2 for balance check \n",
      "press 3 for deopsite \n",
      "press 4 for widrale \n",
      "press 5 for exit \n",
      "Choose your Option :2\n",
      "enter your pin :2002\n",
      "your balance is 500000\n",
      "press 1 for pin creation \n",
      "press 2 for balance check \n",
      "press 3 for deopsite \n",
      "press 4 for widrale \n",
      "press 5 for exit \n",
      "Choose your Option :5\n",
      "bye\n"
     ]
    }
   ],
   "source": [
    "HDFC.menu()"
   ]
  },
  {
   "cell_type": "markdown",
   "id": "911dab2a",
   "metadata": {},
   "source": [
    "# 2. Encapsulation"
   ]
  },
  {
   "cell_type": "raw",
   "id": "6d0b05b6",
   "metadata": {},
   "source": [
    "* Using encapsulation, we can hide an object’s internal representation from the outside. This is called information hiding.\n",
    "* encapsulation allows us to restrict accessing variables and methods directly and prevent accidental data modification by         creating private data members and methods within a class.\n",
    "* Encapsulation is a way to can restrict access to methods and variables from outside of class. Whenever we are working with the   class and dealing with sensitive data"
   ]
  },
  {
   "cell_type": "markdown",
   "id": "c61deb29",
   "metadata": {},
   "source": [
    "## Access Modifiers"
   ]
  },
  {
   "cell_type": "raw",
   "id": "476a6b3c",
   "metadata": {},
   "source": [
    "* Access modifiers limit access to the variables and methods of a class.\n",
    "* Python provides three types of access modifiers private, public, and protected.\n",
    "  --> Public Member: Accessible anywhere from outside the class  (Defualt)\n",
    "  -->  protected Member: Accessible within the class and its sub-classes (using single underscore)\n",
    "  --> private Member: Accessible within the class   (double underscores)"
   ]
  },
  {
   "cell_type": "code",
   "execution_count": 7,
   "id": "0ed2a080",
   "metadata": {},
   "outputs": [
    {
     "name": "stdout",
     "output_type": "stream",
     "text": [
      "Salary: Ashish\n"
     ]
    }
   ],
   "source": [
    "class Employee:\n",
    "    def __init__(self, name, salary): \n",
    "        self.name = name    # public data member        \n",
    "        self.__salary = salary    # private member\n",
    "        \n",
    "emp = Employee('Ashish', 10000)  # creating object of a class\n",
    "print('Salary:', emp.name)  # accessing private data members"
   ]
  },
  {
   "cell_type": "raw",
   "id": "831b8011",
   "metadata": {},
   "source": [
    "* We can access private members from outside of a class using the following two approaches :\n",
    "  - Create public method to access private members\n",
    "  - Use name mangling"
   ]
  },
  {
   "cell_type": "markdown",
   "id": "e1516981",
   "metadata": {},
   "source": [
    "### Public method to access private members"
   ]
  },
  {
   "cell_type": "code",
   "execution_count": 7,
   "id": "4c08e454",
   "metadata": {},
   "outputs": [
    {
     "name": "stdout",
     "output_type": "stream",
     "text": [
      "Name:  Ashish Salary: 10000\n"
     ]
    }
   ],
   "source": [
    "class Employee:\n",
    "    def __init__(self, name, salary):\n",
    "        self.name = name\n",
    "        self.__salary = salary\n",
    "\n",
    "    # public instance methods\n",
    "    def show(self):  \n",
    "        print(\"Name: \", self.name, 'Salary:', self.__salary)  # private members are accessible from a class\n",
    "\n",
    "emp = Employee('Ashish', 10000)\n",
    "emp.show()    # calling public method of the class"
   ]
  },
  {
   "cell_type": "markdown",
   "id": "5cf482f8",
   "metadata": {},
   "source": [
    "### Name Mangling to access private members"
   ]
  },
  {
   "cell_type": "raw",
   "id": "f90a2ee4",
   "metadata": {},
   "source": [
    "* We can directly access private and protected variables from outside of a class through name mangling. The name mangling is     created on an identifier by adding two leading underscores and one trailing underscore, like this _classname__dataMember,       where classname is the current class, and data member is the private variable name."
   ]
  },
  {
   "cell_type": "code",
   "execution_count": 12,
   "id": "599e7fd7",
   "metadata": {},
   "outputs": [
    {
     "name": "stdout",
     "output_type": "stream",
     "text": [
      "Name: Ashish\n"
     ]
    },
    {
     "ename": "AttributeError",
     "evalue": "'Employee' object has no attribute '_employee__salary'",
     "output_type": "error",
     "traceback": [
      "\u001b[1;31m---------------------------------------------------------------------------\u001b[0m",
      "\u001b[1;31mAttributeError\u001b[0m                            Traceback (most recent call last)",
      "Cell \u001b[1;32mIn[12], line 9\u001b[0m\n\u001b[0;32m      6\u001b[0m emp \u001b[38;5;241m=\u001b[39m Employee(\u001b[38;5;124m'\u001b[39m\u001b[38;5;124mAshish\u001b[39m\u001b[38;5;124m'\u001b[39m, \u001b[38;5;241m10000\u001b[39m)\n\u001b[0;32m      8\u001b[0m \u001b[38;5;28mprint\u001b[39m(\u001b[38;5;124m'\u001b[39m\u001b[38;5;124mName:\u001b[39m\u001b[38;5;124m'\u001b[39m, emp\u001b[38;5;241m.\u001b[39mname)\n\u001b[1;32m----> 9\u001b[0m \u001b[38;5;28mprint\u001b[39m(\u001b[38;5;124m'\u001b[39m\u001b[38;5;124mSalary:\u001b[39m\u001b[38;5;124m'\u001b[39m, \u001b[43memp\u001b[49m\u001b[38;5;241;43m.\u001b[39;49m\u001b[43m_employee__salary\u001b[49m)    \u001b[38;5;66;03m# direct access to private member using name mangling\u001b[39;00m\n",
      "\u001b[1;31mAttributeError\u001b[0m: 'Employee' object has no attribute '_employee__salary'"
     ]
    }
   ],
   "source": [
    "class Employee:\n",
    "    def __init__(self, name, salary):\n",
    "        self.name = name\n",
    "        self.__salary = salary\n",
    "\n",
    "emp = Employee('Ashish', 10000)\n",
    "\n",
    "print('Name:', emp.name)\n",
    "print('Salary:', emp._Employee__salary)    # direct access to private member using name mangling"
   ]
  },
  {
   "cell_type": "markdown",
   "id": "cccacd57",
   "metadata": {},
   "source": [
    "## Advantages of Encapsulation :-"
   ]
  },
  {
   "cell_type": "raw",
   "id": "ee77350c",
   "metadata": {},
   "source": [
    "* Security: The main advantage of using encapsulation is the security of the data. Encapsulation protects an object from           unauthorized access. It allows private and protected access levels to prevent accidental data modification.\n",
    "* Data Hiding: The user would not be knowing what is going on behind the scene. They would only be knowing that to modify a data   member, call the setter method. To read a data member, call the getter method. What these setter and getter methods are doing   is hidden from them.\n",
    "* Simplicity: It simplifies the maintenance of the application by keeping classes separated and preventing them from tightly       coupling with each other.\n",
    "* Aesthetics: Bundling data and methods within a class makes code more readable and maintainable"
   ]
  },
  {
   "cell_type": "code",
   "execution_count": null,
   "id": "21effa83",
   "metadata": {},
   "outputs": [
    {
     "name": "stdout",
     "output_type": "stream",
     "text": [
      "press 1 for pin creation \n",
      "press 2 for balance check \n",
      "press 3 for deopsite \n",
      "press 4 for widrale \n",
      "press 5 for exit \n",
      "Choose your Option :4\n",
      "enter your pin :1234\n",
      "invalid pin\n"
     ]
    }
   ],
   "source": [
    "class ATM:\n",
    "    def __init__(self,balance=0,pin=0):\n",
    "        self.__balance = balance\n",
    "        self.__pin = pin\n",
    "        self.menu()     \n",
    "        \n",
    "    def menu(self):\n",
    "        inp = int(input('press 1 for pin creation \\npress 2 for balance check \\npress 3 for deopsite \\npress 4 for widrale \\npress 5 for exit \\nChoose your Option :'))\n",
    "        \n",
    "        if inp == 1:\n",
    "            self.pin_creation()\n",
    "        elif inp == 2:\n",
    "            self.balance_check()\n",
    "        elif inp == 3:\n",
    "            self.deposite()\n",
    "        elif inp == 4:\n",
    "            self.widrale()\n",
    "        else:\n",
    "            print('bye')\n",
    "            \n",
    "    def pin_creation(self):\n",
    "        self.__pin = int(input('enter your new pin :'))\n",
    "        print(f'your pin in {self.__pin}')\n",
    "        self.menu()\n",
    "    \n",
    "    def balance_check(self):\n",
    "        temp = int(input('enter your pin :'))\n",
    "        \n",
    "        if temp == self.__pin:\n",
    "            print(f'your balance is {self.__balance}')\n",
    "            self.menu()\n",
    "        else:\n",
    "            print('invalid pin')\n",
    "            self.menu()\n",
    "            \n",
    "    def deposite(self):\n",
    "        temp = int(input('enter your pin :'))\n",
    "        \n",
    "        if temp == self.__pin:\n",
    "            amount = int(input('enter amount you want to deposite :'))\n",
    "            self.__balance = self.__balance + amount\n",
    "            print(f'your balance is {self.__balance}')\n",
    "            self.menu()\n",
    "        else:\n",
    "            print('invalid pin')\n",
    "            self.menu()\n",
    "            \n",
    "    def widrale(self):\n",
    "        temp = int(input('enter your pin :'))\n",
    "        \n",
    "        if temp == self.__pin:\n",
    "            amount = int(input('enter amount you want to widrale :'))\n",
    "            self.__balance = self.__balance - amount\n",
    "            print(f'your balance is {self.__balance}')\n",
    "            self.menu()\n",
    "        else:\n",
    "            print('invalid pin')\n",
    "            self.menu()\n",
    "            \n",
    "ICICI = ATM()\n",
    "print(ICICI._ATM__pin)\n",
    "print(ICICI._ATM__balance)"
   ]
  },
  {
   "cell_type": "code",
   "execution_count": null,
   "id": "0ad3b168",
   "metadata": {},
   "outputs": [],
   "source": []
  },
  {
   "cell_type": "code",
   "execution_count": null,
   "id": "5ef5a565",
   "metadata": {},
   "outputs": [],
   "source": [
    "ICICI.balance"
   ]
  },
  {
   "cell_type": "code",
   "execution_count": null,
   "id": "f1d64cbd",
   "metadata": {},
   "outputs": [],
   "source": [
    "ICICI.pin"
   ]
  },
  {
   "cell_type": "code",
   "execution_count": null,
   "id": "183a70bd",
   "metadata": {},
   "outputs": [],
   "source": []
  },
  {
   "cell_type": "code",
   "execution_count": null,
   "id": "c9ef3ddb",
   "metadata": {},
   "outputs": [],
   "source": [
    "ICICI._ATM__balance"
   ]
  },
  {
   "cell_type": "markdown",
   "id": "eca559f1",
   "metadata": {},
   "source": [
    "# 3. Inheritance"
   ]
  },
  {
   "cell_type": "raw",
   "id": "909c47a3",
   "metadata": {},
   "source": [
    "* The process of inheriting the properties of the parent class into a child class is called inheritance. The existing class is     called a base class or parent class and the new class is called a subclass or child class or derived class.\n",
    "* In inheritance, the child class acquires all the data members, properties, and functions from the parent class. Also, a child   class can also provide its specific implementation to the methods of the parent class.\n",
    "* For example, In the real world, Car is a sub-class of a Vehicle class. We can create a Car by inheriting the properties of a     Vehicle such as Wheels, Colors, Fuel tank, engine, and add extra properties in Car as required."
   ]
  },
  {
   "cell_type": "raw",
   "id": "3f4eb309",
   "metadata": {},
   "source": [
    "* Syntax :\n",
    "--> class BaseClass:\n",
    "        Body of base class\n",
    "    class DerivedClass(BaseClass):\n",
    "        Body of derived class"
   ]
  },
  {
   "cell_type": "raw",
   "id": "4734c387",
   "metadata": {},
   "source": [
    "* Types Of Inheritance :-  \n",
    "--> based upon the number of child and parent classes involved, there are five types of inheritance.\n",
    "      1. Single inheritance\n",
    "      2. Multiple Inheritance\n",
    "      3. Multilevel inheritance\n",
    "      4. Hierarchical Inheritance\n",
    "      5. Hybrid Inheritance"
   ]
  },
  {
   "cell_type": "markdown",
   "id": "b2196941",
   "metadata": {},
   "source": [
    "##  Single Inheritance"
   ]
  },
  {
   "cell_type": "raw",
   "id": "c101feb7",
   "metadata": {},
   "source": [
    "* In single inheritance, a child class inherits from a single-parent class. Here is one child class and one parent class."
   ]
  },
  {
   "cell_type": "code",
   "execution_count": null,
   "id": "46268ac5",
   "metadata": {},
   "outputs": [
    {
     "name": "stdout",
     "output_type": "stream",
     "text": [
      "Inside Vehicle class\n",
      "Inside Car class\n"
     ]
    }
   ],
   "source": [
    "class Vehicle:            # Base class\n",
    "    def Vehicle_info(self):\n",
    "        print('Inside Vehicle class')\n",
    "\n",
    "class Car(Vehicle):       # Child class\n",
    "    def car_info(self):\n",
    "        print('Inside Car class')\n",
    "\n",
    "car = Car()               # Create object of Car\n",
    "car.Vehicle_info()        # access Vehicle's info using car object\n",
    "car.car_info()"
   ]
  },
  {
   "cell_type": "markdown",
   "id": "009e523b",
   "metadata": {},
   "source": [
    "## Multiple Inheritance"
   ]
  },
  {
   "cell_type": "raw",
   "id": "9bffde32",
   "metadata": {},
   "source": [
    "* In multiple inheritance, one child class can inherit from multiple parent classes. So here is one child class and multiple parent classes."
   ]
  },
  {
   "cell_type": "code",
   "execution_count": 1,
   "id": "1c4a8e38",
   "metadata": {},
   "outputs": [
    {
     "name": "stdout",
     "output_type": "stream",
     "text": [
      "Inside Person class\n",
      "Name: Jessa Age: 28\n",
      "Inside Company class\n",
      "Name: Google location: Atlanta\n",
      "Inside Employee class\n",
      "Salary: 12000 Skill: Machine Learning\n"
     ]
    }
   ],
   "source": [
    "class Person:                           # Parent class 1\n",
    "    def person_info(self, name, age):\n",
    "        print('Inside Person class')\n",
    "        print('Name:', name, 'Age:', age)\n",
    "\n",
    "class Company:                          # Parent class 2\n",
    "    def company_info(self, company_name, location):\n",
    "        print('Inside Company class')\n",
    "        print('Name:', company_name, 'location:', location)\n",
    "\n",
    "class Employee(Person, Company):        # Child class\n",
    "    def Employee_info(self, salary, skill):\n",
    "        print('Inside Employee class')\n",
    "        print('Salary:', salary, 'Skill:', skill)\n",
    "\n",
    "emp = Employee()                  # Create object of Employee\n",
    "emp.person_info('Jessa', 28)      # access data\n",
    "emp.company_info('Google', 'Atlanta')\n",
    "emp.Employee_info(12000, 'Machine Learning')"
   ]
  },
  {
   "cell_type": "markdown",
   "id": "bf6463ec",
   "metadata": {},
   "source": [
    "## Multilevel inheritance"
   ]
  },
  {
   "cell_type": "raw",
   "id": "cdcad1de",
   "metadata": {},
   "source": [
    "* In multilevel inheritance, a class inherits from a child class or derived class. Suppose three classes A, B, C. A is the         superclass, B is the child class of A, C is the child class of B. In other words, we can say a chain of classes is called       multilevel inheritance."
   ]
  },
  {
   "cell_type": "code",
   "execution_count": null,
   "id": "43f486fd",
   "metadata": {},
   "outputs": [
    {
     "name": "stdout",
     "output_type": "stream",
     "text": [
      "Inside Vehicle class\n",
      "Inside Car class\n",
      "Inside SportsCar class\n"
     ]
    }
   ],
   "source": [
    "class Vehicle:                 # Base class\n",
    "    def Vehicle_info(self):\n",
    "        print('Inside Vehicle class')\n",
    "\n",
    "class Car(Vehicle):            # Child class\n",
    "    def car_info(self):\n",
    "        print('Inside Car class')\n",
    "\n",
    "class SportsCar(Car):          # Child class\n",
    "    def sports_car_info(self):\n",
    "        print('Inside SportsCar class')\n",
    "\n",
    "s_car = SportsCar()            # Create object of SportsCar\n",
    "s_car.Vehicle_info()           # access Vehicle's and Car info using SportsCar object\n",
    "s_car.car_info()\n",
    "s_car.sports_car_info()"
   ]
  },
  {
   "cell_type": "markdown",
   "id": "a361062f",
   "metadata": {},
   "source": [
    "## Hierarchical Inheritance"
   ]
  },
  {
   "cell_type": "raw",
   "id": "aee2abfb",
   "metadata": {},
   "source": [
    "* In Hierarchical inheritance, more than one child class is derived from a single parent class. In other words, we can say one     parent class and multiple child classes."
   ]
  },
  {
   "cell_type": "code",
   "execution_count": null,
   "id": "016975d1",
   "metadata": {},
   "outputs": [
    {
     "name": "stdout",
     "output_type": "stream",
     "text": [
      "This is Vehicle\n",
      "Car name is: BMW\n",
      "This is Vehicle\n",
      "Truck name is: Ford\n"
     ]
    }
   ],
   "source": [
    "class Vehicle:\n",
    "    def info(self):\n",
    "        print(\"This is Vehicle\")\n",
    "\n",
    "class Car(Vehicle):\n",
    "    def car_info(self, name):\n",
    "        print(\"Car name is:\", name)\n",
    "\n",
    "class Truck(Vehicle):\n",
    "    def truck_info(self, name):\n",
    "        print(\"Truck name is:\", name)\n",
    "\n",
    "obj1 = Car()\n",
    "obj1.info()\n",
    "obj1.car_info('BMW')\n",
    "\n",
    "obj2 = Truck()\n",
    "obj2.info()\n",
    "obj2.truck_info('Ford')"
   ]
  },
  {
   "cell_type": "markdown",
   "id": "9a4a5ad5",
   "metadata": {},
   "source": [
    "## Hybrid Inheritance"
   ]
  },
  {
   "cell_type": "raw",
   "id": "a73b0ff4",
   "metadata": {},
   "source": [
    "* When inheritance is consists of multiple types or a combination of different inheritance is called hybrid inheritance."
   ]
  },
  {
   "cell_type": "code",
   "execution_count": 6,
   "id": "20bb959a",
   "metadata": {},
   "outputs": [
    {
     "name": "stdout",
     "output_type": "stream",
     "text": [
      "Inside Vehicle class\n",
      "Inside Car class\n",
      "Inside SportsCar class\n",
      "Inside Truck class\n"
     ]
    }
   ],
   "source": [
    "class Vehicle:\n",
    "    def vehicle_info(self):\n",
    "        print(\"Inside Vehicle class\")\n",
    "\n",
    "class Car(Vehicle):\n",
    "    def car_info(self):\n",
    "        print(\"Inside Car class\")\n",
    "\n",
    "class Truck(Vehicle):\n",
    "    def truck_info(self):\n",
    "        print(\"Inside Truck class\")\n",
    "\n",
    "class SportsCar(Car, Truck):    # Sports Car can inherits properties of Vehicle and Car\n",
    "    def sports_car_info(self):\n",
    "        print(\"Inside SportsCar class\")\n",
    "\n",
    "s_car = SportsCar()               # create object\n",
    "s_car.vehicle_info()\n",
    "s_car.car_info()\n",
    "s_car.sports_car_info()\n",
    "s_car.truck_info()"
   ]
  },
  {
   "cell_type": "markdown",
   "id": "68e9ed3a",
   "metadata": {},
   "source": [
    "## super() function"
   ]
  },
  {
   "cell_type": "raw",
   "id": "279199d1",
   "metadata": {},
   "source": [
    "* When a class inherits all properties and behavior from the parent class is called inheritance. In such a case, the inherited     class is a subclass and the latter class is the parent class.\n",
    "* In child class, we can refer to parent class by using the super() function. The super function returns a temporary object of     the parent class that allows us to call a parent class method inside a child class method."
   ]
  },
  {
   "cell_type": "raw",
   "id": "27a9d3c6",
   "metadata": {},
   "source": [
    "* Benefits of using the super() function.\n",
    "--> 1. We are not required to remember or specify the parent class name to access its methods.\n",
    "    2. We can use the super() function in both single and multiple inheritances.\n",
    "    3. The super() function support code reusability as there is no need to write the entire function\n",
    "    "
   ]
  },
  {
   "cell_type": "code",
   "execution_count": 2,
   "id": "a79c74b7",
   "metadata": {},
   "outputs": [
    {
     "name": "stdout",
     "output_type": "stream",
     "text": [
      "Jessa works at Google\n"
     ]
    }
   ],
   "source": [
    "class Company:\n",
    "    def company_name(self):\n",
    "        return 'Google'\n",
    "\n",
    "class Employee(Company):\n",
    "    def info(self):\n",
    "        c_name = self.company_name()   # Calling the superclass method using super()function\n",
    "        print(\"Jessa works at\", c_name)\n",
    "\n",
    "emp = Employee()       # Creating object of child class\n",
    "emp.info()"
   ]
  },
  {
   "cell_type": "markdown",
   "id": "bb763c85",
   "metadata": {},
   "source": [
    "## issubclass() "
   ]
  },
  {
   "cell_type": "raw",
   "id": "06338dfb",
   "metadata": {},
   "source": [
    "* we can verify whether a particular class is a subclass of another class. For this purpose, we can use Python built-in function   issubclass(). This function returns True if the given class is the subclass of the specified class. Otherwise, it returns       False."
   ]
  },
  {
   "cell_type": "raw",
   "id": "4dc49574",
   "metadata": {},
   "source": [
    "* Syntax :\n",
    "--> issubclass(class, classinfo) \n",
    "    - class: class to be checked.\n",
    "    - classinfo: a class, type, or a tuple of classes or data types."
   ]
  },
  {
   "cell_type": "code",
   "execution_count": 1,
   "id": "802dae9c",
   "metadata": {},
   "outputs": [
    {
     "name": "stdout",
     "output_type": "stream",
     "text": [
      "True\n",
      "True\n",
      "True\n",
      "False\n"
     ]
    }
   ],
   "source": [
    "class Company:\n",
    "    def fun1(self):\n",
    "        print(\"Inside parent class\")\n",
    "\n",
    "class Employee(Company):\n",
    "    def fun2(self):\n",
    "        print(\"Inside child class.\")\n",
    "\n",
    "class Player(Company):\n",
    "    def fun3(self):\n",
    "        print(\"Inside Player class.\")\n",
    "\n",
    "print(issubclass(Employee, Company))\n",
    "print(issubclass(Player, Company))\n",
    "print(issubclass(Company, Company))\n",
    "print(issubclass(Company, Employee))"
   ]
  },
  {
   "cell_type": "markdown",
   "id": "9a60f431",
   "metadata": {},
   "source": [
    "# 4. Polymorphism"
   ]
  },
  {
   "cell_type": "raw",
   "id": "fec0e665",
   "metadata": {},
   "source": [
    "* The word polymorphism is taken from the Greek words poly (many) and morphism (forms). It means a method can process objects     differently depending on the class type or data type.\n",
    "* Polymorphism in Python is the ability of an object to take many forms. In simple words, polymorphism allows us to perform the   same action in many different ways."
   ]
  },
  {
   "cell_type": "markdown",
   "id": "4a548c32",
   "metadata": {},
   "source": [
    "### Example 1: Polymorphism in addition operator  (simple occurrences of polymorphism)"
   ]
  },
  {
   "cell_type": "code",
   "execution_count": null,
   "id": "3b0cc662",
   "metadata": {},
   "outputs": [
    {
     "name": "stdout",
     "output_type": "stream",
     "text": [
      "3\n"
     ]
    }
   ],
   "source": [
    "# For integer data types, + operator is used to perform arithmetic addition operation.\n",
    "num1 = 1\n",
    "num2 = 2\n",
    "print(num1+num2)"
   ]
  },
  {
   "cell_type": "code",
   "execution_count": null,
   "id": "20da4392",
   "metadata": {},
   "outputs": [
    {
     "name": "stdout",
     "output_type": "stream",
     "text": [
      "Python Programming\n"
     ]
    }
   ],
   "source": [
    "# for string data types, + operator is used to perform concatenation.\n",
    "str1 = \"Python\"\n",
    "str2 = \"Programming\"\n",
    "print(str1+\" \"+str2)"
   ]
  },
  {
   "cell_type": "markdown",
   "id": "41823fe7",
   "metadata": {},
   "source": [
    "### Example 2: Polymorphic len() function  (Function Polymorphism)"
   ]
  },
  {
   "cell_type": "code",
   "execution_count": null,
   "id": "37102a7d",
   "metadata": {},
   "outputs": [
    {
     "name": "stdout",
     "output_type": "stream",
     "text": [
      "9\n",
      "3\n",
      "2\n"
     ]
    }
   ],
   "source": [
    "print(len(\"Programiz\"))     # lenth of string\n",
    "print(len([\"Python\", \"\", \"C\"]))     # number of items\n",
    "print(len({\"Name\": \"John\", \"Address\": \"Nepal\"}))    # munber of keys"
   ]
  },
  {
   "cell_type": "markdown",
   "id": "e34a4cd9",
   "metadata": {},
   "source": [
    "## Polymorphism With Inheritance"
   ]
  },
  {
   "cell_type": "raw",
   "id": "1ca3b832",
   "metadata": {},
   "source": [
    "* Polymorphism is mainly used with inheritance.Using method overriding polymorphism allows us to defines methods in the child     class that have the same name as the methods in the parent class. This process of re-implementing the inherited method in the   child class is known as Method Overriding.\n",
    "* In polymorphism, Python first checks the object’s class type and executes the appropriate method when we call the method"
   ]
  },
  {
   "cell_type": "markdown",
   "id": "07570795",
   "metadata": {},
   "source": [
    "## Method Overriding"
   ]
  },
  {
   "cell_type": "raw",
   "id": "3cd607fd",
   "metadata": {},
   "source": [
    "* In the method overriding, methods or functions must have the same name and same signatures"
   ]
  },
  {
   "cell_type": "code",
   "execution_count": 2,
   "id": "dddc60ef",
   "metadata": {},
   "outputs": [
    {
     "name": "stdout",
     "output_type": "stream",
     "text": [
      "Details: Truck x1 white 75000\n",
      "Vehicle max speed is 150\n",
      "Vehicle change 6 gear\n"
     ]
    }
   ],
   "source": [
    "class Vehicle:\n",
    "\n",
    "    def __init__(self, name, color, price):\n",
    "        self.name = name\n",
    "        self.color = color\n",
    "        self.price = price\n",
    "\n",
    "    def show(self):\n",
    "        print('Details:', self.name, self.color, self.price)\n",
    "\n",
    "    def max_speed(self):\n",
    "        print('Vehicle max speed is 150')\n",
    "\n",
    "    def change_gear(self):\n",
    "        print('Vehicle change 6 gear')\n",
    "\n",
    "class Car(Vehicle):       # inherit from vehicle class\n",
    "    def max_speed(self):\n",
    "        print('Car max speed is 240')\n",
    "\n",
    "    def change_gear(self):\n",
    "        print('Car change 5 gear')\n",
    "\n",
    "car = Car('Car x1', 'Red', 20000)   # Car Object\n",
    "car.show()\n",
    "car.max_speed()    # calls methods from Car class\n",
    "car.change_gear()\n",
    "\n",
    "vehicle = Vehicle('Truck x1', 'white', 75000)    # Vehicle Object\n",
    "vehicle.show()\n",
    "vehicle.max_speed()    # calls method from a Vehicle class\n",
    "vehicle.change_gear()"
   ]
  },
  {
   "cell_type": "raw",
   "id": "b799fe48",
   "metadata": {},
   "source": [
    "the Python interpreter recognizes that the max_speed() and change_gear() methods are overridden for the car object. So, it uses the one defined in the child class (Car). On the other hand, the show() method isn’t overridden in the Car class, so it is used from the Vehicle class."
   ]
  },
  {
   "cell_type": "markdown",
   "id": "d5a0ef3e",
   "metadata": {},
   "source": [
    "## Overrride Built-in Functions"
   ]
  },
  {
   "cell_type": "raw",
   "id": "9f032534",
   "metadata": {},
   "source": [
    "* In Python, we can change the default behavior of the built-in functions. For example, we can change or extend the built-in       functions such as len(), abs(), or divmod() by redefining them in our class."
   ]
  },
  {
   "cell_type": "code",
   "execution_count": null,
   "id": "cb57743b",
   "metadata": {},
   "outputs": [
    {
     "name": "stdout",
     "output_type": "stream",
     "text": [
      "Redefine length\n",
      "4\n"
     ]
    }
   ],
   "source": [
    "class Shopping:\n",
    "    def __init__(self, basket, buyer):\n",
    "        self.basket = list(basket)\n",
    "        self.buyer = buyer\n",
    "\n",
    "    def __len__(self):\n",
    "        print('Redefine length')\n",
    "        count = len(self.basket)    # count total items in a different way        \n",
    "        return count * 2            # pair of shoes and shirt+pant\n",
    "\n",
    "shopping = Shopping(['Shoes', 'dress'], 'Ashish')\n",
    "print(len(shopping))"
   ]
  },
  {
   "cell_type": "markdown",
   "id": "c969af4c",
   "metadata": {},
   "source": [
    "## Polymorphism In Class methods"
   ]
  },
  {
   "cell_type": "raw",
   "id": "78d59e5d",
   "metadata": {},
   "source": [
    "* Polymorphism with class methods is useful when we group different objects having the same method. we can add them to a list or   a tuple, and we don’t need to check the object type before calling their methods. Instead, Python will check object type at     runtime and call the correct method. "
   ]
  },
  {
   "cell_type": "code",
   "execution_count": null,
   "id": "3351b39c",
   "metadata": {},
   "outputs": [
    {
     "name": "stdout",
     "output_type": "stream",
     "text": [
      "Petrol\n",
      "Max speed 350\n",
      "Diesel\n",
      "Max speed is 240\n"
     ]
    }
   ],
   "source": [
    "class Ferrari:\n",
    "    def fuel_type(self):\n",
    "        print(\"Petrol\")\n",
    "\n",
    "    def max_speed(self):\n",
    "        print(\"Max speed 350\")\n",
    "\n",
    "class BMW:\n",
    "    def fuel_type(self):\n",
    "        print(\"Diesel\")\n",
    "\n",
    "    def max_speed(self):\n",
    "        print(\"Max speed is 240\")\n",
    "\n",
    "ferrari = Ferrari()\n",
    "bmw = BMW()\n",
    "\n",
    "for car in (ferrari, bmw):     # iterate objects of same type\n",
    "    car.fuel_type()            # call methods without checking class of object\n",
    "    car.max_speed()"
   ]
  },
  {
   "cell_type": "raw",
   "id": "e7bf0824",
   "metadata": {},
   "source": [
    "- we have created two classes Ferrari and BMW. They have the same instance method names fuel_type() and max_speed(). However, we   have not linked both the classes nor have we used inheritance.\n",
    "- We packed two different objects into a tuple and iterate through it using a car variable. It is possible due to polymorphism     because we have added the same method in both classes Python first checks the object’s class type and executes the method       present in its class."
   ]
  },
  {
   "cell_type": "markdown",
   "id": "8d6980d5",
   "metadata": {},
   "source": [
    "## Polymorphism with Function and Objects"
   ]
  },
  {
   "cell_type": "raw",
   "id": "7ba535b4",
   "metadata": {},
   "source": [
    "* We can create polymorphism with a function that can take any object as a parameter and execute its method without checking its   class type. Using this, we can call object actions using the same function instead of repeating method calls."
   ]
  },
  {
   "cell_type": "code",
   "execution_count": null,
   "id": "f9f3bf79",
   "metadata": {},
   "outputs": [
    {
     "name": "stdout",
     "output_type": "stream",
     "text": [
      "Petrol\n",
      "Max speed 350\n",
      "Diesel\n",
      "Max speed is 240\n"
     ]
    }
   ],
   "source": [
    "class Ferrari:\n",
    "    def fuel_type(self):\n",
    "        print(\"Petrol\")\n",
    "\n",
    "    def max_speed(self):\n",
    "        print(\"Max speed 350\")\n",
    "\n",
    "class BMW:\n",
    "    def fuel_type(self):\n",
    "        print(\"Diesel\")\n",
    "\n",
    "    def max_speed(self):\n",
    "        print(\"Max speed is 240\")\n",
    "\n",
    "def car_details(obj):    # normal function\n",
    "    obj.fuel_type()\n",
    "    obj.max_speed()\n",
    "\n",
    "ferrari = Ferrari()\n",
    "bmw = BMW()\n",
    "\n",
    "car_details(ferrari)\n",
    "car_details(bmw)"
   ]
  },
  {
   "cell_type": "markdown",
   "id": "14bc1054",
   "metadata": {},
   "source": [
    "## Polymorphism In Built-in Methods"
   ]
  },
  {
   "cell_type": "raw",
   "id": "6d49b7b9",
   "metadata": {},
   "source": [
    "* The built-in function reversed(obj) returns the iterable by reversing the given object. For example, if you pass a string to     it, it will reverse it. But if you pass a list of strings to it, it will return the iterable by reversing the order of           elements (it will not reverse the individual string)."
   ]
  },
  {
   "cell_type": "code",
   "execution_count": 5,
   "id": "6b64edfd",
   "metadata": {},
   "outputs": [
    {
     "name": "stdout",
     "output_type": "stream",
     "text": [
      "Reverse string :\n",
      "l\n",
      "o\n",
      "o\n",
      "h\n",
      "c\n",
      "S\n",
      " \n",
      "C\n",
      "B\n",
      "A\n",
      "\n",
      "Reverse list :\n",
      "Kelly Jessa Emma "
     ]
    }
   ],
   "source": [
    "students = ['Emma', 'Jessa', 'Kelly']\n",
    "school = 'ABC School'\n",
    "\n",
    "print('Reverse string :')\n",
    "for i in reversed(school):\n",
    "    print(i)\n",
    "\n",
    "print('\\nReverse list :')\n",
    "for i in reversed(students):\n",
    "    print(i, end=' ')"
   ]
  },
  {
   "cell_type": "markdown",
   "id": "ea8412f9",
   "metadata": {},
   "source": [
    "## Method Overloading"
   ]
  },
  {
   "cell_type": "raw",
   "id": "ad30cb1b",
   "metadata": {},
   "source": [
    "* In the method overloading, methods or functions must have the same name and different signature."
   ]
  },
  {
   "cell_type": "code",
   "execution_count": 2,
   "id": "f58f4e92",
   "metadata": {},
   "outputs": [
    {
     "name": "stdout",
     "output_type": "stream",
     "text": [
      "20\n"
     ]
    }
   ],
   "source": [
    "def product(a, b):\n",
    "    p = a * b \n",
    "    print(p)\n",
    "    \n",
    "def product(a, b):\n",
    "    p = a * b\n",
    "    print(p)\n",
    "\n",
    "# product(4, 5 , 6)\n",
    "product(4, 5)"
   ]
  },
  {
   "cell_type": "raw",
   "id": "49c4ab6e",
   "metadata": {},
   "source": [
    "* to overcome the above problem we can use different ways to achieve the method overloading."
   ]
  },
  {
   "cell_type": "raw",
   "id": "c5ba13cf",
   "metadata": {},
   "source": [
    "* Method 1 (Not The Most Efficient Method):\n",
    "--> We can use the arguments to make the same function work differently i.e. as per the arguments."
   ]
  },
  {
   "cell_type": "code",
   "execution_count": null,
   "id": "11021e50",
   "metadata": {},
   "outputs": [
    {
     "name": "stdout",
     "output_type": "stream",
     "text": [
      "11\n",
      "Hi Geeks\n"
     ]
    }
   ],
   "source": [
    "def add(datatype, *args):\n",
    "\n",
    "    if datatype =='int':\n",
    "        answer = 0\n",
    "    if datatype =='str':\n",
    "        answer =''\n",
    "\n",
    "    for x in args:   \n",
    "        answer = answer + x\n",
    "    print(answer)\n",
    "\n",
    "add('int',5,6)\n",
    "add('str','Hi ','Geeks')"
   ]
  },
  {
   "cell_type": "raw",
   "id": "15e7b046",
   "metadata": {},
   "source": [
    "* Method 2 (Efficient One):\n",
    "--> By Using Multiple Dispatch Decorator \n",
    "--> Multiple Dispatch Decorator Can be installed by:"
   ]
  },
  {
   "cell_type": "raw",
   "id": "8f47d63c",
   "metadata": {},
   "source": []
  }
 ],
 "metadata": {
  "kernelspec": {
   "display_name": "Python 3.8.2 64-bit",
   "language": "python",
   "name": "python3"
  },
  "language_info": {
   "codemirror_mode": {
    "name": "ipython",
    "version": 3
   },
   "file_extension": ".py",
   "mimetype": "text/x-python",
   "name": "python",
   "nbconvert_exporter": "python",
   "pygments_lexer": "ipython3",
   "version": "3.12.1"
  },
  "vscode": {
   "interpreter": {
    "hash": "bcc88a5c2b6accdcaf39c87a931cb715cc1ab684beb32819a99a5a377f971b8d"
   }
  }
 },
 "nbformat": 4,
 "nbformat_minor": 5
}
