{
 "cells": [
  {
   "cell_type": "markdown",
   "id": "3e4ab99b",
   "metadata": {},
   "source": [
    "# What is Python?"
   ]
  },
  {
   "cell_type": "code",
   "execution_count": null,
   "id": "cb84327b",
   "metadata": {},
   "outputs": [],
   "source": [
    "# Python is a popular programming language. It was created by Guido van Rossum,python sofywhare company and released in 1991."
   ]
  },
  {
   "cell_type": "code",
   "execution_count": null,
   "id": "0ce2a287",
   "metadata": {},
   "outputs": [],
   "source": [
    "# It is used for:\n",
    "#     -web development (server-side)\n",
    "#     -software development "
   ]
  },
  {
   "cell_type": "markdown",
   "id": "54be418e",
   "metadata": {},
   "source": [
    "#  Python Features and Advantages"
   ]
  },
  {
   "cell_type": "code",
   "execution_count": null,
   "id": "9c7a0b4a",
   "metadata": {},
   "outputs": [],
   "source": [
    "# 1. Easy to Code :\n",
    "#     -Python is a very high-level programming language, yet it is effortless to learn. \n",
    "#     -Anyone can learn to code in Python in just a few hours or a few days.\n",
    "#     -the basic Python syntax is very easy, as compared to other popular languages like C, C++, and Java. \n",
    "\n",
    "# 2. Easy to Read :\n",
    "#     -Python code looks like simple English words.\n",
    "    \n",
    "# 3. Free and Open-Source :\n",
    "#     -it is completely free to use, even for commercial purposes. \n",
    "#      It doesn't cost anything to download Python or to include it in your application. \n",
    "#      It can also be freely modified and re-distributed. \n",
    "#      Python can be downloaded from the official website = \"www.python.org/downloads\".\n",
    "     \n",
    "# 4. Interpreted :\n",
    "#     -When a programming language is interpreted, it means that the source code is executed line by line, and not all at once. \n",
    "#      Programming languages such as C++ or Java are not interpreted, and hence need to be compiled first to run them.\n",
    "#      There is no need to compile Python because it is processed at runtime by the interpreter.\n",
    "     \n",
    "# 5. Portable :\n",
    "#     -Python is portable in the sense that the same code can be used on different machines. \n",
    "#      Suppose you write a Python code on a Mac. If you want to run it on Windows or Linux later, you don’t have to make any \n",
    "#      changes to it.\n",
    "     \n",
    "# 6. Object-Oriented programing :\n",
    "#     -in Python, object-oriented Programming (OOPs) is a programming paradigm that uses objects and classes in programming. \n",
    "#      It aims to implement real-world entities like Polymorphism, Encapsulation, Inheritance, Data Abstraction.\n",
    "\n",
    "# 7. Expressive :\n",
    "#     -Python needs to use only a few lines of code to perform complex tasks. \n",
    "#      For example, to display Hello World, you simply need to type one line - print(“Hello World”). Other languages like Java  \n",
    "#      or C would take up multiple lines to execute this.\n",
    "\n",
    "# 8. Support for GUI (Graphical User Interface) :\n",
    "#     -One of the key aspects of any programming language is support for GUI. \n",
    "#      A user can easily interact with the software using a GUI. Python offers various toolkits, such as Tkinter, wxPython and \n",
    "#      JPython, which allows for GUI's easy and fast development."
   ]
  },
  {
   "cell_type": "markdown",
   "id": "5511e108",
   "metadata": {},
   "source": []
  },
  {
   "cell_type": "markdown",
   "id": "356faf48",
   "metadata": {},
   "source": [
    "# Python Real-Time IDEs"
   ]
  },
  {
   "cell_type": "code",
   "execution_count": null,
   "id": "348be571",
   "metadata": {},
   "outputs": [],
   "source": [
    "# * General Editors and IDEs(integreted development environment) with Python Support\n",
    "# --> Eclipse + PyDev\n",
    "#     Sublime Text\n",
    "#     Atom\n",
    "#     Visual Studio\n",
    "#     Visual Studio Code\n",
    "\n",
    "# * Python-Specific Editors and IDEs\n",
    "# --> PyCharm\n",
    "#     Spyder\n",
    "#     Thonny\n",
    "#     Jupyter Notebook\n",
    "#     Python"
   ]
  },
  {
   "cell_type": "markdown",
   "id": "1679751d",
   "metadata": {},
   "source": [
    "# Python Syntax"
   ]
  },
  {
   "cell_type": "code",
   "execution_count": 2,
   "id": "03062f31",
   "metadata": {
    "scrolled": true
   },
   "outputs": [
    {
     "name": "stdout",
     "output_type": "stream",
     "text": [
      "m   A\n",
      "tech\n",
      "56\n"
     ]
    }
   ],
   "source": [
    "print(\"m   A\")\n",
    "print('tech')\n",
    "print(56)\n",
    "#print(56.23)\n",
    "#print(58+6j)"
   ]
  },
  {
   "cell_type": "markdown",
   "id": "ac0c4e05",
   "metadata": {},
   "source": [
    "# Comments"
   ]
  },
  {
   "cell_type": "code",
   "execution_count": 2,
   "id": "ae3dbbe3",
   "metadata": {},
   "outputs": [
    {
     "name": "stdout",
     "output_type": "stream",
     "text": [
      "varialbe\n"
     ]
    },
    {
     "data": {
      "text/plain": [
       "'888888888888\\n888888888888888\\n88888888'"
      ]
     },
     "execution_count": 2,
     "metadata": {},
     "output_type": "execute_result"
    }
   ],
   "source": [
    "# a ='varialbe'\n",
    "# print(a)\n",
    "# '''variable'''\n",
    "# variable\n",
    "# variable\n",
    "# ncejcn\n",
    "\n",
    "'''888888888888\n",
    "888888888888888\n",
    "88888888'''\n",
    "\n",
    "# #print\n",
    "\"\"\"'''kjsklsj\n",
    "kljskljs\n",
    "kkdsjdkll\n",
    "kdkdj'''\"\"\"\n"
   ]
  },
  {
   "cell_type": "code",
   "execution_count": 1,
   "id": "4e42eda6",
   "metadata": {},
   "outputs": [],
   "source": [
    "# Comments starts with a '#' , and Python will ignore them.\n",
    "# shot cut for comment is ctrl + '/' ."
   ]
  },
  {
   "cell_type": "markdown",
   "id": "1219b1d7",
   "metadata": {},
   "source": [
    "# Keywords"
   ]
  },
  {
   "cell_type": "code",
   "execution_count": null,
   "id": "e7cea885",
   "metadata": {},
   "outputs": [],
   "source": [
    "# Python keywords are reserved words that have a special meaning associated with them and can’t be used for anything but those \n",
    "# specific purposes. Each keyword is designed to achieve specific functionality."
   ]
  },
  {
   "cell_type": "code",
   "execution_count": 3,
   "id": "9833a875",
   "metadata": {},
   "outputs": [
    {
     "name": "stdout",
     "output_type": "stream",
     "text": [
      "The list of keywords is : \n",
      "['False', 'None', 'True', 'and', 'as', 'assert', 'async', 'await', 'break', 'class', 'continue', 'def', 'del', 'elif', 'else', 'except', 'finally', 'for', 'from', 'global', 'if', 'import', 'in', 'is', 'lambda', 'nonlocal', 'not', 'or', 'pass', 'raise', 'return', 'try', 'while', 'with', 'yield']\n"
     ]
    }
   ],
   "source": [
    "import keyword\n",
    " \n",
    "# printing all keywords at once using \"kwlist()\"\n",
    "print(\"The list of keywords is : \")\n",
    "print(keyword.kwlist)\n"
   ]
  },
  {
   "cell_type": "code",
   "execution_count": null,
   "id": "69bb9564",
   "metadata": {},
   "outputs": [],
   "source": [
    "# All the keywords except, True, False, and None, must be written in a lowercase alphabet symbol."
   ]
  },
  {
   "cell_type": "markdown",
   "id": "85c743f9",
   "metadata": {},
   "source": [
    "# Python Data Types"
   ]
  },
  {
   "cell_type": "code",
   "execution_count": null,
   "id": "364525b0",
   "metadata": {},
   "outputs": [],
   "source": [
    "# Text Type:  str\n",
    "# Numeric Types:  int, float, complex\n",
    "# Sequence Types:  list, tuple, range [1,2,3,4,5]\n",
    "# Mapping Type:  dict\n",
    "# Set Types:  set\n",
    "# Boolean Type:  bool\n",
    "# None Type:  NoneType\n"
   ]
  },
  {
   "cell_type": "markdown",
   "id": "2493f883",
   "metadata": {},
   "source": [
    "# Python Variables"
   ]
  },
  {
   "cell_type": "code",
   "execution_count": 4,
   "id": "6e6ee7a3",
   "metadata": {},
   "outputs": [
    {
     "name": "stdout",
     "output_type": "stream",
     "text": [
      "<class 'int'>\n",
      "56\n",
      "<class 'float'>\n",
      "<class 'str'>\n"
     ]
    }
   ],
   "source": [
    "# Variables are containers for storing data values.\n",
    "# Python has no command for declaring a variable.\n",
    "# A variable is created the moment you first assign a value to it.\n",
    "\n",
    "x= 56\n",
    "print(type(x))\n",
    "print(x)\n",
    "\n",
    "y = 56.23\n",
    "print(type(y))\n",
    "\n",
    "z = 'india'\n",
    "print(type(z))"
   ]
  },
  {
   "cell_type": "code",
   "execution_count": null,
   "id": "1197822a",
   "metadata": {},
   "outputs": [],
   "source": [
    "# variable_name = variable_value\n",
    "\n",
    "# A variable can have a short name (like x and y) or a more descriptive name (age, carname, total_volume).\n",
    "\n",
    "# Rules for Python variables:\n",
    "#     A variable name must start with a letter or the underscore character\n",
    "#     A variable name cannot start with a number\n",
    "#     A variable name can only contain alpha-numeric characters and underscores (A-z, 0-9, and _ )\n",
    "#     Variable names are case-sensitive (age, Age and AGE are three different variables)"
   ]
  },
  {
   "cell_type": "code",
   "execution_count": 5,
   "id": "9ee3102a",
   "metadata": {},
   "outputs": [
    {
     "name": "stdout",
     "output_type": "stream",
     "text": [
      "89.23\n"
     ]
    }
   ],
   "source": [
    "# Example :\n",
    "\n",
    "fruitsnaMe= 89.23\n",
    "print(fruitsnaMe)\n"
   ]
  },
  {
   "cell_type": "code",
   "execution_count": 6,
   "id": "99263dca",
   "metadata": {},
   "outputs": [
    {
     "name": "stdout",
     "output_type": "stream",
     "text": [
      "hy\n",
      "hy\n",
      "hy\n"
     ]
    }
   ],
   "source": [
    "a=b=c = \"hy\"\n",
    "print(a)\n",
    "print(b)\n",
    "print(c)"
   ]
  },
  {
   "cell_type": "code",
   "execution_count": null,
   "id": "ce2918fa",
   "metadata": {},
   "outputs": [],
   "source": [
    "a = 56\n",
    "b = \"hy\"\n",
    "c = 78\n",
    "print(a)\n",
    "print(b)\n",
    "print(c)"
   ]
  },
  {
   "cell_type": "code",
   "execution_count": 3,
   "id": "85d767bb",
   "metadata": {},
   "outputs": [
    {
     "name": "stdout",
     "output_type": "stream",
     "text": [
      "Ram 25 7.23\n"
     ]
    }
   ],
   "source": [
    "a,b,c = 'Ram',25,7.23\n",
    "print(a,b,c)"
   ]
  },
  {
   "cell_type": "code",
   "execution_count": 8,
   "id": "0240734f",
   "metadata": {},
   "outputs": [
    {
     "name": "stdout",
     "output_type": "stream",
     "text": [
      "15 15 15\n"
     ]
    }
   ],
   "source": [
    "a = b = c = 15\n",
    "print(a,b,c)"
   ]
  },
  {
   "cell_type": "code",
   "execution_count": 4,
   "id": "4f2c5e54",
   "metadata": {},
   "outputs": [
    {
     "name": "stdout",
     "output_type": "stream",
     "text": [
      "15\n"
     ]
    },
    {
     "ename": "NameError",
     "evalue": "name 'A' is not defined",
     "output_type": "error",
     "traceback": [
      "\u001b[1;31m---------------------------------------------------------------------------\u001b[0m",
      "\u001b[1;31mNameError\u001b[0m                                 Traceback (most recent call last)",
      "Cell \u001b[1;32mIn[4], line 6\u001b[0m\n\u001b[0;32m      4\u001b[0m a\u001b[38;5;241m=\u001b[39m\u001b[38;5;241m15\u001b[39m\n\u001b[0;32m      5\u001b[0m \u001b[38;5;28mprint\u001b[39m(a)\n\u001b[1;32m----> 6\u001b[0m \u001b[38;5;28mprint\u001b[39m(\u001b[43mA\u001b[49m)\n",
      "\u001b[1;31mNameError\u001b[0m: name 'A' is not defined"
     ]
    }
   ],
   "source": [
    "# case sensitive language\n",
    "\n",
    "a=5\n",
    "A=15\n",
    "print(a)\n",
    "print(A)"
   ]
  },
  {
   "cell_type": "code",
   "execution_count": null,
   "id": "8367c027",
   "metadata": {},
   "outputs": [],
   "source": [
    "Camel = 25\n",
    "camel = 12\n",
    "caMel = 18\n",
    "print(Camel,camel,caMel)"
   ]
  },
  {
   "cell_type": "code",
   "execution_count": 9,
   "id": "5b26703d",
   "metadata": {},
   "outputs": [],
   "source": [
    "# spacing is not allowed\n",
    "divyesh = 5"
   ]
  },
  {
   "cell_type": "code",
   "execution_count": 10,
   "id": "e2888e7e",
   "metadata": {},
   "outputs": [],
   "source": [
    "# special characters are not alloed\n",
    "divyesh = 4 "
   ]
  },
  {
   "cell_type": "code",
   "execution_count": null,
   "id": "9d5eb427",
   "metadata": {},
   "outputs": [],
   "source": [
    "# dash is not allowed\n",
    "divyesh = 3 "
   ]
  },
  {
   "cell_type": "code",
   "execution_count": null,
   "id": "f8143466",
   "metadata": {},
   "outputs": [],
   "source": [
    "# number at front is not alloed\n",
    "divyesh = 8 "
   ]
  },
  {
   "cell_type": "code",
   "execution_count": null,
   "id": "3d2e9207",
   "metadata": {},
   "outputs": [],
   "source": [
    "divyesh12 = 12\n",
    "print(divyesh12)"
   ]
  },
  {
   "cell_type": "code",
   "execution_count": null,
   "id": "ecc4173c",
   "metadata": {},
   "outputs": [],
   "source": [
    "# underscore is alloed\n",
    "fruits_grows_in_gujarat = 'Mango'\n",
    "print(fruits_grows_in_gujarat)"
   ]
  },
  {
   "cell_type": "code",
   "execution_count": 5,
   "id": "5bd3ec35",
   "metadata": {},
   "outputs": [
    {
     "name": "stdout",
     "output_type": "stream",
     "text": [
      "5\n",
      "john\n"
     ]
    }
   ],
   "source": [
    "x = 5\n",
    "y = \"john\"\n",
    "print(x)\n",
    "print(y)"
   ]
  },
  {
   "cell_type": "code",
   "execution_count": 7,
   "id": "a4773f2e",
   "metadata": {},
   "outputs": [
    {
     "ename": "ValueError",
     "evalue": "invalid literal for int() with base 10: 'hy'",
     "output_type": "error",
     "traceback": [
      "\u001b[1;31m---------------------------------------------------------------------------\u001b[0m",
      "\u001b[1;31mValueError\u001b[0m                                Traceback (most recent call last)",
      "Cell \u001b[1;32mIn[7], line 1\u001b[0m\n\u001b[1;32m----> 1\u001b[0m x \u001b[38;5;241m=\u001b[39m \u001b[38;5;28;43mint\u001b[39;49m\u001b[43m(\u001b[49m\u001b[38;5;124;43m\"\u001b[39;49m\u001b[38;5;124;43mhy\u001b[39;49m\u001b[38;5;124;43m\"\u001b[39;49m\u001b[43m)\u001b[49m\n\u001b[0;32m      2\u001b[0m \u001b[38;5;28mprint\u001b[39m(\u001b[38;5;28mtype\u001b[39m(x))\n\u001b[0;32m      3\u001b[0m \u001b[38;5;66;03m# y = float(3)\u001b[39;00m\n\u001b[0;32m      4\u001b[0m \u001b[38;5;66;03m# z = int('hy')\u001b[39;00m\n\u001b[0;32m      5\u001b[0m \u001b[38;5;66;03m# print(z)\u001b[39;00m\n\u001b[1;32m   (...)\u001b[0m\n\u001b[0;32m     10\u001b[0m \u001b[38;5;66;03m# print(type(y))\u001b[39;00m\n\u001b[0;32m     11\u001b[0m \u001b[38;5;66;03m# print(z)\u001b[39;00m\n",
      "\u001b[1;31mValueError\u001b[0m: invalid literal for int() with base 10: 'hy'"
     ]
    }
   ],
   "source": [
    "x = int(\"hy\")\n",
    "print(type(x))\n",
    "# y = float(3)\n",
    "# z = int('hy')\n",
    "# print(z)\n",
    "# print(y)\n",
    "# print(x)\n",
    "# print(type(z))\n",
    "#print(type(x))\n",
    "# print(type(y))\n",
    "# print(z)"
   ]
  },
  {
   "cell_type": "code",
   "execution_count": 12,
   "id": "b8d46e09",
   "metadata": {},
   "outputs": [
    {
     "name": "stdout",
     "output_type": "stream",
     "text": [
      "5\n",
      "DvS\n"
     ]
    }
   ],
   "source": [
    "a = 5\n",
    "A = \"DvS\"\n",
    "print(a)\n",
    "print(A)"
   ]
  },
  {
   "cell_type": "code",
   "execution_count": 9,
   "id": "3b1a61a4",
   "metadata": {},
   "outputs": [
    {
     "name": "stdout",
     "output_type": "stream",
     "text": [
      "my name is Divyesh\n"
     ]
    }
   ],
   "source": [
    "x = \"my\"\n",
    "y = \"name is\"\n",
    "z = \"Divyesh\"\n",
    "print(x,y,z)"
   ]
  },
  {
   "cell_type": "code",
   "execution_count": 11,
   "id": "3ee4fca0",
   "metadata": {},
   "outputs": [
    {
     "name": "stdout",
     "output_type": "stream",
     "text": [
      "myname isDivyesh\n"
     ]
    }
   ],
   "source": [
    "x = \"my\"\n",
    "y = \"name is\"\n",
    "z = \"Divyesh\"\n",
    "print(x+y+z)"
   ]
  },
  {
   "cell_type": "code",
   "execution_count": 13,
   "id": "a86447ef",
   "metadata": {},
   "outputs": [
    {
     "name": "stdout",
     "output_type": "stream",
     "text": [
      "60.5\n"
     ]
    }
   ],
   "source": [
    "x = 4.5\n",
    "y = 56\n",
    "print(x+y)"
   ]
  },
  {
   "cell_type": "code",
   "execution_count": 16,
   "id": "fd9165cd",
   "metadata": {},
   "outputs": [
    {
     "name": "stdout",
     "output_type": "stream",
     "text": [
      "5 Coding\n"
     ]
    }
   ],
   "source": [
    "x = 5\n",
    "y = \"Coding\"\n",
    "print(x,y)"
   ]
  },
  {
   "cell_type": "code",
   "execution_count": 15,
   "id": "b0aa3e93",
   "metadata": {},
   "outputs": [
    {
     "name": "stdout",
     "output_type": "stream",
     "text": [
      "==     ==    ==\n"
     ]
    }
   ],
   "source": [
    "print(\"==     ==    ==\")"
   ]
  },
  {
   "cell_type": "code",
   "execution_count": null,
   "id": "44a3cae8",
   "metadata": {},
   "outputs": [
    {
     "ename": "",
     "evalue": "",
     "output_type": "error",
     "traceback": [
      "\u001b[1;31mRunning cells with 'c:\\Users\\Standard-2\\AppData\\Local\\Programs\\Python\\Python311\\python.exe' requires the ipykernel package.\n",
      "\u001b[1;31mRun the following command to install 'ipykernel' into the Python environment. \n",
      "\u001b[1;31mCommand: 'c:/Users/Standard-2/AppData/Local/Programs/Python/Python311/python.exe -m pip install ipykernel -U --user --force-reinstall'"
     ]
    }
   ],
   "source": [
    "x = \"4\"\n",
    "y = \"7.8\"\n",
    "z = \"asd\"\n",
    "print(x+\" \"+y+\" \"+z)"
   ]
  },
  {
   "cell_type": "code",
   "execution_count": 16,
   "id": "4048b369",
   "metadata": {},
   "outputs": [
    {
     "name": "stdout",
     "output_type": "stream",
     "text": [
      "<class 'str'>\n"
     ]
    }
   ],
   "source": [
    "print(type(\"hy\"))"
   ]
  },
  {
   "cell_type": "code",
   "execution_count": 19,
   "id": "6704e5be",
   "metadata": {},
   "outputs": [
    {
     "name": "stdout",
     "output_type": "stream",
     "text": [
      "apple\n"
     ]
    }
   ],
   "source": [
    "_n89ame = \"apple\"\n",
    "print(_n89ame)"
   ]
  },
  {
   "cell_type": "code",
   "execution_count": null,
   "id": "b3ba3aaf",
   "metadata": {},
   "outputs": [],
   "source": [
    "a,b,c = 45,56,89\n",
    "print(a,b,c)"
   ]
  },
  {
   "cell_type": "code",
   "execution_count": 17,
   "id": "143c716f",
   "metadata": {},
   "outputs": [
    {
     "name": "stdout",
     "output_type": "stream",
     "text": [
      "<class 'str'>\n"
     ]
    }
   ],
   "source": [
    "a = (\"56\")\n",
    "print(type(a))"
   ]
  },
  {
   "cell_type": "code",
   "execution_count": 21,
   "id": "75b68cfb",
   "metadata": {},
   "outputs": [
    {
     "name": "stdout",
     "output_type": "stream",
     "text": [
      "hyi'm89\n"
     ]
    }
   ],
   "source": [
    "a = 'hy'\n",
    "b = \"i'm\"\n",
    "c = \"89\"\n",
    "print(a+b+c)"
   ]
  }
 ],
 "metadata": {
  "kernelspec": {
   "display_name": "Python 3.8.2 64-bit",
   "language": "python",
   "name": "python3"
  },
  "language_info": {
   "codemirror_mode": {
    "name": "ipython",
    "version": 3
   },
   "file_extension": ".py",
   "mimetype": "text/x-python",
   "name": "python",
   "nbconvert_exporter": "python",
   "pygments_lexer": "ipython3",
   "version": "3.12.1"
  },
  "vscode": {
   "interpreter": {
    "hash": "bcc88a5c2b6accdcaf39c87a931cb715cc1ab684beb32819a99a5a377f971b8d"
   }
  }
 },
 "nbformat": 4,
 "nbformat_minor": 5
}
