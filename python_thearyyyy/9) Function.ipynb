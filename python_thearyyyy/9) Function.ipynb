{
 "cells": [
  {
   "cell_type": "markdown",
   "id": "33b2e4ed",
   "metadata": {},
   "source": [
    "# Function"
   ]
  },
  {
   "cell_type": "raw",
   "id": "f6e975f6",
   "metadata": {},
   "source": [
    "why we defin function?\n",
    "- difine function def keyword\n",
    "-code reusablity\n",
    "-simplify main program\n",
    "-proper arranging of code\n",
    "-easy to understand\n",
    "-reduce size and memory of code"
   ]
  },
  {
   "cell_type": "markdown",
   "id": "cf99a804",
   "metadata": {},
   "source": [
    "# Types of Functions"
   ]
  },
  {
   "cell_type": "raw",
   "id": "0e5f80eb",
   "metadata": {},
   "source": [
    "Python support two types of functions :-  1. Built-in function\n",
    "                                          2. User-defined function"
   ]
  },
  {
   "cell_type": "markdown",
   "id": "f4178f33",
   "metadata": {},
   "source": [
    "## Built-in function"
   ]
  },
  {
   "cell_type": "raw",
   "id": "ff6c8a75",
   "metadata": {},
   "source": [
    "The functions which are come along with Python itself are called a built-in function or predefined function. \n",
    "Some of them are listed : range(), id(), type(), input(), eval() etc."
   ]
  },
  {
   "cell_type": "markdown",
   "id": "69c112a8",
   "metadata": {},
   "source": [
    "## User-defined function"
   ]
  },
  {
   "cell_type": "raw",
   "id": "a9e4e45f",
   "metadata": {},
   "source": [
    "Functions which are created by programmer explicitly according to the requirement are called a user-defined function."
   ]
  },
  {
   "cell_type": "raw",
   "id": "b091fb18",
   "metadata": {},
   "source": [
    "Creating a Function :-\n",
    "   - Use the def keyword with the function name to define a function.\n",
    "   - Next, pass the number of parameters as per your requirement. (Optional).\n",
    "   - Next, define the function body with a block of code. This block of code is nothing but the action you wanted to perform.\n",
    "\n",
    "* Note :- In Python, no need to specify curly braces for the function body. The only indentation is essential to separate code \n",
    "          blocks. Otherwise, you will get an error."
   ]
  },
  {
   "cell_type": "markdown",
   "id": "cbf7f96e",
   "metadata": {},
   "source": [
    "## Syntax of creating a function"
   ]
  },
  {
   "cell_type": "raw",
   "id": "a8fd0653",
   "metadata": {},
   "source": [
    "def function_name(parameter1, parameter2):\n",
    "         # function body    \n",
    "         # write some action\n",
    "return value"
   ]
  },
  {
   "cell_type": "raw",
   "id": "2742fcb9",
   "metadata": {},
   "source": [
    "*function_name: Function name is the name of the function. We can give any name to function.\n",
    "*parameter: Parameter is the value passed to the function. We can pass any number of parameters. Function body uses the \n",
    "            parameter’s value to perform an action\n",
    "*function_body: The function body is a block of code that performs some task. This block of code is nothing but the action you \n",
    "                wanted to accomplish.\n",
    "*return value: Return value is the output of the function."
   ]
  },
  {
   "cell_type": "markdown",
   "id": "bb811966",
   "metadata": {},
   "source": [
    "## Creating a function without any parameters"
   ]
  },
  {
   "cell_type": "code",
   "execution_count": 2,
   "id": "dd51e04f",
   "metadata": {},
   "outputs": [
    {
     "name": "stdout",
     "output_type": "stream",
     "text": [
      "Welcome to Coding Cloud\n"
     ]
    }
   ],
   "source": [
    "def message():     # In Python a function is defined using the def keyword.\n",
    "    print(\"Welcome to Coding Cloud\")\n",
    "\n",
    "message()      # call function using its name."
   ]
  },
  {
   "cell_type": "markdown",
   "id": "14effe2a",
   "metadata": {},
   "source": [
    "## Arguments / Parameters"
   ]
  },
  {
   "cell_type": "raw",
   "id": "08651118",
   "metadata": {},
   "source": [
    "*Information can be passed into functions as arguments.\n",
    "*Arguments are specified after the function name, inside the parentheses. You can add as many arguments as you want, just \n",
    "separate them with a comma."
   ]
  },
  {
   "cell_type": "code",
   "execution_count": 61,
   "id": "7f95a9fe",
   "metadata": {},
   "outputs": [
    {
     "name": "stdout",
     "output_type": "stream",
     "text": [
      "Hello John Welcome to PYnative\n",
      "Your course name is Python\n"
     ]
    }
   ],
   "source": [
    "def course_func(name, course_name):\n",
    "    print(\"Hello\", name, \"Welcome to PYnative\")\n",
    "    print(\"Your course name is\", course_name)\n",
    "    \n",
    "course_func('John', 'Python')"
   ]
  },
  {
   "cell_type": "code",
   "execution_count": 1,
   "id": "71f01fee",
   "metadata": {},
   "outputs": [
    {
     "ename": "TypeError",
     "evalue": "course_func() takes 2 positional arguments but 3 were given",
     "output_type": "error",
     "traceback": [
      "\u001b[1;31m---------------------------------------------------------------------------\u001b[0m",
      "\u001b[1;31mTypeError\u001b[0m                                 Traceback (most recent call last)",
      "Cell \u001b[1;32mIn[1], line 5\u001b[0m\n\u001b[0;32m      2\u001b[0m     \u001b[39mprint\u001b[39m(\u001b[39m\"\u001b[39m\u001b[39mHello\u001b[39m\u001b[39m\"\u001b[39m, name, \u001b[39m\"\u001b[39m\u001b[39mWelcome to PYnative\u001b[39m\u001b[39m\"\u001b[39m)\n\u001b[0;32m      3\u001b[0m     \u001b[39mprint\u001b[39m(\u001b[39m\"\u001b[39m\u001b[39mYour course name is\u001b[39m\u001b[39m\"\u001b[39m, course_name)\n\u001b[1;32m----> 5\u001b[0m course_func(\u001b[39m'\u001b[39;49m\u001b[39mJohn\u001b[39;49m\u001b[39m'\u001b[39;49m, \u001b[39m'\u001b[39;49m\u001b[39mPython\u001b[39;49m\u001b[39m'\u001b[39;49m,\u001b[39m'\u001b[39;49m\u001b[39mjava\u001b[39;49m\u001b[39m'\u001b[39;49m)\n",
      "\u001b[1;31mTypeError\u001b[0m: course_func() takes 2 positional arguments but 3 were given"
     ]
    }
   ],
   "source": [
    "def course_func(name, course_name):\n",
    "    print(\"Hello\", name, \"Welcome to PYnative\")\n",
    "    print(\"Your course name is\", course_name)\n",
    "    \n",
    "course_func('John', 'Python','java')"
   ]
  },
  {
   "cell_type": "code",
   "execution_count": 64,
   "id": "11293c80",
   "metadata": {},
   "outputs": [
    {
     "name": "stdout",
     "output_type": "stream",
     "text": [
      "The youngest child is Tobias\n"
     ]
    }
   ],
   "source": [
    "# Keyword Arguments\n",
    "# You can also send arguments with the key = value syntax.\n",
    "def my_function(child3, child2, child1):\n",
    "    print(\"The youngest child is \" + child2)\n",
    "\n",
    "my_function(child1 = \"Emil\", child2 = \"Tobias\", child3 = \"Linus\")"
   ]
  },
  {
   "cell_type": "markdown",
   "id": "f3771bb4",
   "metadata": {},
   "source": [
    "## Arbitrary Arguments, *args"
   ]
  },
  {
   "cell_type": "raw",
   "id": "de22d281",
   "metadata": {},
   "source": [
    "If you do not know how many arguments that will be passed into your function, add a * before the parameter name in the function definition."
   ]
  },
  {
   "cell_type": "code",
   "execution_count": 5,
   "id": "6c03c840",
   "metadata": {},
   "outputs": [
    {
     "name": "stdout",
     "output_type": "stream",
     "text": [
      "The youngest child is Emil\n"
     ]
    }
   ],
   "source": [
    "def my_function(*kids):\n",
    "    print(\"The youngest child is \" + kids[0])\n",
    "\n",
    "my_function(\"Emil\", \"Tobias\", \"Linus\")"
   ]
  },
  {
   "cell_type": "markdown",
   "id": "7bbeece1",
   "metadata": {},
   "source": [
    "## Arbitrary Keyword Arguments, **kwargs"
   ]
  },
  {
   "cell_type": "raw",
   "id": "4172c34a",
   "metadata": {},
   "source": [
    "If you do not know how many keyword arguments that will be passed into your function, add two asterisk: ** before the parameter name in the function definition."
   ]
  },
  {
   "cell_type": "code",
   "execution_count": 4,
   "id": "c371c8ea",
   "metadata": {},
   "outputs": [
    {
     "name": "stdout",
     "output_type": "stream",
     "text": [
      "His last name is Tobias\n"
     ]
    }
   ],
   "source": [
    "def my_function(**kid):\n",
    "    print(\"His last name is \" + kid[\"fname\"])\n",
    "\n",
    "my_function(fname = \"Tobias\", lname = \"Refsnes\")"
   ]
  },
  {
   "cell_type": "markdown",
   "id": "2422c4cb",
   "metadata": {},
   "source": [
    "## Default Parameter Value"
   ]
  },
  {
   "cell_type": "code",
   "execution_count": 4,
   "id": "42088f23",
   "metadata": {},
   "outputs": [
    {
     "name": "stdout",
     "output_type": "stream",
     "text": [
      "I am from india\n",
      "I am from Norway\n",
      "I am from Norway\n",
      "I am from Norway\n"
     ]
    }
   ],
   "source": [
    "def my_function(country = \"Norway\"):\n",
    "    print(\"I am from \" + country)\n",
    "\n",
    "my_function(\"india\")\n",
    "my_function()\n",
    "my_function()\n",
    "my_function()"
   ]
  },
  {
   "cell_type": "markdown",
   "id": "40574c23",
   "metadata": {},
   "source": [
    "## Creating a function with parameters and return value"
   ]
  },
  {
   "cell_type": "raw",
   "id": "3bd3a552",
   "metadata": {},
   "source": [
    "*Functions can return a value. The return value is the output of the function. Use the return keyword to return value from a \n",
    " function."
   ]
  },
  {
   "cell_type": "code",
   "execution_count": 21,
   "id": "a784aa3b",
   "metadata": {},
   "outputs": [
    {
     "name": "stdout",
     "output_type": "stream",
     "text": [
      "15\n",
      "25\n",
      "45\n"
     ]
    }
   ],
   "source": [
    "def my_function(x):\n",
    "    return 5 * x\n",
    "\n",
    "print(my_function(3))\n",
    "print(my_function(5))\n",
    "print(my_function(9))"
   ]
  },
  {
   "cell_type": "code",
   "execution_count": 8,
   "id": "930395cd",
   "metadata": {},
   "outputs": [
    {
     "name": "stdout",
     "output_type": "stream",
     "text": [
      "Odd Number\n"
     ]
    }
   ],
   "source": [
    "def even_odd(n):\n",
    "    if n % 2 == 0:\n",
    "        print('Even number')\n",
    "    else:\n",
    "        print('Odd Number')\n",
    "\n",
    "even_odd(25)"
   ]
  },
  {
   "cell_type": "code",
   "execution_count": 8,
   "id": "abbace19",
   "metadata": {},
   "outputs": [
    {
     "name": "stdout",
     "output_type": "stream",
     "text": [
      "Addition : 45\n"
     ]
    }
   ],
   "source": [
    "def calculator(a, b):\n",
    "    # add = a + b   \n",
    "    return a+b     # return the addition\n",
    "\n",
    "# print(calculator(20, 25))   # take return value in variable\n",
    "print(\"Addition :\", calculator(20, 25))"
   ]
  },
  {
   "cell_type": "code",
   "execution_count": 22,
   "id": "0ea692c9",
   "metadata": {},
   "outputs": [
    {
     "name": "stdout",
     "output_type": "stream",
     "text": [
      "Addition:  12\n",
      "Subtraction:  8\n",
      "Multiplication:  20\n",
      "Division:  5.0\n"
     ]
    }
   ],
   "source": [
    "# Return Multiple Values\n",
    "def arithmetic(num1, num2):\n",
    "    add = num1 + num2\n",
    "    sub = num1 - num2\n",
    "    multiply = num1 * num2\n",
    "    division = num1 / num2\n",
    "    return add, sub, multiply, division\n",
    "\n",
    "a, b, c, d = arithmetic(10, 2)\n",
    "\n",
    "print(\"Addition: \", a)\n",
    "print(\"Subtraction: \", b)\n",
    "print(\"Multiplication: \", c)\n",
    "print(\"Division: \", d)"
   ]
  },
  {
   "cell_type": "markdown",
   "id": "534bbd1d",
   "metadata": {},
   "source": [
    "# Docstrings"
   ]
  },
  {
   "cell_type": "raw",
   "id": "4d62f4c9",
   "metadata": {},
   "source": [
    "In Python, the documentation string is also called a docstring. It is a descriptive text (like a comment) written by a programmer to let others know what block of code does."
   ]
  },
  {
   "cell_type": "raw",
   "id": "aca00e6b",
   "metadata": {},
   "source": [
    "We write docstring in source code and define it immediately after module, class, function, or method definition.\n",
    "It is being declared using triple single quotes (''' ''') or triple-double quote(\"\"\" \"\"\").\n",
    "We can access docstring using doc attribute (__doc__) for any object like list, tuple, dict, and user-defined function, etc."
   ]
  },
  {
   "cell_type": "markdown",
   "id": "a35a4f3d",
   "metadata": {},
   "source": [
    "## Single-Line Docstring"
   ]
  },
  {
   "cell_type": "raw",
   "id": "a6da56b3",
   "metadata": {},
   "source": [
    "The single-line docstring is a docstring that fits in one line. \n",
    "We can use the triple single or triple-double quotes to define it. \n",
    "The Opening and closing quotes need to be the same."
   ]
  },
  {
   "cell_type": "code",
   "execution_count": 15,
   "id": "9a1a906c",
   "metadata": {},
   "outputs": [
    {
     "name": "stdout",
     "output_type": "stream",
     "text": [
      "This function returns the factorial of a given number.\n"
     ]
    }
   ],
   "source": [
    "def factorial(x):\n",
    "    \"\"\"This function returns the factorial of a given number.\"\"\"\n",
    "    return x\n",
    "\n",
    "print(factorial.__doc__)"
   ]
  },
  {
   "cell_type": "raw",
   "id": "4e368d7a",
   "metadata": {},
   "source": [
    "When you use the help function to get the information of any function, it returns the docstring."
   ]
  },
  {
   "cell_type": "code",
   "execution_count": 16,
   "id": "cccc5a46",
   "metadata": {},
   "outputs": [
    {
     "name": "stdout",
     "output_type": "stream",
     "text": [
      "Help on function factorial in module __main__:\n",
      "\n",
      "factorial(x)\n",
      "    This function returns the factorial of a given number.\n",
      "\n",
      "None\n"
     ]
    }
   ],
   "source": [
    "print(help(factorial))  # pass function name to help() function"
   ]
  },
  {
   "cell_type": "markdown",
   "id": "8cee205f",
   "metadata": {},
   "source": [
    "## Multi-Line Docstring"
   ]
  },
  {
   "cell_type": "raw",
   "id": "3f2d5386",
   "metadata": {},
   "source": [
    "A multi-line Docstrings is the same single-line Docstrings, but it is followed by a single blank line with the descriptive text."
   ]
  },
  {
   "cell_type": "code",
   "execution_count": 20,
   "id": "8350be1e",
   "metadata": {},
   "outputs": [
    {
     "name": "stdout",
     "output_type": "stream",
     "text": [
      "              \n",
      "    Description of function\n",
      "                 \n",
      "    Arguments:   \n",
      "    parameter1(int):Description of parameter1\n",
      "                 \n",
      "    Returns:      \n",
      "    int value     \n",
      "    \n"
     ]
    }
   ],
   "source": [
    "def any_fun(parameter1):\n",
    "    \"\"\"              \n",
    "    Description of function\n",
    "                 \n",
    "    Arguments:   \n",
    "    parameter1(int):Description of parameter1\n",
    "                 \n",
    "    Returns:      \n",
    "    int value     \n",
    "    \"\"\"              \n",
    "print(any_fun.__doc__)"
   ]
  },
  {
   "cell_type": "markdown",
   "id": "33888481",
   "metadata": {},
   "source": [
    "# Local Variable in function"
   ]
  },
  {
   "cell_type": "raw",
   "id": "ef6550b5",
   "metadata": {},
   "source": [
    "A local variable is a variable declared inside the function that is not accessible from outside of the function. The scope of the local variable is limited to that function only where it is declared.\n",
    "If we try to access the local variable from the outside of the function, we will get the error as NameError."
   ]
  },
  {
   "cell_type": "code",
   "execution_count": 9,
   "id": "0aa4f224",
   "metadata": {},
   "outputs": [
    {
     "name": "stdout",
     "output_type": "stream",
     "text": [
      "Value is : 888\n"
     ]
    },
    {
     "ename": "NameError",
     "evalue": "name 'loc_var' is not defined",
     "output_type": "error",
     "traceback": [
      "\u001b[1;31m---------------------------------------------------------------------------\u001b[0m",
      "\u001b[1;31mNameError\u001b[0m                                 Traceback (most recent call last)",
      "Cell \u001b[1;32mIn[9], line 9\u001b[0m\n\u001b[0;32m      6\u001b[0m     \u001b[39mprint\u001b[39m(\u001b[39m\"\u001b[39m\u001b[39mValue is :\u001b[39m\u001b[39m\"\u001b[39m, loc_var)\n\u001b[0;32m      8\u001b[0m function1()\n\u001b[1;32m----> 9\u001b[0m function2()\n",
      "Cell \u001b[1;32mIn[9], line 6\u001b[0m, in \u001b[0;36mfunction2\u001b[1;34m()\u001b[0m\n\u001b[0;32m      5\u001b[0m \u001b[39mdef\u001b[39;00m \u001b[39mfunction2\u001b[39m():\n\u001b[1;32m----> 6\u001b[0m     \u001b[39mprint\u001b[39m(\u001b[39m\"\u001b[39m\u001b[39mValue is :\u001b[39m\u001b[39m\"\u001b[39m, loc_var)\n",
      "\u001b[1;31mNameError\u001b[0m: name 'loc_var' is not defined"
     ]
    }
   ],
   "source": [
    "def function1():\n",
    "    loc_var = 888  # local variable\n",
    "    print(\"Value is :\", loc_var)\n",
    "\n",
    "def function2():\n",
    "    print(\"Value is :\", loc_var)\n",
    "\n",
    "function1()\n",
    "function2()"
   ]
  },
  {
   "cell_type": "markdown",
   "id": "2d4969a4",
   "metadata": {},
   "source": [
    "# Global Variable in function"
   ]
  },
  {
   "cell_type": "raw",
   "id": "fd9a577e",
   "metadata": {},
   "source": [
    "A Global variable is a variable that declares outside of the function. The scope of a global variable is broad. It is accessible in all functions of the same module."
   ]
  },
  {
   "cell_type": "code",
   "execution_count": 1,
   "id": "0534dc1e",
   "metadata": {},
   "outputs": [
    {
     "name": "stdout",
     "output_type": "stream",
     "text": [
      "Value in 1nd function : 999\n",
      "Value in 2nd function : 999\n"
     ]
    }
   ],
   "source": [
    "global_var = 999\n",
    "\n",
    "def function1():\n",
    "    print(\"Value in 1nd function :\", global_var)\n",
    "\n",
    "def function2():\n",
    "    print(\"Value in 2nd function :\", global_var)\n",
    "\n",
    "function1()\n",
    "function2()"
   ]
  }
 ],
 "metadata": {
  "kernelspec": {
   "display_name": "Python 3.8.2 64-bit",
   "language": "python",
   "name": "python3"
  },
  "language_info": {
   "codemirror_mode": {
    "name": "ipython",
    "version": 3
   },
   "file_extension": ".py",
   "mimetype": "text/x-python",
   "name": "python",
   "nbconvert_exporter": "python",
   "pygments_lexer": "ipython3",
   "version": "3.12.1"
  },
  "vscode": {
   "interpreter": {
    "hash": "bcc88a5c2b6accdcaf39c87a931cb715cc1ab684beb32819a99a5a377f971b8d"
   }
  }
 },
 "nbformat": 4,
 "nbformat_minor": 5
}
