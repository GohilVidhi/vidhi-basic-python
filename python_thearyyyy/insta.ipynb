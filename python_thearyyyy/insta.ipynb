{
 "cells": [
  {
   "cell_type": "code",
   "execution_count": 2,
   "metadata": {},
   "outputs": [],
   "source": [
    "from instaloader import Instaloader,Profile\n",
    "\n",
    "l=Instaloader()\n",
    "\n",
    "PROFILE=\"sagar_jethwani\"\n",
    "\n",
    "profile=Profile.from_username(l.context,PROFILE)\n",
    "\n",
    "posts_sorted_by_likes=sorted(profile.get_posts(),key=lambda post: post.likes,reverse=True)\n",
    "\n",
    "for post in posts_sorted_by_likes:\n",
    "    l.download_post(post,PROFILE)\n"
   ]
  }
 ],
 "metadata": {
  "kernelspec": {
   "display_name": "Python 3.8.2 64-bit",
   "language": "python",
   "name": "python3"
  },
  "language_info": {
   "codemirror_mode": {
    "name": "ipython",
    "version": 3
   },
   "file_extension": ".py",
   "mimetype": "text/x-python",
   "name": "python",
   "nbconvert_exporter": "python",
   "pygments_lexer": "ipython3",
   "version": "3.8.2"
  },
  "orig_nbformat": 4,
  "vscode": {
   "interpreter": {
    "hash": "bcc88a5c2b6accdcaf39c87a931cb715cc1ab684beb32819a99a5a377f971b8d"
   }
  }
 },
 "nbformat": 4,
 "nbformat_minor": 2
}
