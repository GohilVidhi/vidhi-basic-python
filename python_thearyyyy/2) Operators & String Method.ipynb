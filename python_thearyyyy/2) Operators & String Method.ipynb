{
 "cells": [
  {
   "cell_type": "code",
   "execution_count": null,
   "id": "80408cf5",
   "metadata": {},
   "outputs": [],
   "source": [
    "# Python Operators\n",
    "\n",
    "# Python has six types of operators that we can use to perform different operation and produce a result.\n",
    "# 1.\tArithmetic operators\n",
    "# 2.\tRelational operators\n",
    "# 3.\tAssignment operators\n",
    "# 4.\tLogical operators\n",
    "# 5.\tMembership operators\n",
    "# 6.\tIdentity operators\n"
   ]
  },
  {
   "cell_type": "markdown",
   "id": "88fd5c61",
   "metadata": {},
   "source": [
    "# Arithmatic Operater"
   ]
  },
  {
   "cell_type": "code",
   "execution_count": 10,
   "id": "2cc4a86b",
   "metadata": {},
   "outputs": [
    {
     "name": "stdout",
     "output_type": "stream",
     "text": [
      "8\n"
     ]
    }
   ],
   "source": [
    "a = 2\n",
    "b = 3\n",
    "print(a**b) # 2*2*2"
   ]
  },
  {
   "cell_type": "code",
   "execution_count": 5,
   "id": "d5b49c12",
   "metadata": {},
   "outputs": [
    {
     "name": "stdout",
     "output_type": "stream",
     "text": [
      "-8.0\n"
     ]
    }
   ],
   "source": [
    "a = 90.00\n",
    "h = 98\n",
    "print(a-h)"
   ]
  },
  {
   "cell_type": "code",
   "execution_count": 46,
   "id": "1a9be2bc",
   "metadata": {},
   "outputs": [
    {
     "name": "stdout",
     "output_type": "stream",
     "text": [
      "450\n"
     ]
    }
   ],
   "source": [
    "a = 10\n",
    "b = 45\n",
    "print(a*b)"
   ]
  },
  {
   "cell_type": "code",
   "execution_count": 2,
   "id": "7f130da3",
   "metadata": {},
   "outputs": [
    {
     "name": "stdout",
     "output_type": "stream",
     "text": [
      "4\n"
     ]
    }
   ],
   "source": [
    "a =17\n",
    "b = 4\n",
    "print(a//b)"
   ]
  },
  {
   "cell_type": "code",
   "execution_count": 13,
   "id": "d5bf8508",
   "metadata": {},
   "outputs": [
    {
     "name": "stdout",
     "output_type": "stream",
     "text": [
      "6.75\n"
     ]
    }
   ],
   "source": [
    "a = 27\n",
    "b = 4\n",
    "print(a / b) "
   ]
  },
  {
   "cell_type": "code",
   "execution_count": 12,
   "id": "682fb60f",
   "metadata": {},
   "outputs": [
    {
     "name": "stdout",
     "output_type": "stream",
     "text": [
      "64\n"
     ]
    }
   ],
   "source": [
    "# Exponent\n",
    "# a = 2\n",
    "# b = 3\n",
    "print(8**2)\n",
    "# 8*8*8"
   ]
  },
  {
   "cell_type": "code",
   "execution_count": 7,
   "id": "67cb5b45",
   "metadata": {},
   "outputs": [
    {
     "name": "stdout",
     "output_type": "stream",
     "text": [
      "2\n"
     ]
    }
   ],
   "source": [
    "# floor division\n",
    "a = 10\n",
    "b = 4\n",
    "print(a // b)"
   ]
  },
  {
   "cell_type": "markdown",
   "id": "769e7a14",
   "metadata": {},
   "source": [
    "# Assignment Operator"
   ]
  },
  {
   "cell_type": "code",
   "execution_count": 14,
   "id": "1b0a2945",
   "metadata": {},
   "outputs": [
    {
     "name": "stdout",
     "output_type": "stream",
     "text": [
      "35\n"
     ]
    }
   ],
   "source": [
    "x = 10\n",
    "x += 25 # 10=10+25\n",
    "print(x)"
   ]
  },
  {
   "cell_type": "code",
   "execution_count": 15,
   "id": "63220e2b",
   "metadata": {},
   "outputs": [
    {
     "name": "stdout",
     "output_type": "stream",
     "text": [
      "3\n"
     ]
    }
   ],
   "source": [
    "x = 10\n",
    "# x = x - 5\n",
    "x =x -  7\n",
    "print(x)"
   ]
  },
  {
   "cell_type": "code",
   "execution_count": 8,
   "id": "36a78c3f",
   "metadata": {},
   "outputs": [
    {
     "name": "stdout",
     "output_type": "stream",
     "text": [
      "100\n"
     ]
    }
   ],
   "source": [
    "x = 10\n",
    "# x = 10 * 2\n",
    "x *= 10\n",
    "print(x)"
   ]
  },
  {
   "cell_type": "code",
   "execution_count": 19,
   "id": "c8893b55",
   "metadata": {},
   "outputs": [
    {
     "name": "stdout",
     "output_type": "stream",
     "text": [
      "4\n"
     ]
    }
   ],
   "source": [
    "x = 14\n",
    "# x = x / 2\n",
    "x //= 3\n",
    "print(x)"
   ]
  },
  {
   "cell_type": "code",
   "execution_count": 13,
   "id": "66b073a1",
   "metadata": {},
   "outputs": [
    {
     "name": "stdout",
     "output_type": "stream",
     "text": [
      "4\n"
     ]
    }
   ],
   "source": [
    "x = 12\n",
    "# x = x // 3\n",
    "x //= 3\n",
    "print(x)"
   ]
  },
  {
   "cell_type": "markdown",
   "id": "7723a173",
   "metadata": {},
   "source": [
    "# Relational (comparison) operators"
   ]
  },
  {
   "cell_type": "code",
   "execution_count": null,
   "id": "e66bcf76",
   "metadata": {},
   "outputs": [],
   "source": [
    "# Relational operators are also called comparison operators. \n",
    "# It performs a comparison between two values.\n",
    "# It returns a boolean  True or False depending upon the result of the comparison."
   ]
  },
  {
   "cell_type": "code",
   "execution_count": 23,
   "id": "aa27a89b",
   "metadata": {},
   "outputs": [
    {
     "name": "stdout",
     "output_type": "stream",
     "text": [
      "False\n"
     ]
    }
   ],
   "source": [
    "# comparison operators\n",
    "\n",
    "# a = (56<78)\n",
    "# a = (56>78)\n",
    "# a = (56>=56)\n",
    "# a = (56>=78)\n",
    "# a = (65==45)\n",
    "a = (78!=78)\n",
    "print(a)\n"
   ]
  },
  {
   "cell_type": "markdown",
   "id": "1749660d",
   "metadata": {},
   "source": [
    "# Logical operators"
   ]
  },
  {
   "cell_type": "code",
   "execution_count": null,
   "id": "ea40ec6f",
   "metadata": {},
   "outputs": [],
   "source": [
    "# Logical operators are useful when checking a condition is true or not. Python has three logical operators. \n",
    "# All logical operator returns a boolean value True or False depending on the condition in which it is used."
   ]
  },
  {
   "cell_type": "code",
   "execution_count": null,
   "id": "e6ee584d",
   "metadata": {},
   "outputs": [],
   "source": [
    "# there are 3 types of logical operators\n",
    "# 1.AND\n",
    "# 2.OR\n",
    "# 3.NOT "
   ]
  },
  {
   "cell_type": "code",
   "execution_count": 25,
   "id": "ae3f1727",
   "metadata": {},
   "outputs": [
    {
     "name": "stdout",
     "output_type": "stream",
     "text": [
      "True\n"
     ]
    }
   ],
   "source": [
    "x = 5\n",
    "\n",
    "print(x > 3 or x < 4)\n",
    "\n",
    "# returns True because one of the conditions are true (5 is greater than 3, but 5 is not less than 4)\n"
   ]
  },
  {
   "cell_type": "code",
   "execution_count": 26,
   "id": "706cdf20",
   "metadata": {},
   "outputs": [
    {
     "name": "stdout",
     "output_type": "stream",
     "text": [
      "True\n"
     ]
    }
   ],
   "source": [
    "x = 5\n",
    "\n",
    "print(x >  3 and x < 10)\n",
    "\n",
    "# returns True because 5 is greater than 3 AND 5 is less than 10\n"
   ]
  },
  {
   "cell_type": "code",
   "execution_count": 27,
   "id": "b620c0ff",
   "metadata": {},
   "outputs": [
    {
     "name": "stdout",
     "output_type": "stream",
     "text": [
      "True\n"
     ]
    }
   ],
   "source": [
    "x = 5\n",
    "\n",
    "print(not(x > 6 and x < 10))\n",
    "\n",
    "# returns False because not is used to reverse the result\n"
   ]
  },
  {
   "cell_type": "code",
   "execution_count": 24,
   "id": "83eccf19",
   "metadata": {},
   "outputs": [
    {
     "name": "stdout",
     "output_type": "stream",
     "text": [
      "All the numbers have boolean value as True\n"
     ]
    }
   ],
   "source": [
    "# Python program to demonstrate\n",
    "# logical and operator\n",
    " \n",
    "a = 10\n",
    "b = 12\n",
    "c = 0\n",
    " \n",
    "if a < b and c < a:\n",
    "    print(\"All the numbers have boolean value as True\")\n",
    "else:\n",
    "    print(\"Atleast one number has boolean value as False\")\n"
   ]
  },
  {
   "cell_type": "markdown",
   "id": "d667e468",
   "metadata": {},
   "source": []
  },
  {
   "cell_type": "markdown",
   "id": "d4e36b90",
   "metadata": {},
   "source": []
  },
  {
   "cell_type": "markdown",
   "id": "e9f1a01f",
   "metadata": {},
   "source": [
    "# Identity Operators"
   ]
  },
  {
   "cell_type": "raw",
   "id": "cd0c005b",
   "metadata": {},
   "source": [
    "is =  Returns True if both variables are the same object\n",
    "is not = Returns True if both variables are not the same object"
   ]
  },
  {
   "cell_type": "code",
   "execution_count": 31,
   "id": "7e270c2a",
   "metadata": {},
   "outputs": [
    {
     "name": "stdout",
     "output_type": "stream",
     "text": [
      "['apple', 'banana']\n",
      "True\n"
     ]
    }
   ],
   "source": [
    "x = [\"apple\", \"banana\"]\n",
    "y = [\"apple\", \"bananadddd\"]\n",
    "# print(z)\n",
    "print(x)\n",
    "\n",
    "print(x is not y)\n",
    "# print(x is y)\n",
    "# print(x == y)"
   ]
  },
  {
   "cell_type": "code",
   "execution_count": 13,
   "id": "4a1f7fc8",
   "metadata": {},
   "outputs": [
    {
     "name": "stdout",
     "output_type": "stream",
     "text": [
      "False\n",
      "True\n",
      "True\n"
     ]
    }
   ],
   "source": [
    "x = [\"apple\", \"banana\"]\n",
    "y = [\"apple\", \"pineapple\"]\n",
    "z = x\n",
    "\n",
    "print(x is not z)\n",
    "print(x is not y)\n",
    "print(x != y)"
   ]
  },
  {
   "cell_type": "markdown",
   "id": "399e4b67",
   "metadata": {},
   "source": [
    "# Membership Operators"
   ]
  },
  {
   "cell_type": "raw",
   "id": "38c2d4ac",
   "metadata": {},
   "source": [
    "in =  Returns True if a sequence with the specified value is present in the object\n",
    "not in = Returns True if a sequence with the specified value is not present in the object"
   ]
  },
  {
   "cell_type": "code",
   "execution_count": 36,
   "id": "47da58cc",
   "metadata": {},
   "outputs": [
    {
     "name": "stdout",
     "output_type": "stream",
     "text": [
      "False\n"
     ]
    }
   ],
   "source": [
    "x = [\"apple\", \"banana\"]\n",
    "\n",
    "print(\"banana\" not in x)\n",
    "# print(\"apple\" in x)"
   ]
  },
  {
   "cell_type": "code",
   "execution_count": 45,
   "id": "58360bdf",
   "metadata": {},
   "outputs": [
    {
     "name": "stdout",
     "output_type": "stream",
     "text": [
      "True\n",
      "False\n",
      "True\n"
     ]
    }
   ],
   "source": [
    "x = [\"apple\", \"banana\"]\n",
    "\n",
    "print(\"pineapple\" not in x)\n",
    "print(\"banana\" not in x)\n",
    "print(\"nilesh\" not in x)"
   ]
  },
  {
   "cell_type": "markdown",
   "id": "11cf60b9",
   "metadata": {},
   "source": [
    "# string method"
   ]
  },
  {
   "cell_type": "code",
   "execution_count": 1,
   "id": "860da583",
   "metadata": {},
   "outputs": [
    {
     "name": "stdout",
     "output_type": "stream",
     "text": [
      "myname \n",
      "    is \n",
      "    jadav \n",
      "    nilesh\n"
     ]
    }
   ],
   "source": [
    "a = \"path shala!\"\n",
    "print(len(a))\n",
    "# print(a[0:4:2])\n",
    "# print(a[1])\n",
    "print(a[-1])\n",
    "print(a[:])\n",
    "\n",
    "# a=\"123\"\n",
    "# a1='nilesh'\n",
    "# a2=\"\"\"nilesh\"\"\" \n",
    "# print(type(a))\n",
    "\n",
    "# name='myname is jadav nilesh'\n",
    "# name1=\"myname is jadav nilesh\"\n",
    "name2=\"\"\"myname \n",
    "    is \n",
    "    jadav \n",
    "    nilesh\"\"\"\n",
    "# # print(len(name))\n",
    "# print(name)\n",
    "# print(name1)\n",
    "print(name2)\n"
   ]
  },
  {
   "cell_type": "code",
   "execution_count": 53,
   "id": "2875a4a0",
   "metadata": {},
   "outputs": [
    {
     "name": "stdout",
     "output_type": "stream",
     "text": [
      "5\n"
     ]
    }
   ],
   "source": [
    "a = \"Hello, Pathshala!\"\n",
    "# print(len(a))\n",
    "print(len(a))"
   ]
  },
  {
   "cell_type": "code",
   "execution_count": 55,
   "id": "e2866817",
   "metadata": {},
   "outputs": [
    {
     "name": "stdout",
     "output_type": "stream",
     "text": [
      "False\n",
      "True\n"
     ]
    }
   ],
   "source": [
    "a = \"how are you??\"\n",
    "print('arewww' in a)\n",
    "print('?' in a)"
   ]
  },
  {
   "cell_type": "code",
   "execution_count": 22,
   "id": "f61d3b28",
   "metadata": {},
   "outputs": [
    {
     "name": "stdout",
     "output_type": "stream",
     "text": [
      "13\n",
      "loud!\n"
     ]
    }
   ],
   "source": [
    "a = \"coding cloud!\"\n",
    "\n",
    "print(len(a))\n",
    "# print(a[0:9:3])\n",
    "# print(a[0::2])\n",
    "# print(a[5:8])\n",
    "# print(a[2:])\n",
    "# print(a[0:])\n",
    "# print(a[0:10:2])\n",
    "# print(a[-5:])\n",
    "# print(a[::-1])\n",
    "# print(n[::-1])\n",
    "# print(a[0::2])"
   ]
  },
  {
   "cell_type": "code",
   "execution_count": 56,
   "id": "8291bdfb",
   "metadata": {},
   "outputs": [
    {
     "name": "stdout",
     "output_type": "stream",
     "text": [
      "HELLOW! WORLD\n"
     ]
    }
   ],
   "source": [
    "a = \"Hellow! world\"\n",
    "print(a.upper())"
   ]
  },
  {
   "cell_type": "code",
   "execution_count": 57,
   "id": "b3f61ba7",
   "metadata": {},
   "outputs": [
    {
     "name": "stdout",
     "output_type": "stream",
     "text": [
      "hellow! world\n"
     ]
    }
   ],
   "source": [
    "a = \"HELLOW! WORLD\"\n",
    "print(a.lower())"
   ]
  },
  {
   "cell_type": "code",
   "execution_count": 59,
   "id": "45f34176",
   "metadata": {},
   "outputs": [
    {
     "name": "stdout",
     "output_type": "stream",
     "text": [
      "True\n"
     ]
    }
   ],
   "source": [
    "a = \"CODING CLOUD!!\"\n",
    "print(a.isupper())"
   ]
  },
  {
   "cell_type": "code",
   "execution_count": 60,
   "id": "bf8541aa",
   "metadata": {},
   "outputs": [
    {
     "name": "stdout",
     "output_type": "stream",
     "text": [
      "False\n"
     ]
    }
   ],
   "source": [
    "a = \"COdiNG CLOUD!!\"\n",
    "print(a.isupper())"
   ]
  },
  {
   "cell_type": "code",
   "execution_count": 19,
   "id": "8f901a40",
   "metadata": {},
   "outputs": [
    {
     "name": "stdout",
     "output_type": "stream",
     "text": [
      "False\n"
     ]
    }
   ],
   "source": [
    "a = \"Coding cloud!!\"\n",
    "print(a.islower())"
   ]
  },
  {
   "cell_type": "code",
   "execution_count": 62,
   "id": "e3c6e892",
   "metadata": {},
   "outputs": [
    {
     "name": "stdout",
     "output_type": "stream",
     "text": [
      "True\n"
     ]
    }
   ],
   "source": [
    "a = \"coding cloud!!\"\n",
    "print(a.islower())"
   ]
  },
  {
   "cell_type": "code",
   "execution_count": 63,
   "id": "94d94471",
   "metadata": {},
   "outputs": [
    {
     "name": "stdout",
     "output_type": "stream",
     "text": [
      "Hello, How is you.\n"
     ]
    }
   ],
   "source": [
    "a = \"Hello, How Are you.\"\n",
    "print(a.replace(\"Are\",\"is\"))"
   ]
  },
  {
   "cell_type": "code",
   "execution_count": 20,
   "id": "273dba64",
   "metadata": {},
   "outputs": [
    {
     "name": "stdout",
     "output_type": "stream",
     "text": [
      "['Hello', 'How', 'Are', 'you!', 'hey']\n"
     ]
    }
   ],
   "source": [
    "a = \"Hello How Are you! hey\"\n",
    "b = a.split(\" \")\n",
    "print(b)"
   ]
  },
  {
   "cell_type": "code",
   "execution_count": 31,
   "id": "b245eed7",
   "metadata": {},
   "outputs": [
    {
     "name": "stdout",
     "output_type": "stream",
     "text": [
      "myname is helly\n",
      "myname,is,helly\n"
     ]
    }
   ],
   "source": [
    "a = (\"my\",\"name\",\"is\", \"helly\")\n",
    "b = \",\"\n",
    "print(\" \".join(a))\n",
    "print(b.join(a))"
   ]
  },
  {
   "cell_type": "code",
   "execution_count": 65,
   "id": "f507f8ea",
   "metadata": {},
   "outputs": [
    {
     "name": "stdout",
     "output_type": "stream",
     "text": [
      "hello fff  how are you\n"
     ]
    }
   ],
   "source": [
    "a = \"hello\"\n",
    "b = \"are you\"\n",
    "print(a+\" fff \"+ \" how \" +b)"
   ]
  },
  {
   "cell_type": "code",
   "execution_count": 36,
   "id": "82663056",
   "metadata": {},
   "outputs": [
    {
     "name": "stdout",
     "output_type": "stream",
     "text": [
      "my name is Dvs, my age is 23.\n"
     ]
    }
   ],
   "source": [
    "name = \"Dvs\"\n",
    "age = 23\n",
    "# print(\"{},{}\".format(arg1,arg2)\n",
    "# print(\"my name is {}, my age is {}\".format(name,age))\n",
    "# print(f\"my name is {name}, my age is {age}.\")\n",
    "print(\"my name is {} and my age is {}\".format(name,age))\n",
    "# print(\"my name\",name)"
   ]
  },
  {
   "cell_type": "code",
   "execution_count": 37,
   "id": "2ccd8831",
   "metadata": {},
   "outputs": [
    {
     "name": "stdout",
     "output_type": "stream",
     "text": [
      "my name is Divyesh\n"
     ]
    }
   ],
   "source": [
    "a = \"Divyesh\"\n",
    "b = \"my name is \" + a\n",
    "print(b)"
   ]
  },
  {
   "cell_type": "code",
   "execution_count": 69,
   "id": "c0c32493",
   "metadata": {},
   "outputs": [
    {
     "name": "stdout",
     "output_type": "stream",
     "text": [
      "my name is \\ \"helly\",i am student.\n"
     ]
    }
   ],
   "source": [
    "a = 'my name is \\\\ \"helly\" \\,i am student.'\n",
    "print(a)"
   ]
  },
  {
   "cell_type": "code",
   "execution_count": 39,
   "id": "7dafb3e6",
   "metadata": {},
   "outputs": [
    {
     "name": "stdout",
     "output_type": "stream",
     "text": [
      "my name is \\ \"helly\" \\,i am student.\n"
     ]
    }
   ],
   "source": [
    "a = \"my name is \\\\ \\\"helly\\\" \\\\,i am student.\"\n",
    "print(a)"
   ]
  },
  {
   "cell_type": "code",
   "execution_count": 73,
   "id": "c0acbf4c",
   "metadata": {},
   "outputs": [
    {
     "name": "stdout",
     "output_type": "stream",
     "text": [
      "my name is  \"helly\" \n",
      "\n",
      "i am student.\n"
     ]
    }
   ],
   "source": [
    "a = \"my name is  \\\"helly\\\" \\n\\ni am student.\"\n",
    "print(a)"
   ]
  },
  {
   "cell_type": "code",
   "execution_count": 72,
   "id": "61e0b278",
   "metadata": {},
   "outputs": [
    {
     "name": "stdout",
     "output_type": "stream",
     "text": [
      "my name is \t\ti am student.\n"
     ]
    }
   ],
   "source": [
    "a = \"my name is \\t\\ti am student.\"\n",
    "#    i am student.\n",
    "print(a)"
   ]
  },
  {
   "cell_type": "code",
   "execution_count": 38,
   "id": "84c4c2d9",
   "metadata": {},
   "outputs": [
    {
     "name": "stdout",
     "output_type": "stream",
     "text": [
      "True\n"
     ]
    }
   ],
   "source": [
    "print(10>5)"
   ]
  },
  {
   "cell_type": "code",
   "execution_count": 39,
   "id": "def99f12",
   "metadata": {},
   "outputs": [
    {
     "name": "stdout",
     "output_type": "stream",
     "text": [
      "False\n"
     ]
    }
   ],
   "source": [
    "print(10<5)"
   ]
  },
  {
   "cell_type": "code",
   "execution_count": 1,
   "id": "6d966380",
   "metadata": {},
   "outputs": [
    {
     "name": "stdout",
     "output_type": "stream",
     "text": [
      "False\n",
      "True\n"
     ]
    }
   ],
   "source": [
    "print(100 == 10)\n",
    "print(10==10)"
   ]
  },
  {
   "cell_type": "code",
   "execution_count": null,
   "id": "dabf4d62",
   "metadata": {},
   "outputs": [],
   "source": []
  }
 ],
 "metadata": {
  "kernelspec": {
   "display_name": "Python 3.8.2 64-bit",
   "language": "python",
   "name": "python3"
  },
  "language_info": {
   "codemirror_mode": {
    "name": "ipython",
    "version": 3
   },
   "file_extension": ".py",
   "mimetype": "text/x-python",
   "name": "python",
   "nbconvert_exporter": "python",
   "pygments_lexer": "ipython3",
   "version": "3.12.1"
  },
  "vscode": {
   "interpreter": {
    "hash": "bcc88a5c2b6accdcaf39c87a931cb715cc1ab684beb32819a99a5a377f971b8d"
   }
  }
 },
 "nbformat": 4,
 "nbformat_minor": 5
}
