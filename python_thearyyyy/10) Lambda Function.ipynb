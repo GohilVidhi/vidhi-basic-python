{
 "cells": [
  {
   "cell_type": "markdown",
   "id": "5bfd111e",
   "metadata": {},
   "source": [
    "###### Recursion"
   ]
  },
  {
   "cell_type": "markdown",
   "id": "1f96bffe",
   "metadata": {},
   "source": [
    "# Anonymous/Lambda Function"
   ]
  },
  {
   "cell_type": "raw",
   "id": "15f374c2",
   "metadata": {},
   "source": [
    "Sometimes we need to declare a function without any name. The nameless property function is called an anonymous function or lambda function.\n",
    "Normal function is declared using the def function. Whereas the anonymous function is declared using the lambda keyword.\n",
    "A lambda function can take any number of arguments, but can only have one expression."
   ]
  },
  {
   "cell_type": "raw",
   "id": "d4eb756c",
   "metadata": {},
   "source": [
    "Syntax :\n",
    "lambda arguments : expression"
   ]
  },
  {
   "cell_type": "code",
   "execution_count": 2,
   "id": "bc3bb0a0",
   "metadata": {},
   "outputs": [
    {
     "name": "stdout",
     "output_type": "stream",
     "text": [
      "235\n"
     ]
    }
   ],
   "source": [
    "# Add 10 to argument a.\n",
    "x = lambda a : a + 10  \n",
    "print(x(225))"
   ]
  },
  {
   "cell_type": "code",
   "execution_count": 1,
   "id": "ce2a4286",
   "metadata": {},
   "outputs": [
    {
     "name": "stdout",
     "output_type": "stream",
     "text": [
      "30\n"
     ]
    }
   ],
   "source": [
    "# Multiply argument a with argument b.\n",
    "x = lambda a, b : a * b\n",
    "print(x(5, 6))"
   ]
  },
  {
   "cell_type": "code",
   "execution_count": 27,
   "id": "93d94828",
   "metadata": {},
   "outputs": [
    {
     "name": "stdout",
     "output_type": "stream",
     "text": [
      "13\n"
     ]
    }
   ],
   "source": [
    "# Summarize argument a, b, and c\n",
    "x = lambda a, b, c : a + b + c\n",
    "print(x(5, 6, 2))"
   ]
  },
  {
   "cell_type": "markdown",
   "id": "c7166fc9",
   "metadata": {},
   "source": [
    "## filter() function"
   ]
  },
  {
   "cell_type": "raw",
   "id": "c5c96d85",
   "metadata": {},
   "source": [
    "filter function will return only true conditions\n",
    "\n",
    "syntax :\n",
    "filter(funtion, sequence)\n",
    "\n",
    "* function – Function argument is responsible for performing condition checking.\n",
    "* sequence – Sequence argument can be anything like list, tuple, string."
   ]
  },
  {
   "cell_type": "code",
   "execution_count": 1,
   "id": "6d6111bf",
   "metadata": {},
   "outputs": [
    {
     "name": "stdout",
     "output_type": "stream",
     "text": [
      "[1, 3, 5, 7]\n"
     ]
    }
   ],
   "source": [
    "a = [1,2,3,4,5,6,7,8]\n",
    "\n",
    "odd = list(filter(lambda x : x if x%2!=0 else '',a))\n",
    "\n",
    "print(odd)"
   ]
  },
  {
   "cell_type": "code",
   "execution_count": 1,
   "id": "3be64ec3",
   "metadata": {},
   "outputs": [
    {
     "name": "stdout",
     "output_type": "stream",
     "text": [
      "[6, 7, 8]\n"
     ]
    }
   ],
   "source": [
    "a = [1,2,3,4,5,6,7,8]\n",
    "\n",
    "b = list(filter(lambda x : x if x>5 else '',a))\n",
    "\n",
    "print(b)"
   ]
  },
  {
   "cell_type": "markdown",
   "id": "d3477941",
   "metadata": {},
   "source": [
    "## map() function"
   ]
  },
  {
   "cell_type": "raw",
   "id": "69faf876",
   "metadata": {},
   "source": [
    "map function works wilth list and it will apply any function to all element of list\n",
    "\n",
    "syntex :\n",
    "map(function,sequence)"
   ]
  },
  {
   "cell_type": "code",
   "execution_count": 1,
   "id": "8500e6d3",
   "metadata": {},
   "outputs": [
    {
     "name": "stdout",
     "output_type": "stream",
     "text": [
      "[2, 4, 6, 8, 10, 12]\n"
     ]
    }
   ],
   "source": [
    "a = [1,2,3,4,5,6]\n",
    "\n",
    "b = list(map(lambda x :x*2,a))\n",
    "print(b)"
   ]
  },
  {
   "cell_type": "code",
   "execution_count": 31,
   "id": "e258f44c",
   "metadata": {},
   "outputs": [
    {
     "name": "stdout",
     "output_type": "stream",
     "text": [
      "['RAM', 'SHYAM', 'KRISHNA', 'SHIV']\n"
     ]
    }
   ],
   "source": [
    "a = ['ram','shyam','krishna','shiv']\n",
    "\n",
    "b = list(map(lambda x:x.upper(),a))\n",
    "print(b)"
   ]
  },
  {
   "cell_type": "code",
   "execution_count": 32,
   "id": "ede5b44a",
   "metadata": {},
   "outputs": [
    {
     "name": "stdout",
     "output_type": "stream",
     "text": [
      "Cube values are: [8, 27, 64, 512, 729]\n"
     ]
    }
   ],
   "source": [
    "list1 = [2, 3, 4, 8, 9]\n",
    "list2 = list(map(lambda x: x*x*x, list1))\n",
    "print(\"Cube values are:\", list2)"
   ]
  },
  {
   "cell_type": "code",
   "execution_count": 5,
   "id": "384acaa3",
   "metadata": {},
   "outputs": [
    {
     "name": "stdout",
     "output_type": "stream",
     "text": [
      "[1, 'h', 3, 'h', 5, 'h', 7, 'h']\n"
     ]
    }
   ],
   "source": [
    "a = [1,2,3,4,5,6,7,8]\n",
    "\n",
    "odd = list(map(lambda x : x if x%2 != 0 else 'h',a))\n",
    "\n",
    "print(odd)"
   ]
  }
 ],
 "metadata": {
  "kernelspec": {
   "display_name": "Python 3.8.2 64-bit",
   "language": "python",
   "name": "python3"
  },
  "language_info": {
   "codemirror_mode": {
    "name": "ipython",
    "version": 3
   },
   "file_extension": ".py",
   "mimetype": "text/x-python",
   "name": "python",
   "nbconvert_exporter": "python",
   "pygments_lexer": "ipython3",
   "version": "3.8.2"
  },
  "vscode": {
   "interpreter": {
    "hash": "bcc88a5c2b6accdcaf39c87a931cb715cc1ab684beb32819a99a5a377f971b8d"
   }
  }
 },
 "nbformat": 4,
 "nbformat_minor": 5
}
