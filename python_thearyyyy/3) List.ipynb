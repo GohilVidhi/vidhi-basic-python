{
 "cells": [
  {
   "cell_type": "markdown",
   "id": "9e57b846",
   "metadata": {},
   "source": [
    "# List"
   ]
  },
  {
   "cell_type": "code",
   "execution_count": 1,
   "id": "46d6420e",
   "metadata": {},
   "outputs": [
    {
     "name": "stdout",
     "output_type": "stream",
     "text": [
      "1\n"
     ]
    }
   ],
   "source": [
    "# LIST are used to store multiple items in a single variable.\n",
    "# created using \"[]\".\n",
    "# Duplication allow\n",
    "# Mutable (Changeble)\n",
    "# Indexing Supporting\n",
    "\n",
    "l1=[111,22233,3,4,5,11,14,1,2,3,4,55,66]\n",
    "\n",
    "print(min(l1))\n",
    "\n",
    "# [1,2]\n",
    "# [22233,111]\n"
   ]
  },
  {
   "cell_type": "markdown",
   "id": "be81c72f",
   "metadata": {},
   "source": [
    "# List : Sequntial Datatype"
   ]
  },
  {
   "cell_type": "code",
   "execution_count": 20,
   "id": "16281dc7",
   "metadata": {},
   "outputs": [
    {
     "name": "stdout",
     "output_type": "stream",
     "text": [
      "[1, 1, 3.14, True, False, 'Tushar', None]\n"
     ]
    }
   ],
   "source": [
    "li = [1,1,3.14,True,False,\"Tushar\",None]\n",
    "print(li)"
   ]
  },
  {
   "cell_type": "code",
   "execution_count": 1,
   "id": "09382288",
   "metadata": {},
   "outputs": [
    {
     "name": "stdout",
     "output_type": "stream",
     "text": [
      "[50, [8, 7.5], (5, 'Dvs'), {True, 'Anand', 3.14}, {'Fruit': 'Apple'}]\n"
     ]
    }
   ],
   "source": [
    "li = [50,[8,7.5],(5,\"Dvs\"),{3.14,True,\"Anand\"},{\"Fruit\":\"Apple\"}]\n",
    "print(li)"
   ]
  },
  {
   "cell_type": "markdown",
   "id": "98bcb4e2",
   "metadata": {},
   "source": [
    "# Indexing"
   ]
  },
  {
   "cell_type": "code",
   "execution_count": 4,
   "id": "4f2f5ace",
   "metadata": {
    "scrolled": true
   },
   "outputs": [
    {
     "name": "stdout",
     "output_type": "stream",
     "text": [
      "None\n",
      "None\n",
      "[1, True, 'Tushar']\n",
      "[True, False, 'Tushar', None]\n",
      "[1, 3.14, True, False, 'Tushar']\n",
      "[1, 3.14, True, False, 'Tushar', None]\n",
      "[None, 'Tushar', False, True, 3.14, 1]\n"
     ]
    }
   ],
   "source": [
    "li = [1,3.14,True,False,\"Tushar\",None]\n",
    "print(li[5])\n",
    "print(li[-1])\n",
    "print(li[::2])\n",
    "#[Start:Stop:Step]\n",
    "#[0:(n-1):1]\n",
    "print(li[2:])\n",
    "print(li[:5])\n",
    "print(li[:])\n",
    "print(li[::-1])"
   ]
  },
  {
   "cell_type": "code",
   "execution_count": 5,
   "id": "f831d037",
   "metadata": {
    "scrolled": true
   },
   "outputs": [
    {
     "name": "stdout",
     "output_type": "stream",
     "text": [
      "[1, 3.14, 3.9, False, 'Tushar', None]\n"
     ]
    }
   ],
   "source": [
    "li = [1,3.14,True,False,\"Tushar\",None]\n",
    "li[2]=3.9\n",
    "print(li)"
   ]
  },
  {
   "cell_type": "code",
   "execution_count": 9,
   "id": "5323a800",
   "metadata": {
    "scrolled": true
   },
   "outputs": [
    {
     "name": "stdout",
     "output_type": "stream",
     "text": [
      "6\n",
      "[4, 5]\n",
      "[2, 3]\n"
     ]
    }
   ],
   "source": [
    "li = [1,5j,[1,2,3],[4,5,6]]\n",
    "print(li[3][2])\n",
    "print(li[3][:2])\n",
    "print(li[2][1:])"
   ]
  },
  {
   "cell_type": "markdown",
   "id": "e116f8c0",
   "metadata": {},
   "source": [
    "# Functions"
   ]
  },
  {
   "cell_type": "code",
   "execution_count": 10,
   "id": "be8f1a92",
   "metadata": {},
   "outputs": [
    {
     "data": {
      "text/plain": [
       "[1, 3.14, 56, 3j, 'string', True, False, None]"
      ]
     },
     "execution_count": 10,
     "metadata": {},
     "output_type": "execute_result"
    }
   ],
   "source": [
    "li = [1,3.14,3j,'string',True,False,None]\n",
    "li.insert(2,56)\n",
    "li"
   ]
  },
  {
   "cell_type": "code",
   "execution_count": 13,
   "id": "54772dbd",
   "metadata": {},
   "outputs": [
    {
     "name": "stdout",
     "output_type": "stream",
     "text": [
      "[1, 3.14, 'string', True, False, None]\n"
     ]
    }
   ],
   "source": [
    "li = [1,3.14,3j,'string',True,False,None]\n",
    "li.remove(3j)\n",
    "print(li)"
   ]
  },
  {
   "cell_type": "code",
   "execution_count": 14,
   "id": "d35f4b31",
   "metadata": {},
   "outputs": [
    {
     "data": {
      "text/plain": [
       "[None, False, True, 'string', 3j, 3.14, 1]"
      ]
     },
     "execution_count": 14,
     "metadata": {},
     "output_type": "execute_result"
    }
   ],
   "source": [
    "li = [1,3.14,3j,'string',True,False,None]\n",
    "li.reverse()\n",
    "li"
   ]
  },
  {
   "cell_type": "code",
   "execution_count": 15,
   "id": "3e15392e",
   "metadata": {},
   "outputs": [
    {
     "data": {
      "text/plain": [
       "[1, 3.14, 3j, 'string', 'kiran']"
      ]
     },
     "execution_count": 15,
     "metadata": {},
     "output_type": "execute_result"
    }
   ],
   "source": [
    "li = [1,3.14,3j,'string']\n",
    "li.append(\"kiran\")\n",
    "li"
   ]
  },
  {
   "cell_type": "code",
   "execution_count": 3,
   "id": "b2d463ce",
   "metadata": {},
   "outputs": [
    {
     "data": {
      "text/plain": [
       "[11, 22, 33, 1, 3.14, 3j, 'string']"
      ]
     },
     "execution_count": 3,
     "metadata": {},
     "output_type": "execute_result"
    }
   ],
   "source": [
    "li1 = [1,3.14,3j,'string']\n",
    "li2 = [11,22,33]\n",
    "li2.extend(li1)\n",
    "li2"
   ]
  },
  {
   "cell_type": "code",
   "execution_count": 12,
   "id": "5f56cf54",
   "metadata": {},
   "outputs": [
    {
     "data": {
      "text/plain": [
       "[1, 3.14, 3j, 'string', True, False, None]"
      ]
     },
     "execution_count": 12,
     "metadata": {},
     "output_type": "execute_result"
    }
   ],
   "source": [
    "li1 = [1,3.14,3j,'string']\n",
    "li2 = [True,False,None]\n",
    "li3 = li1+li2\n",
    "li3"
   ]
  },
  {
   "cell_type": "code",
   "execution_count": 21,
   "id": "ca16a32c",
   "metadata": {},
   "outputs": [
    {
     "data": {
      "text/plain": [
       "[1, 3.14, 3j]"
      ]
     },
     "execution_count": 21,
     "metadata": {},
     "output_type": "execute_result"
    }
   ],
   "source": [
    "li = [1,3.14,3j,'string']\n",
    "li.pop()\n",
    "li\n"
   ]
  },
  {
   "cell_type": "code",
   "execution_count": 22,
   "id": "4e845798",
   "metadata": {},
   "outputs": [
    {
     "data": {
      "text/plain": [
       "[3.14, 3j, 'string']"
      ]
     },
     "execution_count": 22,
     "metadata": {},
     "output_type": "execute_result"
    }
   ],
   "source": [
    "\n",
    "li = [1,3.14,3j,'string']\n",
    "li.pop(0)\n",
    "li"
   ]
  },
  {
   "cell_type": "code",
   "execution_count": 23,
   "id": "8c2cc707",
   "metadata": {},
   "outputs": [
    {
     "data": {
      "text/plain": [
       "[1, 3.14, 'string']"
      ]
     },
     "execution_count": 23,
     "metadata": {},
     "output_type": "execute_result"
    }
   ],
   "source": [
    "li = [1,3.14,3j,'string']\n",
    "li.pop(-2)\n",
    "li"
   ]
  },
  {
   "cell_type": "code",
   "execution_count": 1,
   "id": "ca116a50",
   "metadata": {},
   "outputs": [
    {
     "data": {
      "text/plain": [
       "[1, 2, 3, 4, 6, 7.23, 8, 10]"
      ]
     },
     "execution_count": 1,
     "metadata": {},
     "output_type": "execute_result"
    }
   ],
   "source": [
    "li = [3,4,6,7.23,10,1,2,8]\n",
    "li.sort()\n",
    "li"
   ]
  },
  {
   "cell_type": "code",
   "execution_count": 26,
   "id": "1b200560",
   "metadata": {},
   "outputs": [
    {
     "name": "stdout",
     "output_type": "stream",
     "text": [
      "[9, 8, 7, 6, 4, 3, 2, 1]\n"
     ]
    }
   ],
   "source": [
    "li = [3,4,6,9,7,1,2,8]\n",
    "li.sort(reverse=True)\n",
    "print(li)"
   ]
  },
  {
   "cell_type": "code",
   "execution_count": 28,
   "id": "2ef41889",
   "metadata": {},
   "outputs": [
    {
     "name": "stdout",
     "output_type": "stream",
     "text": [
      "D/i/v/y/e/s/h\n"
     ]
    }
   ],
   "source": [
    "li=['D','i','v','y','e','s','h']\n",
    "print(\"/\".join(li))"
   ]
  },
  {
   "cell_type": "code",
   "execution_count": null,
   "id": "0688e357",
   "metadata": {},
   "outputs": [],
   "source": [
    "a =int(input(\"enter a num: \"))\n",
    "print(a)"
   ]
  },
  {
   "cell_type": "code",
   "execution_count": 18,
   "id": "16e29cba",
   "metadata": {},
   "outputs": [
    {
     "name": "stdout",
     "output_type": "stream",
     "text": [
      "109\n"
     ]
    }
   ],
   "source": [
    "a=109\n",
    "print(a)"
   ]
  },
  {
   "cell_type": "code",
   "execution_count": null,
   "id": "e1a7fd24",
   "metadata": {},
   "outputs": [],
   "source": [
    "a=int(input(\"Enter A Number : \"))\n",
    "print(a)"
   ]
  }
 ],
 "metadata": {
  "kernelspec": {
   "display_name": "Python 3.8.2 64-bit",
   "language": "python",
   "name": "python3"
  },
  "language_info": {
   "codemirror_mode": {
    "name": "ipython",
    "version": 3
   },
   "file_extension": ".py",
   "mimetype": "text/x-python",
   "name": "python",
   "nbconvert_exporter": "python",
   "pygments_lexer": "ipython3",
   "version": "3.12.1"
  },
  "vscode": {
   "interpreter": {
    "hash": "bcc88a5c2b6accdcaf39c87a931cb715cc1ab684beb32819a99a5a377f971b8d"
   }
  }
 },
 "nbformat": 4,
 "nbformat_minor": 5
}
