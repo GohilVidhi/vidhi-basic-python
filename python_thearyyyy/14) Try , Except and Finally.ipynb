{
 "cells": [
  {
   "cell_type": "raw",
   "id": "3392cf1e",
   "metadata": {},
   "source": [
    "The try block lets you test a block of code for errors.\n",
    "The except block lets you handle the error.\n",
    "The else block lets you execute code when there is no error.\n",
    "The finally block lets you execute code, regardless of the result of the try- and except blocks"
   ]
  },
  {
   "cell_type": "markdown",
   "id": "3ca0a860",
   "metadata": {},
   "source": [
    "# Exception Handling"
   ]
  },
  {
   "cell_type": "raw",
   "id": "0a8338dd",
   "metadata": {},
   "source": []
  },
  {
   "cell_type": "raw",
   "id": "3a071149",
   "metadata": {},
   "source": [
    "try and except are exception handeling statement\n",
    "When an error occurs, or exception as we call it, Python will normally stop and generate an error message.\n",
    "These exceptions can be handled using the try statement."
   ]
  },
  {
   "cell_type": "code",
   "execution_count": 2,
   "id": "d782f349",
   "metadata": {},
   "outputs": [
    {
     "name": "stdout",
     "output_type": "stream",
     "text": [
      "An exception occurred\n"
     ]
    }
   ],
   "source": [
    "# x=1\n",
    "try:\n",
    "    print(x)\n",
    "except :\n",
    "    print(\"An exception occurred\")        \n",
    "\n",
    "# the try block raises an error, the except block will be executed."
   ]
  },
  {
   "cell_type": "code",
   "execution_count": 3,
   "id": "a20d30b7",
   "metadata": {},
   "outputs": [
    {
     "name": "stdout",
     "output_type": "stream",
     "text": [
      "10\n"
     ]
    }
   ],
   "source": [
    "try:\n",
    "    age = int(input('enter your age : '))\n",
    "    print(age)\n",
    "except:\n",
    "    print('value error')"
   ]
  },
  {
   "cell_type": "code",
   "execution_count": 4,
   "id": "b1b54c73",
   "metadata": {},
   "outputs": [],
   "source": [
    "try:\n",
    "    age = int(input('enter your age : '))\n",
    "except:\n",
    "    print('plese enter numbers')\n",
    "    age = int(input('enter your age : '))"
   ]
  },
  {
   "cell_type": "code",
   "execution_count": 16,
   "id": "b6eda01e",
   "metadata": {},
   "outputs": [
    {
     "name": "stdout",
     "output_type": "stream",
     "text": [
      "Variable y is not defined\n"
     ]
    },
    {
     "ename": "NameError",
     "evalue": "name 'y' is not defined",
     "output_type": "error",
     "traceback": [
      "\u001b[1;31m---------------------------------------------------------------------------\u001b[0m",
      "\u001b[1;31mNameError\u001b[0m                                 Traceback (most recent call last)",
      "Cell \u001b[1;32mIn[16], line 10\u001b[0m\n\u001b[0;32m      7\u001b[0m \u001b[38;5;28;01mexcept\u001b[39;00m:\n\u001b[0;32m      8\u001b[0m     \u001b[38;5;28mprint\u001b[39m(\u001b[38;5;124m\"\u001b[39m\u001b[38;5;124mSomething else went wrong\u001b[39m\u001b[38;5;124m\"\u001b[39m)\n\u001b[1;32m---> 10\u001b[0m \u001b[38;5;28mprint\u001b[39m(\u001b[43my\u001b[49m)\n",
      "\u001b[1;31mNameError\u001b[0m: name 'y' is not defined"
     ]
    }
   ],
   "source": [
    "# Many Exceptions :\n",
    "# y=10\n",
    "try:\n",
    "    print(y)\n",
    "except NameError:\n",
    "    print(\"Variable y is not defined\")\n",
    "except:\n",
    "    print(\"Something else went wrong\")\n",
    "\n",
    "print(y)"
   ]
  },
  {
   "cell_type": "code",
   "execution_count": 2,
   "id": "606a1a48",
   "metadata": {},
   "outputs": [
    {
     "name": "stdout",
     "output_type": "stream",
     "text": [
      "value error\n"
     ]
    }
   ],
   "source": [
    "try:\n",
    "    age = int(input('enter your age : '))\n",
    "except NameError :\n",
    "    print('name error')\n",
    "except ValueError:\n",
    "    print('value error')\n",
    "except TypeError:\n",
    "    print('type error')"
   ]
  },
  {
   "cell_type": "code",
   "execution_count": 2,
   "id": "0626913c",
   "metadata": {},
   "outputs": [
    {
     "name": "stdout",
     "output_type": "stream",
     "text": [
      "name error\n"
     ]
    }
   ],
   "source": [
    "X1=0\n",
    "try:\n",
    "    print(X)\n",
    "except NameError :\n",
    "    print('name error')\n",
    "except ValueError:\n",
    "    print('value error')\n",
    "except TypeError:\n",
    "    print('type error')"
   ]
  },
  {
   "cell_type": "code",
   "execution_count": 3,
   "id": "ba7a5c10",
   "metadata": {},
   "outputs": [
    {
     "name": "stdout",
     "output_type": "stream",
     "text": [
      "type error\n"
     ]
    }
   ],
   "source": [
    "try:\n",
    "    add = 45 + '12'\n",
    "except NameError :\n",
    "    print('name error')\n",
    "except ValueError:\n",
    "    print('value error')\n",
    "except TypeError:\n",
    "    print('type error')"
   ]
  },
  {
   "cell_type": "markdown",
   "id": "85850a39",
   "metadata": {},
   "source": [
    "## Else"
   ]
  },
  {
   "cell_type": "raw",
   "id": "9e68134d",
   "metadata": {},
   "source": [
    "when try successfully runs else will run."
   ]
  },
  {
   "cell_type": "code",
   "execution_count": 8,
   "id": "045c6c08",
   "metadata": {},
   "outputs": [
    {
     "name": "stdout",
     "output_type": "stream",
     "text": [
      "5\n",
      "Nothing went wrong\n"
     ]
    }
   ],
   "source": [
    "y=0\n",
    "try:\n",
    "    print(y)\n",
    "except:\n",
    "    print(\"Something went wrong\")\n",
    "else:\n",
    "    print(\"Nothing went wrong\")"
   ]
  },
  {
   "cell_type": "markdown",
   "id": "193bbddd",
   "metadata": {},
   "source": [
    "## Finally"
   ]
  },
  {
   "cell_type": "raw",
   "id": "570d3f2e",
   "metadata": {},
   "source": [
    "The finally block, if specified, will be executed regardless if the try block raises an error or not."
   ]
  },
  {
   "cell_type": "code",
   "execution_count": 16,
   "id": "438103e5",
   "metadata": {},
   "outputs": [
    {
     "name": "stdout",
     "output_type": "stream",
     "text": [
      "0\n",
      "Nothing went wrong\n"
     ]
    }
   ],
   "source": [
    "z = 0\n",
    "try:\n",
    "    print(z)\n",
    "except:\n",
    "    print(\"Something went wrong\")   \n",
    "finally:\n",
    "    print(\"Nothing went wrong\")"
   ]
  },
  {
   "cell_type": "code",
   "execution_count": 18,
   "id": "a402df5e",
   "metadata": {},
   "outputs": [
    {
     "name": "stdout",
     "output_type": "stream",
     "text": [
      "9\n",
      "The 'try except' is finished\n"
     ]
    }
   ],
   "source": [
    "x=0\n",
    "try:\n",
    "    print(x)\n",
    "except:\n",
    "    print(\"Something went wrong\")\n",
    "finally:\n",
    "    print(\"The 'try except' is finished\")"
   ]
  }
 ],
 "metadata": {
  "kernelspec": {
   "display_name": "Python 3.8.2 64-bit",
   "language": "python",
   "name": "python3"
  },
  "language_info": {
   "codemirror_mode": {
    "name": "ipython",
    "version": 3
   },
   "file_extension": ".py",
   "mimetype": "text/x-python",
   "name": "python",
   "nbconvert_exporter": "python",
   "pygments_lexer": "ipython3",
   "version": "3.12.1"
  },
  "vscode": {
   "interpreter": {
    "hash": "bcc88a5c2b6accdcaf39c87a931cb715cc1ab684beb32819a99a5a377f971b8d"
   }
  }
 },
 "nbformat": 4,
 "nbformat_minor": 5
}
