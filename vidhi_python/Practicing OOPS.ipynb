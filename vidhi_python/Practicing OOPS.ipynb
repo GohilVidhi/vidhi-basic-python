{
 "cells": [
  {
   "cell_type": "code",
   "execution_count": null,
   "id": "514fad66",
   "metadata": {},
   "outputs": [],
   "source": [
    "#full form of OOPS (object oriented programming system)"
   ]
  },
  {
   "cell_type": "code",
   "execution_count": null,
   "id": "777e18b7",
   "metadata": {},
   "outputs": [],
   "source": []
  },
  {
   "cell_type": "code",
   "execution_count": 1,
   "id": "168213be",
   "metadata": {},
   "outputs": [],
   "source": [
    "# what is class?\n",
    "# class is blue print to create a different methods that apply to class"
   ]
  },
  {
   "cell_type": "code",
   "execution_count": null,
   "id": "1138fff6",
   "metadata": {},
   "outputs": [],
   "source": [
    "#create class"
   ]
  },
  {
   "cell_type": "code",
   "execution_count": 9,
   "id": "02c4d68d",
   "metadata": {},
   "outputs": [],
   "source": [
    "class Greeting:\n",
    "    x='hello'"
   ]
  },
  {
   "cell_type": "code",
   "execution_count": null,
   "id": "73c4a178",
   "metadata": {},
   "outputs": [],
   "source": [
    "#create object"
   ]
  },
  {
   "cell_type": "code",
   "execution_count": 11,
   "id": "ffd95d60",
   "metadata": {},
   "outputs": [
    {
     "data": {
      "text/plain": [
       "'hello'"
      ]
     },
     "execution_count": 11,
     "metadata": {},
     "output_type": "execute_result"
    }
   ],
   "source": [
    "deep=Greeting()\n",
    "deep.x"
   ]
  },
  {
   "cell_type": "code",
   "execution_count": 12,
   "id": "f8ec4add",
   "metadata": {},
   "outputs": [
    {
     "data": {
      "text/plain": [
       "'hello'"
      ]
     },
     "execution_count": 12,
     "metadata": {},
     "output_type": "execute_result"
    }
   ],
   "source": [
    "raju=Greeting()\n",
    "raju.x"
   ]
  },
  {
   "cell_type": "code",
   "execution_count": 13,
   "id": "3e64a02a",
   "metadata": {},
   "outputs": [],
   "source": [
    "# what is self?\n",
    "# self parameter is reference to current instance of class that is  use for accessing attribute and methods of the class.\n",
    "#we can take anything in place of self but as standard we take self."
   ]
  },
  {
   "cell_type": "code",
   "execution_count": 14,
   "id": "73473999",
   "metadata": {},
   "outputs": [],
   "source": [
    "class Cars:\n",
    "    def top_speed(self):\n",
    "        print('Car speed is 180km/h')\n",
    "        \n",
    "    def mileage(self):\n",
    "        print('mileage is 60')"
   ]
  },
  {
   "cell_type": "code",
   "execution_count": 15,
   "id": "182b52ce",
   "metadata": {},
   "outputs": [],
   "source": [
    "toyota=Cars()"
   ]
  },
  {
   "cell_type": "code",
   "execution_count": 18,
   "id": "198ce058",
   "metadata": {},
   "outputs": [
    {
     "name": "stdout",
     "output_type": "stream",
     "text": [
      "Car speed is 180km/h\n"
     ]
    }
   ],
   "source": [
    "toyota.top_speed()"
   ]
  },
  {
   "cell_type": "code",
   "execution_count": 20,
   "id": "7d032b80",
   "metadata": {},
   "outputs": [
    {
     "name": "stdout",
     "output_type": "stream",
     "text": [
      "mileage is 60\n"
     ]
    }
   ],
   "source": [
    "toyota.mileage()"
   ]
  },
  {
   "cell_type": "code",
   "execution_count": 22,
   "id": "f7fbfee9",
   "metadata": {},
   "outputs": [],
   "source": [
    "class Car:\n",
    "    def top_speed(self,tp):\n",
    "        self.tp=tp\n",
    "        \n",
    "        print(f'top speed is {self.tp}')\n",
    "        \n",
    "    def mileage(self,ml):\n",
    "        self.ml=ml\n",
    "        print(f'top speed is {self.ml}')\n",
    "        "
   ]
  },
  {
   "cell_type": "code",
   "execution_count": 23,
   "id": "ecee0fc3",
   "metadata": {},
   "outputs": [
    {
     "name": "stdout",
     "output_type": "stream",
     "text": [
      "top speed is 180\n"
     ]
    }
   ],
   "source": [
    "toyota=Car()\n",
    "\n",
    "toyota.top_speed(180)"
   ]
  },
  {
   "cell_type": "code",
   "execution_count": null,
   "id": "8482aabf",
   "metadata": {},
   "outputs": [],
   "source": [
    "#init is also called magic method"
   ]
  },
  {
   "cell_type": "code",
   "execution_count": 26,
   "id": "c792a5cf",
   "metadata": {},
   "outputs": [],
   "source": [
    "class Car:\n",
    "    def __init__(self,name,age):\n",
    "        \n",
    "        self.name=name\n",
    "        self.age=age\n",
    "        \n",
    "        print(f' My name is {self.name},My age is {self.age}')"
   ]
  },
  {
   "cell_type": "code",
   "execution_count": 27,
   "id": "9f82fc43",
   "metadata": {},
   "outputs": [
    {
     "name": "stdout",
     "output_type": "stream",
     "text": [
      " My name is Deep,My age is 18\n"
     ]
    }
   ],
   "source": [
    "toyota=Car('Deep',18)"
   ]
  },
  {
   "cell_type": "markdown",
   "id": "f79a95b5",
   "metadata": {},
   "source": [
    "# Inheritance"
   ]
  },
  {
   "cell_type": "markdown",
   "id": "ffe0cb2e",
   "metadata": {},
   "source": [
    "# single level inheritance"
   ]
  },
  {
   "cell_type": "code",
   "execution_count": 28,
   "id": "5bb6ebee",
   "metadata": {},
   "outputs": [],
   "source": [
    "class Parent:\n",
    "    def fun1(self):\n",
    "        print('This is parent class')\n",
    "        \n",
    "class child(Parent):\n",
    "    def fun2(self):\n",
    "        print('This is child class')"
   ]
  },
  {
   "cell_type": "code",
   "execution_count": 29,
   "id": "743414e9",
   "metadata": {},
   "outputs": [
    {
     "name": "stdout",
     "output_type": "stream",
     "text": [
      "This is parent class\n"
     ]
    }
   ],
   "source": [
    "obj=child()\n",
    "obj.fun1()"
   ]
  },
  {
   "cell_type": "markdown",
   "id": "ce5bd02d",
   "metadata": {},
   "source": [
    "# Multilevel Inheritance"
   ]
  },
  {
   "cell_type": "code",
   "execution_count": 30,
   "id": "215a927d",
   "metadata": {},
   "outputs": [],
   "source": [
    "class GrandParent:\n",
    "    def fun1(self):\n",
    "        print('This is GrandParent Class')\n",
    "        \n",
    "class Parent(GrandParent):\n",
    "    def fun2(self):\n",
    "        print('This is parent class')\n",
    "        \n",
    "class child(Parent):\n",
    "    def fun3(self):\n",
    "        print('This is child class')"
   ]
  },
  {
   "cell_type": "code",
   "execution_count": 31,
   "id": "075455d8",
   "metadata": {},
   "outputs": [
    {
     "name": "stdout",
     "output_type": "stream",
     "text": [
      "This is GrandParent Class\n"
     ]
    }
   ],
   "source": [
    "obj=Parent()\n",
    "obj.fun1()"
   ]
  },
  {
   "cell_type": "markdown",
   "id": "6dc63b12",
   "metadata": {},
   "source": [
    "# MultipleLevel Inheritance"
   ]
  },
  {
   "cell_type": "code",
   "execution_count": 33,
   "id": "6d40ea51",
   "metadata": {},
   "outputs": [],
   "source": [
    "class GrandParent:\n",
    "    def fun1(self):\n",
    "        print('This is GrandParent Class')\n",
    "        \n",
    "class Parent:\n",
    "    def fun2(self):\n",
    "        print('This is parent class')\n",
    "        \n",
    "class child(GrandParent,Parent):\n",
    "    def fun3(self):\n",
    "        print('This is child class')"
   ]
  },
  {
   "cell_type": "code",
   "execution_count": 34,
   "id": "232517ed",
   "metadata": {},
   "outputs": [
    {
     "name": "stdout",
     "output_type": "stream",
     "text": [
      "This is parent class\n"
     ]
    }
   ],
   "source": [
    "obj=child()\n",
    "obj.fun2()"
   ]
  },
  {
   "cell_type": "code",
   "execution_count": 35,
   "id": "e50eaa24",
   "metadata": {},
   "outputs": [
    {
     "name": "stdout",
     "output_type": "stream",
     "text": [
      "This is GrandParent Class\n"
     ]
    }
   ],
   "source": [
    "obj.fun1()"
   ]
  },
  {
   "cell_type": "code",
   "execution_count": null,
   "id": "fc9ffa92",
   "metadata": {},
   "outputs": [],
   "source": []
  }
 ],
 "metadata": {
  "kernelspec": {
   "display_name": "Python 3 (ipykernel)",
   "language": "python",
   "name": "python3"
  },
  "language_info": {
   "codemirror_mode": {
    "name": "ipython",
    "version": 3
   },
   "file_extension": ".py",
   "mimetype": "text/x-python",
   "name": "python",
   "nbconvert_exporter": "python",
   "pygments_lexer": "ipython3",
   "version": "3.9.12"
  }
 },
 "nbformat": 4,
 "nbformat_minor": 5
}
