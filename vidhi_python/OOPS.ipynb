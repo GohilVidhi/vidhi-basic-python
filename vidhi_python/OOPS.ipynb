{
 "cells": [
  {
   "cell_type": "code",
   "execution_count": null,
   "id": "aa8c4136",
   "metadata": {},
   "outputs": [],
   "source": [
    "# what is class?\n",
    "# class is blue print to creat a differt methodes that apply to class"
   ]
  },
  {
   "cell_type": "code",
   "execution_count": null,
   "id": "6f4bbdbf",
   "metadata": {},
   "outputs": [
    {
     "name": "stdout",
     "output_type": "stream",
     "text": [
      "<class 'str'>\n"
     ]
    }
   ],
   "source": [
    "a = 'sting'\n",
    "print(type(a))"
   ]
  },
  {
   "cell_type": "code",
   "execution_count": null,
   "id": "a6ee42fe",
   "metadata": {},
   "outputs": [
    {
     "data": {
      "text/plain": [
       "'STING'"
      ]
     },
     "execution_count": 2,
     "metadata": {},
     "output_type": "execute_result"
    }
   ],
   "source": [
    "a.upper() #here sting is class and upper is mathod"
   ]
  },
  {
   "cell_type": "code",
   "execution_count": null,
   "id": "91312518",
   "metadata": {},
   "outputs": [],
   "source": [
    "num = 45825"
   ]
  },
  {
   "cell_type": "code",
   "execution_count": null,
   "id": "72f6bfec",
   "metadata": {},
   "outputs": [
    {
     "name": "stdout",
     "output_type": "stream",
     "text": [
      "<class 'int'>\n"
     ]
    }
   ],
   "source": [
    "print(type(num))"
   ]
  },
  {
   "cell_type": "code",
   "execution_count": null,
   "id": "5a2751d8",
   "metadata": {},
   "outputs": [
    {
     "ename": "AttributeError",
     "evalue": "'int' object has no attribute 'upper'",
     "output_type": "error",
     "traceback": [
      "\u001b[1;31m---------------------------------------------------------------------------\u001b[0m",
      "\u001b[1;31mAttributeError\u001b[0m                            Traceback (most recent call last)",
      "Input \u001b[1;32mIn [5]\u001b[0m, in \u001b[0;36m<cell line: 1>\u001b[1;34m()\u001b[0m\n\u001b[1;32m----> 1\u001b[0m \u001b[43mnum\u001b[49m\u001b[38;5;241;43m.\u001b[39;49m\u001b[43mupper\u001b[49m()\n",
      "\u001b[1;31mAttributeError\u001b[0m: 'int' object has no attribute 'upper'"
     ]
    }
   ],
   "source": [
    "num.upper()  #we can not use differt class methos to any other class unless both are inherirant"
   ]
  },
  {
   "cell_type": "code",
   "execution_count": null,
   "id": "f98d9eb3",
   "metadata": {},
   "outputs": [],
   "source": [
    "# ceating a class"
   ]
  },
  {
   "cell_type": "code",
   "execution_count": null,
   "id": "035b7f24",
   "metadata": {},
   "outputs": [],
   "source": [
    "class Greating:\n",
    "    a = 'hello'"
   ]
  },
  {
   "cell_type": "code",
   "execution_count": null,
   "id": "8f4c55cf",
   "metadata": {},
   "outputs": [],
   "source": [
    "#creat object"
   ]
  },
  {
   "cell_type": "code",
   "execution_count": null,
   "id": "53e4880b",
   "metadata": {},
   "outputs": [],
   "source": [
    "deep = Greating()"
   ]
  },
  {
   "cell_type": "code",
   "execution_count": null,
   "id": "637bbb10",
   "metadata": {},
   "outputs": [
    {
     "data": {
      "text/plain": [
       "'hello'"
      ]
     },
     "execution_count": 12,
     "metadata": {},
     "output_type": "execute_result"
    }
   ],
   "source": [
    "deep.a"
   ]
  },
  {
   "cell_type": "code",
   "execution_count": null,
   "id": "0dde4293",
   "metadata": {},
   "outputs": [],
   "source": [
    "hardik = Greating()"
   ]
  },
  {
   "cell_type": "code",
   "execution_count": null,
   "id": "aa2c4097",
   "metadata": {},
   "outputs": [
    {
     "data": {
      "text/plain": [
       "'hello'"
      ]
     },
     "execution_count": 14,
     "metadata": {},
     "output_type": "execute_result"
    }
   ],
   "source": [
    "hardik.a"
   ]
  },
  {
   "cell_type": "code",
   "execution_count": null,
   "id": "b5181845",
   "metadata": {},
   "outputs": [],
   "source": [
    "# what is self?\n",
    "# self parameter is referance to current instance of class that is  use for accessing attribute and methods of the class.\n",
    "#we can take anything in place of self but as standard we take self."
   ]
  },
  {
   "cell_type": "code",
   "execution_count": 18,
   "id": "74ecc6ca",
   "metadata": {},
   "outputs": [],
   "source": [
    "class Car:\n",
    "    \n",
    "    def top_speed(self):\n",
    "        \n",
    "        print('speed is 181km/h')\n",
    "        \n",
    "    def milage(self):\n",
    "        print('milage is 26')"
   ]
  },
  {
   "cell_type": "code",
   "execution_count": 19,
   "id": "4dabb30c",
   "metadata": {},
   "outputs": [],
   "source": [
    "tata = Car()"
   ]
  },
  {
   "cell_type": "code",
   "execution_count": 20,
   "id": "94bb65d5",
   "metadata": {},
   "outputs": [
    {
     "name": "stdout",
     "output_type": "stream",
     "text": [
      "milage is 26\n"
     ]
    }
   ],
   "source": [
    "tata.milage()"
   ]
  },
  {
   "cell_type": "code",
   "execution_count": 21,
   "id": "55485a49",
   "metadata": {},
   "outputs": [
    {
     "name": "stdout",
     "output_type": "stream",
     "text": [
      "speed is 181km/h\n"
     ]
    }
   ],
   "source": [
    "tata.top_speed()"
   ]
  },
  {
   "cell_type": "code",
   "execution_count": null,
   "id": "5a2d41f5",
   "metadata": {},
   "outputs": [],
   "source": [
    "mahindra = Car()"
   ]
  },
  {
   "cell_type": "code",
   "execution_count": null,
   "id": "63571c47",
   "metadata": {},
   "outputs": [
    {
     "name": "stdout",
     "output_type": "stream",
     "text": [
      "speed is 180km/h\n"
     ]
    }
   ],
   "source": [
    "mahindra.top_speed()"
   ]
  },
  {
   "cell_type": "code",
   "execution_count": null,
   "id": "50c405b9",
   "metadata": {},
   "outputs": [],
   "source": []
  },
  {
   "cell_type": "code",
   "execution_count": 12,
   "id": "630aab2d",
   "metadata": {},
   "outputs": [],
   "source": [
    "class Car:\n",
    "    \n",
    "    def top_speed(self,tp):\n",
    "        self.tp = tp\n",
    "        print(f'speed is {self.tp}km/h')\n",
    "        \n",
    "    def milage(self,mi):\n",
    "        self.mi = mi\n",
    "        print(f'milage is {self.mi}')\n",
    "        \n",
    "    def info(self):\n",
    "        print(tp,mi)\n",
    "        "
   ]
  },
  {
   "cell_type": "code",
   "execution_count": null,
   "id": "68eba563",
   "metadata": {},
   "outputs": [],
   "source": [
    "tata = Car()"
   ]
  },
  {
   "cell_type": "code",
   "execution_count": null,
   "id": "4e8e7f24",
   "metadata": {},
   "outputs": [
    {
     "name": "stdout",
     "output_type": "stream",
     "text": [
      "speed is 200km/h\n"
     ]
    }
   ],
   "source": [
    "tata.top_speed(200)"
   ]
  },
  {
   "cell_type": "code",
   "execution_count": null,
   "id": "0b704e43",
   "metadata": {},
   "outputs": [
    {
     "name": "stdout",
     "output_type": "stream",
     "text": [
      "speed is 220km/h\n"
     ]
    }
   ],
   "source": [
    "tata.top_speed(220)"
   ]
  },
  {
   "cell_type": "code",
   "execution_count": 11,
   "id": "c83c19b8",
   "metadata": {},
   "outputs": [
    {
     "ename": "NameError",
     "evalue": "name 'tata' is not defined",
     "output_type": "error",
     "traceback": [
      "\u001b[1;31m---------------------------------------------------------------------------\u001b[0m",
      "\u001b[1;31mNameError\u001b[0m                                 Traceback (most recent call last)",
      "Cell \u001b[1;32mIn[11], line 1\u001b[0m\n\u001b[1;32m----> 1\u001b[0m \u001b[43mtata\u001b[49m\u001b[38;5;241m.\u001b[39minfo()\n",
      "\u001b[1;31mNameError\u001b[0m: name 'tata' is not defined"
     ]
    }
   ],
   "source": [
    "tata.info()"
   ]
  },
  {
   "cell_type": "code",
   "execution_count": null,
   "id": "329c6cba",
   "metadata": {},
   "outputs": [],
   "source": []
  },
  {
   "cell_type": "code",
   "execution_count": null,
   "id": "a5907099",
   "metadata": {},
   "outputs": [],
   "source": []
  },
  {
   "cell_type": "code",
   "execution_count": null,
   "id": "05f00ce2",
   "metadata": {},
   "outputs": [],
   "source": [
    "mahindra = Car()"
   ]
  },
  {
   "cell_type": "code",
   "execution_count": null,
   "id": "44b9fa55",
   "metadata": {},
   "outputs": [
    {
     "name": "stdout",
     "output_type": "stream",
     "text": [
      "speed is 180km/h\n"
     ]
    }
   ],
   "source": [
    "mahindra.top_speed(180)"
   ]
  },
  {
   "cell_type": "code",
   "execution_count": null,
   "id": "f802786b",
   "metadata": {},
   "outputs": [
    {
     "data": {
      "text/plain": [
       "220"
      ]
     },
     "execution_count": 47,
     "metadata": {},
     "output_type": "execute_result"
    }
   ],
   "source": [
    "tata.tp"
   ]
  },
  {
   "cell_type": "code",
   "execution_count": 10,
   "id": "4a17f21f",
   "metadata": {},
   "outputs": [
    {
     "ename": "NameError",
     "evalue": "name 'mahindra' is not defined",
     "output_type": "error",
     "traceback": [
      "\u001b[1;31m---------------------------------------------------------------------------\u001b[0m",
      "\u001b[1;31mNameError\u001b[0m                                 Traceback (most recent call last)",
      "Cell \u001b[1;32mIn[10], line 1\u001b[0m\n\u001b[1;32m----> 1\u001b[0m \u001b[43mmahindra\u001b[49m\u001b[38;5;241m.\u001b[39mtp\n",
      "\u001b[1;31mNameError\u001b[0m: name 'mahindra' is not defined"
     ]
    }
   ],
   "source": [
    "mahindra.tp"
   ]
  },
  {
   "cell_type": "code",
   "execution_count": null,
   "id": "69da9860",
   "metadata": {},
   "outputs": [],
   "source": []
  },
  {
   "cell_type": "code",
   "execution_count": null,
   "id": "07754bd0",
   "metadata": {},
   "outputs": [],
   "source": [
    "# __init__ method called as constructor\n",
    "\n",
    "# also magic mathod or dundur method"
   ]
  },
  {
   "cell_type": "code",
   "execution_count": 9,
   "id": "09eb1d6f",
   "metadata": {},
   "outputs": [
    {
     "name": "stdout",
     "output_type": "stream",
     "text": [
      "hi my name is deep and my age is 20\n"
     ]
    }
   ],
   "source": [
    "class Bio:\n",
    "    \n",
    "    def __init__(self,name,age):\n",
    "        self.name =name\n",
    "        self.age = age\n",
    "        \n",
    "        print(f'hi my name is {self.name} and my age is {self.age}')\n",
    "        \n",
    "deep = Bio('deep',20)"
   ]
  },
  {
   "cell_type": "code",
   "execution_count": null,
   "id": "dc92fef0",
   "metadata": {},
   "outputs": [
    {
     "name": "stdout",
     "output_type": "stream",
     "text": [
      "hi my name is hardik and my age is 25\n"
     ]
    }
   ],
   "source": [
    "hardik = Bio('hardik',25)  # init method directly execute while creating object"
   ]
  },
  {
   "cell_type": "code",
   "execution_count": 8,
   "id": "13691d27",
   "metadata": {},
   "outputs": [
    {
     "name": "stdout",
     "output_type": "stream",
     "text": [
      "helooo\n",
      "lwncforn\n",
      "dsf\n"
     ]
    }
   ],
   "source": [
    "print(\"helooo\")\n",
    "print(\"lwncforn\")\n",
    "print(\"dsf\")\n"
   ]
  }
 ],
 "metadata": {
  "kernelspec": {
   "display_name": "Python 3 (ipykernel)",
   "language": "python",
   "name": "python3"
  },
  "language_info": {
   "codemirror_mode": {
    "name": "ipython",
    "version": 3
   },
   "file_extension": ".py",
   "mimetype": "text/x-python",
   "name": "python",
   "nbconvert_exporter": "python",
   "pygments_lexer": "ipython3",
   "version": "3.12.1"
  }
 },
 "nbformat": 4,
 "nbformat_minor": 5
}
