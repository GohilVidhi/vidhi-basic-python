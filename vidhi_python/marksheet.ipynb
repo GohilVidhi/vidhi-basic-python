{
 "cells": [
  {
   "cell_type": "code",
   "execution_count": 2,
   "id": "0e5d4302-8c49-4f26-bb9a-a3aa3608c8a2",
   "metadata": {},
   "outputs": [
    {
     "name": "stdout",
     "output_type": "stream",
     "text": [
      "enter your name bhargav\n",
      "enter s1 mark 98\n",
      "enter s2 mark 97\n",
      "enter s3 mark 67\n"
     ]
    },
    {
     "name": "stdout",
     "output_type": "stream",
     "text": [
      "name  bhargav\n",
      "percentage 87.33333333333333\n",
      "Grade A\n"
     ]
    }
   ],
   "source": [
    "nm=input(\"enter your name\")\n",
    "m1=int(input(\"enter s1 mark\"))\n",
    "m2=int(input(\"enter s2 mark\"))\n",
    "m3=int(input(\"enter s3 mark\"))\n",
    "tot=m1+m2+m3\n",
    "per=tot/3\n",
    "print(\"name \",nm)\n",
    "print(\"percentage\",per)\n",
    "if(m1>40 and m2>40 and m3>40 and per>80):\n",
    "    print(\"Grade A\")\n",
    "elif(m1>40 and m2>40 and m3>40 and per>65 and per<80):\n",
    "    print(\"Grade B\")\n",
    "elif(m1>40 and m2>40 and m3>40 and per>50 and per<65):\n",
    "    print(\"Grade C\")\n",
    "else:\n",
    "    print(\"FAILE\")\n",
    "\n",
    "\n"
   ]
  },
  {
   "cell_type": "code",
   "execution_count": null,
   "id": "b9184d3f-af02-4b75-8b2a-eefcadb85a0f",
   "metadata": {},
   "outputs": [],
   "source": []
  },
  {
   "cell_type": "code",
   "execution_count": 1,
   "id": "21479f7a-4b8b-4a3e-ac23-c8f0dc288072",
   "metadata": {},
   "outputs": [],
   "source": [
    "balance=100\n",
    "entered_pin = input(\"Enter your PIN: \")\n",
    "action = input(\"Enter 'D' for deposit or 'W' for withdrawal: \")\n",
    "if action.upper() == 'D':\n",
    "            amount = float(input(\"Enter amount to deposit: \"))\n",
    "            balance+=amount\n",
    "            print(\"Deposite successfull current amount is\",balance)\n",
    "elif action.upper() == 'W':\n",
    "            amount = float(input(\"Enter amount to withdraw: \"))\n",
    "            balance-=amount\n",
    "            print(\"Withdraw  successfull current amount is\",balance)\n",
    "\n",
    "            \n",
    "           \n",
    "           "
   ]
  },
  {
   "cell_type": "code",
   "execution_count": 3,
   "id": "22b12288-723f-46fd-beba-d1d005eb00e4",
   "metadata": {},
   "outputs": [
    {
     "name": "stdout",
     "output_type": "stream",
     "text": [
      "Enter a password (must contain uppercase, lowercase, digit, special char, and be 8 characters long):  bh$12Bqe\n"
     ]
    },
    {
     "name": "stdout",
     "output_type": "stream",
     "text": [
      "Password is valid.\n"
     ]
    }
   ],
   "source": [
    "import re\n",
    "\n",
    "def validate_password(password):\n",
    "    # Check length\n",
    "    if len(password) != 8:\n",
    "        return False\n",
    "\n",
    "    # Check for at least one uppercase letter\n",
    "    if not re.search(r'[A-Z]', password):\n",
    "        return False\n",
    "\n",
    "    # Check for at least one lowercase letter\n",
    "    if not re.search(r'[a-z]', password):\n",
    "        return False\n",
    "\n",
    "    # Check for at least one digit\n",
    "    if not re.search(r'\\d', password):\n",
    "        return False\n",
    "\n",
    "    # Check for at least one special character\n",
    "    if not re.search(r'[!@#$%^&*()-_=+{};:,<.>?/\\|~]', password):\n",
    "        return False\n",
    "\n",
    "    return True\n",
    "\n",
    "# Example usage\n",
    "\n",
    "while True:\n",
    "        password = input(\"Enter a password (must contain uppercase, lowercase, digit, special char, and be 8 characters long): \")\n",
    "        if validate_password(password):\n",
    "            print(\"Password is valid.\")\n",
    "            break\n",
    "        else:\n",
    "            print(\"Password does not meet requirements.\")\n",
    "\n"
   ]
  },
  {
   "cell_type": "code",
   "execution_count": null,
   "id": "2134a690-3798-44f8-a25d-ddc11da7e36b",
   "metadata": {},
   "outputs": [],
   "source": []
  }
 ],
 "metadata": {
  "kernelspec": {
   "display_name": "Python 3 (ipykernel)",
   "language": "python",
   "name": "python3"
  },
  "language_info": {
   "codemirror_mode": {
    "name": "ipython",
    "version": 3
   },
   "file_extension": ".py",
   "mimetype": "text/x-python",
   "name": "python",
   "nbconvert_exporter": "python",
   "pygments_lexer": "ipython3",
   "version": "3.12.1"
  }
 },
 "nbformat": 4,
 "nbformat_minor": 5
}
